{
  "nbformat": 4,
  "nbformat_minor": 0,
  "metadata": {
    "colab": {
      "name": "Masters - Explainability LDA-1.ipynb",
      "provenance": [],
      "collapsed_sections": [],
      "authorship_tag": "ABX9TyNGpOp+lmFw51noKyRsdGy0",
      "include_colab_link": true
    },
    "kernelspec": {
      "name": "python3",
      "display_name": "Python 3"
    },
    "language_info": {
      "name": "python"
    }
  },
  "cells": [
    {
      "cell_type": "markdown",
      "metadata": {
        "id": "view-in-github",
        "colab_type": "text"
      },
      "source": [
        "<a href=\"https://colab.research.google.com/github/harikrishnareddymallavarapu/Masters/blob/main/Masters_Explainability_LDA_1.ipynb\" target=\"_parent\"><img src=\"https://colab.research.google.com/assets/colab-badge.svg\" alt=\"Open In Colab\"/></a>"
      ]
    },
    {
      "cell_type": "code",
      "metadata": {
        "colab": {
          "base_uri": "https://localhost:8080/"
        },
        "id": "RQkb7XqXFlKc",
        "outputId": "dc38af2f-3e47-4847-93ca-3b3603edf075"
      },
      "source": [
        "from google.colab import drive\n",
        "drive.mount('/content/drive')\n",
        "drive.mount(\"/content/drive\", force_remount=True)"
      ],
      "execution_count": null,
      "outputs": [
        {
          "output_type": "stream",
          "text": [
            "Mounted at /content/drive\n",
            "Mounted at /content/drive\n"
          ],
          "name": "stdout"
        }
      ]
    },
    {
      "cell_type": "code",
      "metadata": {
        "id": "sQbjQGgkHFWf"
      },
      "source": [
        "import pandas as pd"
      ],
      "execution_count": null,
      "outputs": []
    },
    {
      "cell_type": "code",
      "metadata": {
        "id": "VrWBCdxsFly6"
      },
      "source": [
        "import pickle\n",
        "\n",
        "pkl_file = open('drive/My Drive/Top-Ex/data_lemmatized_new.pkl', 'rb')\n",
        "data_lemmatized = pickle.load(pkl_file)\n",
        "pkl_file.close()\n",
        "\n",
        "pkl_file = open('drive/My Drive/Top-Ex/dictionary_new.pkl', 'rb')\n",
        "dictionary = pickle.load(pkl_file)\n",
        "pkl_file.close()\n",
        "\n",
        "pkl_file = open('drive/My Drive/Top-Ex/corpus_new.pkl', 'rb')\n",
        "corpus = pickle.load(pkl_file)\n",
        "pkl_file.close()\n",
        "\n",
        "pkl_file = open('drive/My Drive/Top-Ex/lda_20_new.pkl', 'rb')\n",
        "lda_model = pickle.load(pkl_file)\n",
        "pkl_file.close()"
      ],
      "execution_count": null,
      "outputs": []
    },
    {
      "cell_type": "code",
      "metadata": {
        "id": "DwtwXr1ZGyzN"
      },
      "source": [
        "gamma, _ = lda_model.inference(corpus)\n",
        "topics = gamma / gamma.sum(axis=1)[:,None]"
      ],
      "execution_count": null,
      "outputs": []
    },
    {
      "cell_type": "code",
      "metadata": {
        "colab": {
          "base_uri": "https://localhost:8080/",
          "height": 220
        },
        "id": "hAsWmOXaG5lk",
        "outputId": "486250aa-48a8-4653-df66-0e10662b6c51"
      },
      "source": [
        "topics = pd.DataFrame(topics)\n",
        "topics.reset_index(drop=True)\n",
        "topics.rename(columns = lambda x: 'Topic_'+str(x+1).zfill(2), inplace=True)\n",
        "topics.head()"
      ],
      "execution_count": null,
      "outputs": [
        {
          "output_type": "execute_result",
          "data": {
            "text/html": [
              "<div>\n",
              "<style scoped>\n",
              "    .dataframe tbody tr th:only-of-type {\n",
              "        vertical-align: middle;\n",
              "    }\n",
              "\n",
              "    .dataframe tbody tr th {\n",
              "        vertical-align: top;\n",
              "    }\n",
              "\n",
              "    .dataframe thead th {\n",
              "        text-align: right;\n",
              "    }\n",
              "</style>\n",
              "<table border=\"1\" class=\"dataframe\">\n",
              "  <thead>\n",
              "    <tr style=\"text-align: right;\">\n",
              "      <th></th>\n",
              "      <th>Topic_01</th>\n",
              "      <th>Topic_02</th>\n",
              "      <th>Topic_03</th>\n",
              "      <th>Topic_04</th>\n",
              "      <th>Topic_05</th>\n",
              "      <th>Topic_06</th>\n",
              "      <th>Topic_07</th>\n",
              "      <th>Topic_08</th>\n",
              "      <th>Topic_09</th>\n",
              "      <th>Topic_10</th>\n",
              "      <th>Topic_11</th>\n",
              "      <th>Topic_12</th>\n",
              "      <th>Topic_13</th>\n",
              "      <th>Topic_14</th>\n",
              "      <th>Topic_15</th>\n",
              "      <th>Topic_16</th>\n",
              "      <th>Topic_17</th>\n",
              "      <th>Topic_18</th>\n",
              "      <th>Topic_19</th>\n",
              "      <th>Topic_20</th>\n",
              "    </tr>\n",
              "  </thead>\n",
              "  <tbody>\n",
              "    <tr>\n",
              "      <th>0</th>\n",
              "      <td>0.067322</td>\n",
              "      <td>0.007678</td>\n",
              "      <td>0.000438</td>\n",
              "      <td>0.243083</td>\n",
              "      <td>0.005309</td>\n",
              "      <td>0.000731</td>\n",
              "      <td>0.006883</td>\n",
              "      <td>0.086805</td>\n",
              "      <td>0.071966</td>\n",
              "      <td>0.001694</td>\n",
              "      <td>0.022597</td>\n",
              "      <td>0.010804</td>\n",
              "      <td>0.133596</td>\n",
              "      <td>0.000640</td>\n",
              "      <td>0.000602</td>\n",
              "      <td>0.005302</td>\n",
              "      <td>0.333108</td>\n",
              "      <td>0.000389</td>\n",
              "      <td>0.000407</td>\n",
              "      <td>0.000643</td>\n",
              "    </tr>\n",
              "    <tr>\n",
              "      <th>1</th>\n",
              "      <td>0.021442</td>\n",
              "      <td>0.087206</td>\n",
              "      <td>0.014915</td>\n",
              "      <td>0.002733</td>\n",
              "      <td>0.001883</td>\n",
              "      <td>0.030547</td>\n",
              "      <td>0.009134</td>\n",
              "      <td>0.033421</td>\n",
              "      <td>0.097003</td>\n",
              "      <td>0.045649</td>\n",
              "      <td>0.148593</td>\n",
              "      <td>0.004537</td>\n",
              "      <td>0.140650</td>\n",
              "      <td>0.020172</td>\n",
              "      <td>0.278967</td>\n",
              "      <td>0.007261</td>\n",
              "      <td>0.047378</td>\n",
              "      <td>0.001608</td>\n",
              "      <td>0.001532</td>\n",
              "      <td>0.005370</td>\n",
              "    </tr>\n",
              "    <tr>\n",
              "      <th>2</th>\n",
              "      <td>0.004298</td>\n",
              "      <td>0.082594</td>\n",
              "      <td>0.008812</td>\n",
              "      <td>0.003834</td>\n",
              "      <td>0.002370</td>\n",
              "      <td>0.086435</td>\n",
              "      <td>0.010681</td>\n",
              "      <td>0.064172</td>\n",
              "      <td>0.013705</td>\n",
              "      <td>0.022234</td>\n",
              "      <td>0.122880</td>\n",
              "      <td>0.019330</td>\n",
              "      <td>0.175133</td>\n",
              "      <td>0.018992</td>\n",
              "      <td>0.024341</td>\n",
              "      <td>0.189761</td>\n",
              "      <td>0.067170</td>\n",
              "      <td>0.046291</td>\n",
              "      <td>0.036694</td>\n",
              "      <td>0.000275</td>\n",
              "    </tr>\n",
              "    <tr>\n",
              "      <th>3</th>\n",
              "      <td>0.014538</td>\n",
              "      <td>0.075287</td>\n",
              "      <td>0.018987</td>\n",
              "      <td>0.000233</td>\n",
              "      <td>0.067784</td>\n",
              "      <td>0.039817</td>\n",
              "      <td>0.006462</td>\n",
              "      <td>0.131653</td>\n",
              "      <td>0.044122</td>\n",
              "      <td>0.004669</td>\n",
              "      <td>0.059677</td>\n",
              "      <td>0.005896</td>\n",
              "      <td>0.221646</td>\n",
              "      <td>0.014398</td>\n",
              "      <td>0.025254</td>\n",
              "      <td>0.213624</td>\n",
              "      <td>0.030434</td>\n",
              "      <td>0.005583</td>\n",
              "      <td>0.019625</td>\n",
              "      <td>0.000310</td>\n",
              "    </tr>\n",
              "    <tr>\n",
              "      <th>4</th>\n",
              "      <td>0.001945</td>\n",
              "      <td>0.035472</td>\n",
              "      <td>0.037059</td>\n",
              "      <td>0.000629</td>\n",
              "      <td>0.015938</td>\n",
              "      <td>0.000957</td>\n",
              "      <td>0.001271</td>\n",
              "      <td>0.054531</td>\n",
              "      <td>0.006660</td>\n",
              "      <td>0.001672</td>\n",
              "      <td>0.015477</td>\n",
              "      <td>0.002575</td>\n",
              "      <td>0.177025</td>\n",
              "      <td>0.273508</td>\n",
              "      <td>0.012672</td>\n",
              "      <td>0.002322</td>\n",
              "      <td>0.260723</td>\n",
              "      <td>0.071673</td>\n",
              "      <td>0.002247</td>\n",
              "      <td>0.025643</td>\n",
              "    </tr>\n",
              "  </tbody>\n",
              "</table>\n",
              "</div>"
            ],
            "text/plain": [
              "   Topic_01  Topic_02  Topic_03  ...  Topic_18  Topic_19  Topic_20\n",
              "0  0.067322  0.007678  0.000438  ...  0.000389  0.000407  0.000643\n",
              "1  0.021442  0.087206  0.014915  ...  0.001608  0.001532  0.005370\n",
              "2  0.004298  0.082594  0.008812  ...  0.046291  0.036694  0.000275\n",
              "3  0.014538  0.075287  0.018987  ...  0.005583  0.019625  0.000310\n",
              "4  0.001945  0.035472  0.037059  ...  0.071673  0.002247  0.025643\n",
              "\n",
              "[5 rows x 20 columns]"
            ]
          },
          "metadata": {
            "tags": []
          },
          "execution_count": 6
        }
      ]
    },
    {
      "cell_type": "code",
      "metadata": {
        "colab": {
          "base_uri": "https://localhost:8080/"
        },
        "id": "-jG1jAKhG8lb",
        "outputId": "82d0f288-e66f-4951-c3e1-ab5f61ce84e9"
      },
      "source": [
        "print(lda_model.print_topics())"
      ],
      "execution_count": null,
      "outputs": [
        {
          "output_type": "stream",
          "text": [
            "[(0, '0.039*\"election\" + 0.038*\"campaign\" + 0.029*\"vote\" + 0.027*\"presidential\" + 0.021*\"republican\" + 0.020*\"candidate\" + 0.018*\"nominee\" + 0.018*\"voter\" + 0.016*\"democratic\" + 0.015*\"win\"'), (1, '0.030*\"car\" + 0.012*\"city\" + 0.010*\"water\" + 0.010*\"say\" + 0.010*\"vehicle\" + 0.008*\"area\" + 0.008*\"home\" + 0.006*\"plane\" + 0.006*\"leave\" + 0.006*\"building\"'), (2, '0.026*\"study\" + 0.020*\"drug\" + 0.015*\"patient\" + 0.015*\"researcher\" + 0.015*\"test\" + 0.013*\"research\" + 0.013*\"scientist\" + 0.013*\"pain\" + 0.012*\"brain\" + 0.012*\"health\"'), (3, '0.032*\"would\" + 0.028*\"law\" + 0.018*\"plan\" + 0.018*\"federal\" + 0.017*\"tax\" + 0.016*\"bill\" + 0.014*\"program\" + 0.013*\"rule\" + 0.013*\"pass\" + 0.012*\"government\"'), (4, '0.049*\"game\" + 0.039*\"team\" + 0.023*\"play\" + 0.022*\"player\" + 0.020*\"season\" + 0.016*\"sport\" + 0.015*\"win\" + 0.014*\"first\" + 0.011*\"second\" + 0.010*\"score\"'), (5, '0.062*\"woman\" + 0.035*\"family\" + 0.034*\"school\" + 0.033*\"child\" + 0.024*\"man\" + 0.022*\"black\" + 0.019*\"white\" + 0.018*\"college\" + 0.018*\"young\" + 0.014*\"parent\"'), (6, '0.036*\"business\" + 0.034*\"company\" + 0.027*\"money\" + 0.021*\"sell\" + 0.021*\"pay\" + 0.020*\"price\" + 0.019*\"sale\" + 0.019*\"buy\" + 0.018*\"investor\" + 0.016*\"store\"'), (7, '0.016*\"world\" + 0.015*\"people\" + 0.011*\"power\" + 0.010*\"write\" + 0.009*\"american\" + 0.009*\"country\" + 0.009*\"many\" + 0.008*\"history\" + 0.008*\"political\" + 0.007*\"right\"'), (8, '0.041*\"case\" + 0.028*\"court\" + 0.025*\"charge\" + 0.015*\"prison\" + 0.014*\"federal\" + 0.013*\"criminal\" + 0.012*\"lawyer\" + 0.012*\"crime\" + 0.011*\"attorney\" + 0.011*\"sentence\"'), (9, '0.018*\"market\" + 0.013*\"economy\" + 0.013*\"percent\" + 0.012*\"high\" + 0.012*\"increase\" + 0.011*\"rate\" + 0.010*\"growth\" + 0.010*\"job\" + 0.009*\"low\" + 0.009*\"trade\"'), (10, '0.066*\"say\" + 0.041*\"go\" + 0.027*\"get\" + 0.027*\"people\" + 0.026*\"think\" + 0.021*\"know\" + 0.018*\"want\" + 0.018*\"thing\" + 0.016*\"tell\" + 0.016*\"make\"'), (11, '0.023*\"report\" + 0.020*\"email\" + 0.014*\"information\" + 0.013*\"claim\" + 0.013*\"source\" + 0.012*\"investigation\" + 0.011*\"medium\" + 0.011*\"intelligence\" + 0.011*\"write\" + 0.011*\"story\"'), (12, '0.019*\"may\" + 0.018*\"make\" + 0.016*\"even\" + 0.015*\"could\" + 0.013*\"time\" + 0.012*\"much\" + 0.009*\"still\" + 0.009*\"new\" + 0.009*\"see\" + 0.009*\"would\"'), (13, '0.031*\"attack\" + 0.021*\"military\" + 0.020*\"say\" + 0.016*\"isis\" + 0.016*\"group\" + 0.012*\"force\" + 0.011*\"terrorist\" + 0.010*\"war\" + 0.010*\"government\" + 0.010*\"kill\"'), (14, '0.060*\"police\" + 0.041*\"officer\" + 0.040*\"student\" + 0.035*\"say\" + 0.019*\"kill\" + 0.018*\"man\" + 0.018*\"shoot\" + 0.016*\"gun\" + 0.012*\"video\" + 0.011*\"suspect\"'), (15, '0.026*\"show\" + 0.013*\"film\" + 0.009*\"video\" + 0.009*\"movie\" + 0.009*\"star\" + 0.008*\"also\" + 0.008*\"good\" + 0.008*\"tv\" + 0.008*\"first\" + 0.007*\"watch\"'), (16, '0.032*\"say\" + 0.017*\"would\" + 0.013*\"also\" + 0.009*\"week\" + 0.008*\"make\" + 0.008*\"include\" + 0.007*\"issue\" + 0.007*\"take\" + 0.007*\"last\" + 0.007*\"office\"'), (17, '0.080*\"country\" + 0.045*\"government\" + 0.030*\"immigration\" + 0.023*\"border\" + 0.021*\"state\" + 0.016*\"immigrant\" + 0.014*\"policy\" + 0.012*\"order\" + 0.012*\"mexican\" + 0.011*\"wall\"'), (18, '0.028*\"space\" + 0.022*\"food\" + 0.019*\"planet\" + 0.017*\"human\" + 0.015*\"earth\" + 0.015*\"animal\" + 0.014*\"mission\" + 0.013*\"dog\" + 0.012*\"japanese\" + 0.010*\"eat\"'), (19, '0.079*\"company\" + 0.028*\"apple\" + 0.021*\"technology\" + 0.018*\"product\" + 0.017*\"employee\" + 0.016*\"model\" + 0.015*\"new\" + 0.013*\"user\" + 0.013*\"tesla\" + 0.012*\"service\"')]\n"
          ],
          "name": "stdout"
        }
      ]
    },
    {
      "cell_type": "code",
      "metadata": {
        "id": "3dYrBmohrfiL",
        "colab": {
          "base_uri": "https://localhost:8080/"
        },
        "outputId": "c74dec93-4b2e-4336-bdc4-09ec906027ef"
      },
      "source": [
        "corpus[0]"
      ],
      "execution_count": null,
      "outputs": [
        {
          "output_type": "execute_result",
          "data": {
            "text/plain": [
              "[(0, 1),\n",
              " (1, 1),\n",
              " (2, 1),\n",
              " (3, 10),\n",
              " (4, 1),\n",
              " (5, 1),\n",
              " (6, 1),\n",
              " (7, 1),\n",
              " (8, 2),\n",
              " (9, 3),\n",
              " (10, 2),\n",
              " (11, 1),\n",
              " (12, 1),\n",
              " (13, 1),\n",
              " (14, 1),\n",
              " (15, 1),\n",
              " (16, 1),\n",
              " (17, 1),\n",
              " (18, 1),\n",
              " (19, 1),\n",
              " (20, 1),\n",
              " (21, 1),\n",
              " (22, 3),\n",
              " (23, 2),\n",
              " (24, 1),\n",
              " (25, 1),\n",
              " (26, 1),\n",
              " (27, 2),\n",
              " (28, 3),\n",
              " (29, 1),\n",
              " (30, 1),\n",
              " (31, 1),\n",
              " (32, 1),\n",
              " (33, 1),\n",
              " (34, 1),\n",
              " (35, 2),\n",
              " (36, 1),\n",
              " (37, 1),\n",
              " (38, 1),\n",
              " (39, 3),\n",
              " (40, 1),\n",
              " (41, 1),\n",
              " (42, 1),\n",
              " (43, 1),\n",
              " (44, 2),\n",
              " (45, 8),\n",
              " (46, 2),\n",
              " (47, 1),\n",
              " (48, 1),\n",
              " (49, 2),\n",
              " (50, 1),\n",
              " (51, 1),\n",
              " (52, 1),\n",
              " (53, 1),\n",
              " (54, 1),\n",
              " (55, 1),\n",
              " (56, 1),\n",
              " (57, 1),\n",
              " (58, 3),\n",
              " (59, 1),\n",
              " (60, 1),\n",
              " (61, 1),\n",
              " (62, 1),\n",
              " (63, 1),\n",
              " (64, 1),\n",
              " (65, 1),\n",
              " (66, 2),\n",
              " (67, 1),\n",
              " (68, 1),\n",
              " (69, 1),\n",
              " (70, 1),\n",
              " (71, 1),\n",
              " (72, 1),\n",
              " (73, 1),\n",
              " (74, 1),\n",
              " (75, 1),\n",
              " (76, 1),\n",
              " (77, 1),\n",
              " (78, 1),\n",
              " (79, 1),\n",
              " (80, 2),\n",
              " (81, 2),\n",
              " (82, 1),\n",
              " (83, 1),\n",
              " (84, 1),\n",
              " (85, 1),\n",
              " (86, 1),\n",
              " (87, 1),\n",
              " (88, 1),\n",
              " (89, 2),\n",
              " (90, 1),\n",
              " (91, 1),\n",
              " (92, 1),\n",
              " (93, 1),\n",
              " (94, 2),\n",
              " (95, 6),\n",
              " (96, 1),\n",
              " (97, 1),\n",
              " (98, 1),\n",
              " (99, 1),\n",
              " (100, 1),\n",
              " (101, 1),\n",
              " (102, 1),\n",
              " (103, 1),\n",
              " (104, 1),\n",
              " (105, 2),\n",
              " (106, 1),\n",
              " (107, 2),\n",
              " (108, 1),\n",
              " (109, 1),\n",
              " (110, 1),\n",
              " (111, 2),\n",
              " (112, 1),\n",
              " (113, 1),\n",
              " (114, 1),\n",
              " (115, 1),\n",
              " (116, 4),\n",
              " (117, 2),\n",
              " (118, 3),\n",
              " (119, 2),\n",
              " (120, 1),\n",
              " (121, 1),\n",
              " (122, 1),\n",
              " (123, 2),\n",
              " (124, 1),\n",
              " (125, 1),\n",
              " (126, 1),\n",
              " (127, 1),\n",
              " (128, 2),\n",
              " (129, 1),\n",
              " (130, 1),\n",
              " (131, 3),\n",
              " (132, 4),\n",
              " (133, 1),\n",
              " (134, 2),\n",
              " (135, 2),\n",
              " (136, 1),\n",
              " (137, 2),\n",
              " (138, 1),\n",
              " (139, 1),\n",
              " (140, 1),\n",
              " (141, 1),\n",
              " (142, 1),\n",
              " (143, 1),\n",
              " (144, 1),\n",
              " (145, 1),\n",
              " (146, 1),\n",
              " (147, 1),\n",
              " (148, 1),\n",
              " (149, 1),\n",
              " (150, 1),\n",
              " (151, 1),\n",
              " (152, 1),\n",
              " (153, 1),\n",
              " (154, 2),\n",
              " (155, 1),\n",
              " (156, 1),\n",
              " (157, 1),\n",
              " (158, 1),\n",
              " (159, 3),\n",
              " (160, 2),\n",
              " (161, 1),\n",
              " (162, 1),\n",
              " (163, 1),\n",
              " (164, 1),\n",
              " (165, 1),\n",
              " (166, 1),\n",
              " (167, 1),\n",
              " (168, 1),\n",
              " (169, 3),\n",
              " (170, 1),\n",
              " (171, 1),\n",
              " (172, 1),\n",
              " (173, 2),\n",
              " (174, 1),\n",
              " (175, 1),\n",
              " (176, 2),\n",
              " (177, 1),\n",
              " (178, 1),\n",
              " (179, 1),\n",
              " (180, 2),\n",
              " (181, 1),\n",
              " (182, 1),\n",
              " (183, 1),\n",
              " (184, 1),\n",
              " (185, 1),\n",
              " (186, 1),\n",
              " (187, 1),\n",
              " (188, 6),\n",
              " (189, 1),\n",
              " (190, 3),\n",
              " (191, 1),\n",
              " (192, 1),\n",
              " (193, 1),\n",
              " (194, 1),\n",
              " (195, 2),\n",
              " (196, 4),\n",
              " (197, 4),\n",
              " (198, 2),\n",
              " (199, 1),\n",
              " (200, 1),\n",
              " (201, 1),\n",
              " (202, 6),\n",
              " (203, 1),\n",
              " (204, 1),\n",
              " (205, 1),\n",
              " (206, 1),\n",
              " (207, 1),\n",
              " (208, 1),\n",
              " (209, 7),\n",
              " (210, 1),\n",
              " (211, 1),\n",
              " (212, 1),\n",
              " (213, 3),\n",
              " (214, 1),\n",
              " (215, 1),\n",
              " (216, 3),\n",
              " (217, 1),\n",
              " (218, 1),\n",
              " (219, 1),\n",
              " (220, 2),\n",
              " (221, 1),\n",
              " (222, 1),\n",
              " (223, 1),\n",
              " (224, 1),\n",
              " (225, 2),\n",
              " (226, 1),\n",
              " (227, 1),\n",
              " (228, 1),\n",
              " (229, 1),\n",
              " (230, 1),\n",
              " (231, 2),\n",
              " (232, 1),\n",
              " (233, 1),\n",
              " (234, 1),\n",
              " (235, 1),\n",
              " (236, 3),\n",
              " (237, 1)]"
            ]
          },
          "metadata": {
            "tags": []
          },
          "execution_count": 8
        }
      ]
    },
    {
      "cell_type": "code",
      "metadata": {
        "id": "l2epGeUX6xHt"
      },
      "source": [
        "def getTopicVariations(model, corpusItem):\n",
        "  predict = []\n",
        "  for i in range(len(corpusItem)):\n",
        "    predict.append(model.get_document_topics(corpusItem[0:i]))\n",
        "  return predict"
      ],
      "execution_count": null,
      "outputs": []
    },
    {
      "cell_type": "code",
      "metadata": {
        "id": "ZHiPUKXv8bah"
      },
      "source": [
        "k = getTopicVariations(lda_model,corpus[0])"
      ],
      "execution_count": null,
      "outputs": []
    },
    {
      "cell_type": "code",
      "metadata": {
        "id": "DhlwvAlr8mw0"
      },
      "source": [
        "def convertTopicstoDF(topicList,topicTotalCount):\n",
        "  columnsList= []\n",
        "  for i in range(topicTotalCount):\n",
        "    columnsList.append(\"Topic-\"+str(i))\n",
        "  dataFrame = pd.DataFrame(columns=columnsList)\n",
        "  for i in range(len(topicList)):\n",
        "    dataFrame.loc[i] = 0\n",
        "    for j in range(len(topicList[i])):\n",
        "      # print(topicList[i][j][1])\n",
        "      dataFrame[\"Topic-\"+str(topicList[i][j][0])].loc[i] = topicList[i][j][1]\n",
        "  \n",
        "  return dataFrame"
      ],
      "execution_count": null,
      "outputs": []
    },
    {
      "cell_type": "code",
      "metadata": {
        "id": "RQYPmMVNrX3J"
      },
      "source": [
        "df = convertTopicstoDF(k,20)"
      ],
      "execution_count": null,
      "outputs": []
    },
    {
      "cell_type": "code",
      "metadata": {
        "colab": {
          "base_uri": "https://localhost:8080/",
          "height": 448
        },
        "id": "yUbLd9oVHGLC",
        "outputId": "11dc015f-a6ee-42de-c18e-5d0e5c384c7a"
      },
      "source": [
        "df"
      ],
      "execution_count": null,
      "outputs": [
        {
          "output_type": "execute_result",
          "data": {
            "text/html": [
              "<div>\n",
              "<style scoped>\n",
              "    .dataframe tbody tr th:only-of-type {\n",
              "        vertical-align: middle;\n",
              "    }\n",
              "\n",
              "    .dataframe tbody tr th {\n",
              "        vertical-align: top;\n",
              "    }\n",
              "\n",
              "    .dataframe thead th {\n",
              "        text-align: right;\n",
              "    }\n",
              "</style>\n",
              "<table border=\"1\" class=\"dataframe\">\n",
              "  <thead>\n",
              "    <tr style=\"text-align: right;\">\n",
              "      <th></th>\n",
              "      <th>Topic-0</th>\n",
              "      <th>Topic-1</th>\n",
              "      <th>Topic-2</th>\n",
              "      <th>Topic-3</th>\n",
              "      <th>Topic-4</th>\n",
              "      <th>Topic-5</th>\n",
              "      <th>Topic-6</th>\n",
              "      <th>Topic-7</th>\n",
              "      <th>Topic-8</th>\n",
              "      <th>Topic-9</th>\n",
              "      <th>Topic-10</th>\n",
              "      <th>Topic-11</th>\n",
              "      <th>Topic-12</th>\n",
              "      <th>Topic-13</th>\n",
              "      <th>Topic-14</th>\n",
              "      <th>Topic-15</th>\n",
              "      <th>Topic-16</th>\n",
              "      <th>Topic-17</th>\n",
              "      <th>Topic-18</th>\n",
              "      <th>Topic-19</th>\n",
              "    </tr>\n",
              "  </thead>\n",
              "  <tbody>\n",
              "    <tr>\n",
              "      <th>0</th>\n",
              "      <td>0.0430997</td>\n",
              "      <td>0.0561106</td>\n",
              "      <td>0.0169011</td>\n",
              "      <td>0.0184888</td>\n",
              "      <td>0.0168061</td>\n",
              "      <td>0.0280217</td>\n",
              "      <td>0.0355703</td>\n",
              "      <td>0.0743497</td>\n",
              "      <td>0.0204133</td>\n",
              "      <td>0.0419344</td>\n",
              "      <td>0.1437</td>\n",
              "      <td>0.0564216</td>\n",
              "      <td>0.165229</td>\n",
              "      <td>0.0242529</td>\n",
              "      <td>0.0230775</td>\n",
              "      <td>0.050287</td>\n",
              "      <td>0.13002</td>\n",
              "      <td>0.0150473</td>\n",
              "      <td>0.0157743</td>\n",
              "      <td>0.0244948</td>\n",
              "    </tr>\n",
              "    <tr>\n",
              "      <th>1</th>\n",
              "      <td>0.0388586</td>\n",
              "      <td>0.0566678</td>\n",
              "      <td>0.0152654</td>\n",
              "      <td>0.017207</td>\n",
              "      <td>0.0151523</td>\n",
              "      <td>0.0253971</td>\n",
              "      <td>0.0320701</td>\n",
              "      <td>0.0670335</td>\n",
              "      <td>0.0184046</td>\n",
              "      <td>0.037808</td>\n",
              "      <td>0.129559</td>\n",
              "      <td>0.104088</td>\n",
              "      <td>0.14897</td>\n",
              "      <td>0.0219145</td>\n",
              "      <td>0.0208066</td>\n",
              "      <td>0.0453387</td>\n",
              "      <td>0.152712</td>\n",
              "      <td>0.0135666</td>\n",
              "      <td>0.0142221</td>\n",
              "      <td>0.0249566</td>\n",
              "    </tr>\n",
              "    <tr>\n",
              "      <th>2</th>\n",
              "      <td>0.0353774</td>\n",
              "      <td>0.0501872</td>\n",
              "      <td>0.0138927</td>\n",
              "      <td>0.0155505</td>\n",
              "      <td>0.0137949</td>\n",
              "      <td>0.0230966</td>\n",
              "      <td>0.0291971</td>\n",
              "      <td>0.0700098</td>\n",
              "      <td>0.0167682</td>\n",
              "      <td>0.0344209</td>\n",
              "      <td>0.128313</td>\n",
              "      <td>0.0957567</td>\n",
              "      <td>0.135625</td>\n",
              "      <td>0.0199595</td>\n",
              "      <td>0.0189426</td>\n",
              "      <td>0.0412769</td>\n",
              "      <td>0.210661</td>\n",
              "      <td>0.0123512</td>\n",
              "      <td>0.012948</td>\n",
              "      <td>0.0218702</td>\n",
              "    </tr>\n",
              "    <tr>\n",
              "      <th>3</th>\n",
              "      <td>0.0324687</td>\n",
              "      <td>0.0434821</td>\n",
              "      <td>0.0127389</td>\n",
              "      <td>0.130974</td>\n",
              "      <td>0.0126607</td>\n",
              "      <td>0.0211416</td>\n",
              "      <td>0.0267965</td>\n",
              "      <td>0.0734091</td>\n",
              "      <td>0.0155079</td>\n",
              "      <td>0.0315908</td>\n",
              "      <td>0.123431</td>\n",
              "      <td>0.0540429</td>\n",
              "      <td>0.124474</td>\n",
              "      <td>0.0183975</td>\n",
              "      <td>0.0174455</td>\n",
              "      <td>0.0388929</td>\n",
              "      <td>0.180445</td>\n",
              "      <td>0.0113357</td>\n",
              "      <td>0.0118834</td>\n",
              "      <td>0.0188821</td>\n",
              "    </tr>\n",
              "    <tr>\n",
              "      <th>4</th>\n",
              "      <td>0.0178184</td>\n",
              "      <td>0.0236736</td>\n",
              "      <td>0</td>\n",
              "      <td>0</td>\n",
              "      <td>0</td>\n",
              "      <td>0.0115975</td>\n",
              "      <td>0.0147055</td>\n",
              "      <td>0.0331021</td>\n",
              "      <td>0</td>\n",
              "      <td>0.0173366</td>\n",
              "      <td>0.0617256</td>\n",
              "      <td>0.0256834</td>\n",
              "      <td>0.0683094</td>\n",
              "      <td>0.0100697</td>\n",
              "      <td>0</td>\n",
              "      <td>0.0211655</td>\n",
              "      <td>0.632021</td>\n",
              "      <td>0</td>\n",
              "      <td>0</td>\n",
              "      <td>0.0102933</td>\n",
              "    </tr>\n",
              "    <tr>\n",
              "      <th>...</th>\n",
              "      <td>...</td>\n",
              "      <td>...</td>\n",
              "      <td>...</td>\n",
              "      <td>...</td>\n",
              "      <td>...</td>\n",
              "      <td>...</td>\n",
              "      <td>...</td>\n",
              "      <td>...</td>\n",
              "      <td>...</td>\n",
              "      <td>...</td>\n",
              "      <td>...</td>\n",
              "      <td>...</td>\n",
              "      <td>...</td>\n",
              "      <td>...</td>\n",
              "      <td>...</td>\n",
              "      <td>...</td>\n",
              "      <td>...</td>\n",
              "      <td>...</td>\n",
              "      <td>...</td>\n",
              "      <td>...</td>\n",
              "    </tr>\n",
              "    <tr>\n",
              "      <th>233</th>\n",
              "      <td>0.0644065</td>\n",
              "      <td>0</td>\n",
              "      <td>0</td>\n",
              "      <td>0.241332</td>\n",
              "      <td>0</td>\n",
              "      <td>0</td>\n",
              "      <td>0</td>\n",
              "      <td>0.0881608</td>\n",
              "      <td>0.0732215</td>\n",
              "      <td>0</td>\n",
              "      <td>0.0221528</td>\n",
              "      <td>0.0110307</td>\n",
              "      <td>0.130035</td>\n",
              "      <td>0</td>\n",
              "      <td>0</td>\n",
              "      <td>0</td>\n",
              "      <td>0.336776</td>\n",
              "      <td>0</td>\n",
              "      <td>0</td>\n",
              "      <td>0</td>\n",
              "    </tr>\n",
              "    <tr>\n",
              "      <th>234</th>\n",
              "      <td>0.0640127</td>\n",
              "      <td>0</td>\n",
              "      <td>0</td>\n",
              "      <td>0.241772</td>\n",
              "      <td>0</td>\n",
              "      <td>0</td>\n",
              "      <td>0</td>\n",
              "      <td>0.0888694</td>\n",
              "      <td>0.0728143</td>\n",
              "      <td>0</td>\n",
              "      <td>0.0219613</td>\n",
              "      <td>0.0111672</td>\n",
              "      <td>0.12924</td>\n",
              "      <td>0</td>\n",
              "      <td>0</td>\n",
              "      <td>0</td>\n",
              "      <td>0.337446</td>\n",
              "      <td>0</td>\n",
              "      <td>0</td>\n",
              "      <td>0</td>\n",
              "    </tr>\n",
              "    <tr>\n",
              "      <th>235</th>\n",
              "      <td>0.0688846</td>\n",
              "      <td>0</td>\n",
              "      <td>0</td>\n",
              "      <td>0.240428</td>\n",
              "      <td>0</td>\n",
              "      <td>0</td>\n",
              "      <td>0</td>\n",
              "      <td>0.0879682</td>\n",
              "      <td>0.0724822</td>\n",
              "      <td>0</td>\n",
              "      <td>0.0218318</td>\n",
              "      <td>0.0110794</td>\n",
              "      <td>0.128425</td>\n",
              "      <td>0</td>\n",
              "      <td>0</td>\n",
              "      <td>0</td>\n",
              "      <td>0.336214</td>\n",
              "      <td>0</td>\n",
              "      <td>0</td>\n",
              "      <td>0</td>\n",
              "    </tr>\n",
              "    <tr>\n",
              "      <th>236</th>\n",
              "      <td>0.068441</td>\n",
              "      <td>0</td>\n",
              "      <td>0</td>\n",
              "      <td>0.239488</td>\n",
              "      <td>0</td>\n",
              "      <td>0</td>\n",
              "      <td>0</td>\n",
              "      <td>0.087969</td>\n",
              "      <td>0.0721842</td>\n",
              "      <td>0</td>\n",
              "      <td>0.022556</td>\n",
              "      <td>0.0110386</td>\n",
              "      <td>0.132375</td>\n",
              "      <td>0</td>\n",
              "      <td>0</td>\n",
              "      <td>0</td>\n",
              "      <td>0.333667</td>\n",
              "      <td>0</td>\n",
              "      <td>0</td>\n",
              "      <td>0</td>\n",
              "    </tr>\n",
              "    <tr>\n",
              "      <th>237</th>\n",
              "      <td>0.067718</td>\n",
              "      <td>0</td>\n",
              "      <td>0</td>\n",
              "      <td>0.243983</td>\n",
              "      <td>0</td>\n",
              "      <td>0</td>\n",
              "      <td>0</td>\n",
              "      <td>0.0865475</td>\n",
              "      <td>0.0710197</td>\n",
              "      <td>0</td>\n",
              "      <td>0.0226968</td>\n",
              "      <td>0.0108562</td>\n",
              "      <td>0.131382</td>\n",
              "      <td>0</td>\n",
              "      <td>0</td>\n",
              "      <td>0</td>\n",
              "      <td>0.33483</td>\n",
              "      <td>0</td>\n",
              "      <td>0</td>\n",
              "      <td>0</td>\n",
              "    </tr>\n",
              "  </tbody>\n",
              "</table>\n",
              "<p>238 rows × 20 columns</p>\n",
              "</div>"
            ],
            "text/plain": [
              "       Topic-0    Topic-1    Topic-2  ...   Topic-17   Topic-18   Topic-19\n",
              "0    0.0430997  0.0561106  0.0169011  ...  0.0150473  0.0157743  0.0244948\n",
              "1    0.0388586  0.0566678  0.0152654  ...  0.0135666  0.0142221  0.0249566\n",
              "2    0.0353774  0.0501872  0.0138927  ...  0.0123512   0.012948  0.0218702\n",
              "3    0.0324687  0.0434821  0.0127389  ...  0.0113357  0.0118834  0.0188821\n",
              "4    0.0178184  0.0236736          0  ...          0          0  0.0102933\n",
              "..         ...        ...        ...  ...        ...        ...        ...\n",
              "233  0.0644065          0          0  ...          0          0          0\n",
              "234  0.0640127          0          0  ...          0          0          0\n",
              "235  0.0688846          0          0  ...          0          0          0\n",
              "236   0.068441          0          0  ...          0          0          0\n",
              "237   0.067718          0          0  ...          0          0          0\n",
              "\n",
              "[238 rows x 20 columns]"
            ]
          },
          "metadata": {
            "tags": []
          },
          "execution_count": 13
        }
      ]
    },
    {
      "cell_type": "code",
      "metadata": {
        "colab": {
          "base_uri": "https://localhost:8080/",
          "height": 592
        },
        "id": "l08wyky0IxSI",
        "outputId": "d031acc7-ec88-4342-a163-df1b2cd161d4"
      },
      "source": [
        "lines = df.plot.line(figsize=(20, 10))"
      ],
      "execution_count": null,
      "outputs": [
        {
          "output_type": "display_data",
          "data": {
            "image/png": "[encoded data removed]",
            "text/plain": [
              "<Figure size 1440x720 with 1 Axes>"
            ]
          },
          "metadata": {
            "tags": [],
            "needs_background": "light"
          }
        }
      ]
    },
    {
      "cell_type": "code",
      "metadata": {
        "colab": {
          "base_uri": "https://localhost:8080/"
        },
        "id": "LrlVriAFIXok",
        "outputId": "dc3e1f97-b709-423f-caa1-1972c0ebacae"
      },
      "source": [
        "lda_model.get_document_topics(corpus[0])"
      ],
      "execution_count": null,
      "outputs": [
        {
          "output_type": "execute_result",
          "data": {
            "text/plain": [
              "[(0, 0.06732041),\n",
              " (3, 0.24296366),\n",
              " (7, 0.08679709),\n",
              " (8, 0.071964346),\n",
              " (10, 0.022602186),\n",
              " (11, 0.010801798),\n",
              " (12, 0.1335667),\n",
              " (16, 0.33312678)]"
            ]
          },
          "metadata": {
            "tags": []
          },
          "execution_count": 15
        }
      ]
    },
    {
      "cell_type": "code",
      "metadata": {
        "colab": {
          "base_uri": "https://localhost:8080/",
          "height": 52
        },
        "id": "2qxA06PNJqnO",
        "outputId": "e9eefea0-921a-47c7-808e-3d85ad17f4fd"
      },
      "source": [
        "from matplotlib.pyplot import figure\n",
        "\n",
        "figure(figsize=(8, 6), dpi=80)"
      ],
      "execution_count": null,
      "outputs": [
        {
          "output_type": "execute_result",
          "data": {
            "text/plain": [
              "<Figure size 640x480 with 0 Axes>"
            ]
          },
          "metadata": {
            "tags": []
          },
          "execution_count": 16
        },
        {
          "output_type": "display_data",
          "data": {
            "text/plain": [
              "<Figure size 640x480 with 0 Axes>"
            ]
          },
          "metadata": {
            "tags": []
          }
        }
      ]
    },
    {
      "cell_type": "code",
      "metadata": {
        "colab": {
          "base_uri": "https://localhost:8080/",
          "height": 790
        },
        "id": "3owzyltnJXc6",
        "outputId": "e13c2d3b-aeb1-478f-a76c-e40d029e9596"
      },
      "source": [
        "axes = df.plot.line(subplots=True,figsize=(20, 15))"
      ],
      "execution_count": null,
      "outputs": [
        {
          "output_type": "display_data",
          "data": {
            "image/png": "[encoded data removed]",
            "text/plain": [
              "<Figure size 1440x1080 with 20 Axes>"
            ]
          },
          "metadata": {
            "tags": [],
            "needs_background": "light"
          }
        }
      ]
    },
    {
      "cell_type": "code",
      "metadata": {
        "colab": {
          "base_uri": "https://localhost:8080/",
          "height": 618
        },
        "id": "E-mAKkuTeocz",
        "outputId": "c22b745b-e07d-43d3-a4c7-0afcc244a71b"
      },
      "source": [
        "df['Topic-16'].plot(kind = 'bar',figsize=(20, 10))"
      ],
      "execution_count": null,
      "outputs": [
        {
          "output_type": "execute_result",
          "data": {
            "text/plain": [
              "<matplotlib.axes._subplots.AxesSubplot at 0x7f90c75d2490>"
            ]
          },
          "metadata": {
            "tags": []
          },
          "execution_count": 18
        },
        {
          "output_type": "display_data",
          "data": {
            "image/png": "[encoded data removed]",
            "text/plain": [
              "<Figure size 1440x720 with 1 Axes>"
            ]
          },
          "metadata": {
            "tags": [],
            "needs_background": "light"
          }
        }
      ]
    },
    {
      "cell_type": "code",
      "metadata": {
        "colab": {
          "base_uri": "https://localhost:8080/",
          "height": 431
        },
        "id": "WY31zmGngir5",
        "outputId": "38d68ce0-e84f-4b7a-b4f3-e627206e0845"
      },
      "source": [
        "difference = df.diff(periods=1)\n",
        "difference"
      ],
      "execution_count": null,
      "outputs": [
        {
          "output_type": "execute_result",
          "data": {
            "text/html": [
              "<div>\n",
              "<style scoped>\n",
              "    .dataframe tbody tr th:only-of-type {\n",
              "        vertical-align: middle;\n",
              "    }\n",
              "\n",
              "    .dataframe tbody tr th {\n",
              "        vertical-align: top;\n",
              "    }\n",
              "\n",
              "    .dataframe thead th {\n",
              "        text-align: right;\n",
              "    }\n",
              "</style>\n",
              "<table border=\"1\" class=\"dataframe\">\n",
              "  <thead>\n",
              "    <tr style=\"text-align: right;\">\n",
              "      <th></th>\n",
              "      <th>Topic-0</th>\n",
              "      <th>Topic-1</th>\n",
              "      <th>Topic-2</th>\n",
              "      <th>Topic-3</th>\n",
              "      <th>Topic-4</th>\n",
              "      <th>Topic-5</th>\n",
              "      <th>Topic-6</th>\n",
              "      <th>Topic-7</th>\n",
              "      <th>Topic-8</th>\n",
              "      <th>Topic-9</th>\n",
              "      <th>Topic-10</th>\n",
              "      <th>Topic-11</th>\n",
              "      <th>Topic-12</th>\n",
              "      <th>Topic-13</th>\n",
              "      <th>Topic-14</th>\n",
              "      <th>Topic-15</th>\n",
              "      <th>Topic-16</th>\n",
              "      <th>Topic-17</th>\n",
              "      <th>Topic-18</th>\n",
              "      <th>Topic-19</th>\n",
              "    </tr>\n",
              "  </thead>\n",
              "  <tbody>\n",
              "    <tr>\n",
              "      <th>0</th>\n",
              "      <td>NaN</td>\n",
              "      <td>NaN</td>\n",
              "      <td>NaN</td>\n",
              "      <td>NaN</td>\n",
              "      <td>NaN</td>\n",
              "      <td>NaN</td>\n",
              "      <td>NaN</td>\n",
              "      <td>NaN</td>\n",
              "      <td>NaN</td>\n",
              "      <td>NaN</td>\n",
              "      <td>NaN</td>\n",
              "      <td>NaN</td>\n",
              "      <td>NaN</td>\n",
              "      <td>NaN</td>\n",
              "      <td>NaN</td>\n",
              "      <td>NaN</td>\n",
              "      <td>NaN</td>\n",
              "      <td>NaN</td>\n",
              "      <td>NaN</td>\n",
              "      <td>NaN</td>\n",
              "    </tr>\n",
              "    <tr>\n",
              "      <th>1</th>\n",
              "      <td>-0.00424109</td>\n",
              "      <td>0.000557125</td>\n",
              "      <td>-0.00163571</td>\n",
              "      <td>-0.00128174</td>\n",
              "      <td>-0.00165375</td>\n",
              "      <td>-0.00262462</td>\n",
              "      <td>-0.00350018</td>\n",
              "      <td>-0.00731613</td>\n",
              "      <td>-0.0020087</td>\n",
              "      <td>-0.00412641</td>\n",
              "      <td>-0.0141403</td>\n",
              "      <td>0.0476668</td>\n",
              "      <td>-0.0162589</td>\n",
              "      <td>-0.00233843</td>\n",
              "      <td>-0.00227086</td>\n",
              "      <td>-0.00494832</td>\n",
              "      <td>0.0226922</td>\n",
              "      <td>-0.00148068</td>\n",
              "      <td>-0.00155222</td>\n",
              "      <td>0.000461839</td>\n",
              "    </tr>\n",
              "    <tr>\n",
              "      <th>2</th>\n",
              "      <td>-0.0034812</td>\n",
              "      <td>-0.00648052</td>\n",
              "      <td>-0.00137274</td>\n",
              "      <td>-0.00165654</td>\n",
              "      <td>-0.00135744</td>\n",
              "      <td>-0.00230051</td>\n",
              "      <td>-0.00287304</td>\n",
              "      <td>0.00297627</td>\n",
              "      <td>-0.00163636</td>\n",
              "      <td>-0.00338707</td>\n",
              "      <td>-0.00124609</td>\n",
              "      <td>-0.00833169</td>\n",
              "      <td>-0.0133457</td>\n",
              "      <td>-0.00195492</td>\n",
              "      <td>-0.00186399</td>\n",
              "      <td>-0.00406172</td>\n",
              "      <td>0.0579492</td>\n",
              "      <td>-0.00121538</td>\n",
              "      <td>-0.0012741</td>\n",
              "      <td>-0.00308635</td>\n",
              "    </tr>\n",
              "    <tr>\n",
              "      <th>3</th>\n",
              "      <td>-0.00290875</td>\n",
              "      <td>-0.0067052</td>\n",
              "      <td>-0.0011538</td>\n",
              "      <td>0.115424</td>\n",
              "      <td>-0.00113422</td>\n",
              "      <td>-0.001955</td>\n",
              "      <td>-0.0024006</td>\n",
              "      <td>0.00339935</td>\n",
              "      <td>-0.00126037</td>\n",
              "      <td>-0.0028301</td>\n",
              "      <td>-0.0048819</td>\n",
              "      <td>-0.0417139</td>\n",
              "      <td>-0.0111511</td>\n",
              "      <td>-0.001562</td>\n",
              "      <td>-0.00149711</td>\n",
              "      <td>-0.00238404</td>\n",
              "      <td>-0.0302168</td>\n",
              "      <td>-0.00101552</td>\n",
              "      <td>-0.00106459</td>\n",
              "      <td>-0.00298818</td>\n",
              "    </tr>\n",
              "    <tr>\n",
              "      <th>4</th>\n",
              "      <td>-0.0146503</td>\n",
              "      <td>-0.0198084</td>\n",
              "      <td>-0.0127389</td>\n",
              "      <td>-0.130974</td>\n",
              "      <td>-0.0126607</td>\n",
              "      <td>-0.00954412</td>\n",
              "      <td>-0.012091</td>\n",
              "      <td>-0.040307</td>\n",
              "      <td>-0.0155079</td>\n",
              "      <td>-0.0142542</td>\n",
              "      <td>-0.0617058</td>\n",
              "      <td>-0.0283594</td>\n",
              "      <td>-0.0561643</td>\n",
              "      <td>-0.00832787</td>\n",
              "      <td>-0.0174455</td>\n",
              "      <td>-0.0177274</td>\n",
              "      <td>0.451577</td>\n",
              "      <td>-0.0113357</td>\n",
              "      <td>-0.0118834</td>\n",
              "      <td>-0.0085888</td>\n",
              "    </tr>\n",
              "    <tr>\n",
              "      <th>...</th>\n",
              "      <td>...</td>\n",
              "      <td>...</td>\n",
              "      <td>...</td>\n",
              "      <td>...</td>\n",
              "      <td>...</td>\n",
              "      <td>...</td>\n",
              "      <td>...</td>\n",
              "      <td>...</td>\n",
              "      <td>...</td>\n",
              "      <td>...</td>\n",
              "      <td>...</td>\n",
              "      <td>...</td>\n",
              "      <td>...</td>\n",
              "      <td>...</td>\n",
              "      <td>...</td>\n",
              "      <td>...</td>\n",
              "      <td>...</td>\n",
              "      <td>...</td>\n",
              "      <td>...</td>\n",
              "      <td>...</td>\n",
              "    </tr>\n",
              "    <tr>\n",
              "      <th>233</th>\n",
              "      <td>-0.000206582</td>\n",
              "      <td>0</td>\n",
              "      <td>0</td>\n",
              "      <td>-0.00101578</td>\n",
              "      <td>0</td>\n",
              "      <td>0</td>\n",
              "      <td>0</td>\n",
              "      <td>-0.000391938</td>\n",
              "      <td>-0.000350274</td>\n",
              "      <td>0</td>\n",
              "      <td>0.000265133</td>\n",
              "      <td>-5.88493e-05</td>\n",
              "      <td>0.00342961</td>\n",
              "      <td>0</td>\n",
              "      <td>0</td>\n",
              "      <td>0</td>\n",
              "      <td>-0.00132301</td>\n",
              "      <td>0</td>\n",
              "      <td>0</td>\n",
              "      <td>0</td>\n",
              "    </tr>\n",
              "    <tr>\n",
              "      <th>234</th>\n",
              "      <td>-0.000393845</td>\n",
              "      <td>0</td>\n",
              "      <td>0</td>\n",
              "      <td>0.00044018</td>\n",
              "      <td>0</td>\n",
              "      <td>0</td>\n",
              "      <td>0</td>\n",
              "      <td>0.00070858</td>\n",
              "      <td>-0.000407279</td>\n",
              "      <td>0</td>\n",
              "      <td>-0.00019151</td>\n",
              "      <td>0.000136513</td>\n",
              "      <td>-0.000795081</td>\n",
              "      <td>0</td>\n",
              "      <td>0</td>\n",
              "      <td>0</td>\n",
              "      <td>0.000670284</td>\n",
              "      <td>0</td>\n",
              "      <td>0</td>\n",
              "      <td>0</td>\n",
              "    </tr>\n",
              "    <tr>\n",
              "      <th>235</th>\n",
              "      <td>0.00487194</td>\n",
              "      <td>0</td>\n",
              "      <td>0</td>\n",
              "      <td>-0.00134429</td>\n",
              "      <td>0</td>\n",
              "      <td>0</td>\n",
              "      <td>0</td>\n",
              "      <td>-0.000901148</td>\n",
              "      <td>-0.000332057</td>\n",
              "      <td>0</td>\n",
              "      <td>-0.000129487</td>\n",
              "      <td>-8.78368e-05</td>\n",
              "      <td>-0.000815213</td>\n",
              "      <td>0</td>\n",
              "      <td>0</td>\n",
              "      <td>0</td>\n",
              "      <td>-0.00123242</td>\n",
              "      <td>0</td>\n",
              "      <td>0</td>\n",
              "      <td>0</td>\n",
              "    </tr>\n",
              "    <tr>\n",
              "      <th>236</th>\n",
              "      <td>-0.000443578</td>\n",
              "      <td>0</td>\n",
              "      <td>0</td>\n",
              "      <td>-0.000939697</td>\n",
              "      <td>0</td>\n",
              "      <td>0</td>\n",
              "      <td>0</td>\n",
              "      <td>7.7486e-07</td>\n",
              "      <td>-0.000298046</td>\n",
              "      <td>0</td>\n",
              "      <td>0.000724165</td>\n",
              "      <td>-4.07873e-05</td>\n",
              "      <td>0.00395054</td>\n",
              "      <td>0</td>\n",
              "      <td>0</td>\n",
              "      <td>0</td>\n",
              "      <td>-0.00254703</td>\n",
              "      <td>0</td>\n",
              "      <td>0</td>\n",
              "      <td>0</td>\n",
              "    </tr>\n",
              "    <tr>\n",
              "      <th>237</th>\n",
              "      <td>-0.000723027</td>\n",
              "      <td>0</td>\n",
              "      <td>0</td>\n",
              "      <td>0.00449495</td>\n",
              "      <td>0</td>\n",
              "      <td>0</td>\n",
              "      <td>0</td>\n",
              "      <td>-0.00142149</td>\n",
              "      <td>-0.00116447</td>\n",
              "      <td>0</td>\n",
              "      <td>0.000140781</td>\n",
              "      <td>-0.000182374</td>\n",
              "      <td>-0.00099358</td>\n",
              "      <td>0</td>\n",
              "      <td>0</td>\n",
              "      <td>0</td>\n",
              "      <td>0.00116307</td>\n",
              "      <td>0</td>\n",
              "      <td>0</td>\n",
              "      <td>0</td>\n",
              "    </tr>\n",
              "  </tbody>\n",
              "</table>\n",
              "<p>238 rows × 20 columns</p>\n",
              "</div>"
            ],
            "text/plain": [
              "         Topic-0      Topic-1     Topic-2  ...    Topic-17    Topic-18     Topic-19\n",
              "0            NaN          NaN         NaN  ...         NaN         NaN          NaN\n",
              "1    -0.00424109  0.000557125 -0.00163571  ... -0.00148068 -0.00155222  0.000461839\n",
              "2     -0.0034812  -0.00648052 -0.00137274  ... -0.00121538  -0.0012741  -0.00308635\n",
              "3    -0.00290875   -0.0067052  -0.0011538  ... -0.00101552 -0.00106459  -0.00298818\n",
              "4     -0.0146503   -0.0198084  -0.0127389  ...  -0.0113357  -0.0118834   -0.0085888\n",
              "..           ...          ...         ...  ...         ...         ...          ...\n",
              "233 -0.000206582            0           0  ...           0           0            0\n",
              "234 -0.000393845            0           0  ...           0           0            0\n",
              "235   0.00487194            0           0  ...           0           0            0\n",
              "236 -0.000443578            0           0  ...           0           0            0\n",
              "237 -0.000723027            0           0  ...           0           0            0\n",
              "\n",
              "[238 rows x 20 columns]"
            ]
          },
          "metadata": {
            "tags": []
          },
          "execution_count": 19
        }
      ]
    },
    {
      "cell_type": "code",
      "metadata": {
        "colab": {
          "base_uri": "https://localhost:8080/",
          "height": 347
        },
        "id": "VxuYxeRfhfJV",
        "outputId": "1fbf7416-ab53-4a8d-c1df-bbdd5b0058d2"
      },
      "source": [
        "difference['Topic-16'].plot(kind = 'bar',figsize=(20, 5))"
      ],
      "execution_count": null,
      "outputs": [
        {
          "output_type": "execute_result",
          "data": {
            "text/plain": [
              "<matplotlib.axes._subplots.AxesSubplot at 0x7f90c756cfd0>"
            ]
          },
          "metadata": {
            "tags": []
          },
          "execution_count": 20
        },
        {
          "output_type": "display_data",
          "data": {
            "image/png": "[encoded data removed]",
            "text/plain": [
              "<Figure size 1440x360 with 1 Axes>"
            ]
          },
          "metadata": {
            "tags": [],
            "needs_background": "light"
          }
        }
      ]
    },
    {
      "cell_type": "code",
      "metadata": {
        "id": "7zLz82yAh_Xo",
        "colab": {
          "base_uri": "https://localhost:8080/",
          "height": 431
        },
        "outputId": "49c3a6bc-1b1c-495b-f1e3-e52387b4da30"
      },
      "source": [
        "df_z_scaled = difference.copy()\n",
        "  \n",
        "# apply normalization technique to Column 1\n",
        "column = 'Topic-16'\n",
        "df_z_scaled[column] = (df_z_scaled[column] - df_z_scaled[column].mean()) / df_z_scaled[column].std()    \n",
        "  \n",
        "# view normalized data  \n",
        "display(df_z_scaled)"
      ],
      "execution_count": null,
      "outputs": [
        {
          "output_type": "display_data",
          "data": {
            "text/html": [
              "<div>\n",
              "<style scoped>\n",
              "    .dataframe tbody tr th:only-of-type {\n",
              "        vertical-align: middle;\n",
              "    }\n",
              "\n",
              "    .dataframe tbody tr th {\n",
              "        vertical-align: top;\n",
              "    }\n",
              "\n",
              "    .dataframe thead th {\n",
              "        text-align: right;\n",
              "    }\n",
              "</style>\n",
              "<table border=\"1\" class=\"dataframe\">\n",
              "  <thead>\n",
              "    <tr style=\"text-align: right;\">\n",
              "      <th></th>\n",
              "      <th>Topic-0</th>\n",
              "      <th>Topic-1</th>\n",
              "      <th>Topic-2</th>\n",
              "      <th>Topic-3</th>\n",
              "      <th>Topic-4</th>\n",
              "      <th>Topic-5</th>\n",
              "      <th>Topic-6</th>\n",
              "      <th>Topic-7</th>\n",
              "      <th>Topic-8</th>\n",
              "      <th>Topic-9</th>\n",
              "      <th>Topic-10</th>\n",
              "      <th>Topic-11</th>\n",
              "      <th>Topic-12</th>\n",
              "      <th>Topic-13</th>\n",
              "      <th>Topic-14</th>\n",
              "      <th>Topic-15</th>\n",
              "      <th>Topic-16</th>\n",
              "      <th>Topic-17</th>\n",
              "      <th>Topic-18</th>\n",
              "      <th>Topic-19</th>\n",
              "    </tr>\n",
              "  </thead>\n",
              "  <tbody>\n",
              "    <tr>\n",
              "      <th>0</th>\n",
              "      <td>NaN</td>\n",
              "      <td>NaN</td>\n",
              "      <td>NaN</td>\n",
              "      <td>NaN</td>\n",
              "      <td>NaN</td>\n",
              "      <td>NaN</td>\n",
              "      <td>NaN</td>\n",
              "      <td>NaN</td>\n",
              "      <td>NaN</td>\n",
              "      <td>NaN</td>\n",
              "      <td>NaN</td>\n",
              "      <td>NaN</td>\n",
              "      <td>NaN</td>\n",
              "      <td>NaN</td>\n",
              "      <td>NaN</td>\n",
              "      <td>NaN</td>\n",
              "      <td>NaN</td>\n",
              "      <td>NaN</td>\n",
              "      <td>NaN</td>\n",
              "      <td>NaN</td>\n",
              "    </tr>\n",
              "    <tr>\n",
              "      <th>1</th>\n",
              "      <td>-0.00424109</td>\n",
              "      <td>0.000557125</td>\n",
              "      <td>-0.00163571</td>\n",
              "      <td>-0.00128174</td>\n",
              "      <td>-0.00165375</td>\n",
              "      <td>-0.00262462</td>\n",
              "      <td>-0.00350018</td>\n",
              "      <td>-0.00731613</td>\n",
              "      <td>-0.0020087</td>\n",
              "      <td>-0.00412641</td>\n",
              "      <td>-0.0141403</td>\n",
              "      <td>0.0476668</td>\n",
              "      <td>-0.0162589</td>\n",
              "      <td>-0.00233843</td>\n",
              "      <td>-0.00227086</td>\n",
              "      <td>-0.00494832</td>\n",
              "      <td>0.682372</td>\n",
              "      <td>-0.00148068</td>\n",
              "      <td>-0.00155222</td>\n",
              "      <td>0.000461839</td>\n",
              "    </tr>\n",
              "    <tr>\n",
              "      <th>2</th>\n",
              "      <td>-0.0034812</td>\n",
              "      <td>-0.00648052</td>\n",
              "      <td>-0.00137274</td>\n",
              "      <td>-0.00165654</td>\n",
              "      <td>-0.00135744</td>\n",
              "      <td>-0.00230051</td>\n",
              "      <td>-0.00287304</td>\n",
              "      <td>0.00297627</td>\n",
              "      <td>-0.00163636</td>\n",
              "      <td>-0.00338707</td>\n",
              "      <td>-0.00124609</td>\n",
              "      <td>-0.00833169</td>\n",
              "      <td>-0.0133457</td>\n",
              "      <td>-0.00195492</td>\n",
              "      <td>-0.00186399</td>\n",
              "      <td>-0.00406172</td>\n",
              "      <td>1.78455</td>\n",
              "      <td>-0.00121538</td>\n",
              "      <td>-0.0012741</td>\n",
              "      <td>-0.00308635</td>\n",
              "    </tr>\n",
              "    <tr>\n",
              "      <th>3</th>\n",
              "      <td>-0.00290875</td>\n",
              "      <td>-0.0067052</td>\n",
              "      <td>-0.0011538</td>\n",
              "      <td>0.115424</td>\n",
              "      <td>-0.00113422</td>\n",
              "      <td>-0.001955</td>\n",
              "      <td>-0.0024006</td>\n",
              "      <td>0.00339935</td>\n",
              "      <td>-0.00126037</td>\n",
              "      <td>-0.0028301</td>\n",
              "      <td>-0.0048819</td>\n",
              "      <td>-0.0417139</td>\n",
              "      <td>-0.0111511</td>\n",
              "      <td>-0.001562</td>\n",
              "      <td>-0.00149711</td>\n",
              "      <td>-0.00238404</td>\n",
              "      <td>-0.971631</td>\n",
              "      <td>-0.00101552</td>\n",
              "      <td>-0.00106459</td>\n",
              "      <td>-0.00298818</td>\n",
              "    </tr>\n",
              "    <tr>\n",
              "      <th>4</th>\n",
              "      <td>-0.0146503</td>\n",
              "      <td>-0.0198084</td>\n",
              "      <td>-0.0127389</td>\n",
              "      <td>-0.130974</td>\n",
              "      <td>-0.0126607</td>\n",
              "      <td>-0.00954412</td>\n",
              "      <td>-0.012091</td>\n",
              "      <td>-0.040307</td>\n",
              "      <td>-0.0155079</td>\n",
              "      <td>-0.0142542</td>\n",
              "      <td>-0.0617058</td>\n",
              "      <td>-0.0283594</td>\n",
              "      <td>-0.0561643</td>\n",
              "      <td>-0.00832787</td>\n",
              "      <td>-0.0174455</td>\n",
              "      <td>-0.0177274</td>\n",
              "      <td>14.0899</td>\n",
              "      <td>-0.0113357</td>\n",
              "      <td>-0.0118834</td>\n",
              "      <td>-0.0085888</td>\n",
              "    </tr>\n",
              "    <tr>\n",
              "      <th>...</th>\n",
              "      <td>...</td>\n",
              "      <td>...</td>\n",
              "      <td>...</td>\n",
              "      <td>...</td>\n",
              "      <td>...</td>\n",
              "      <td>...</td>\n",
              "      <td>...</td>\n",
              "      <td>...</td>\n",
              "      <td>...</td>\n",
              "      <td>...</td>\n",
              "      <td>...</td>\n",
              "      <td>...</td>\n",
              "      <td>...</td>\n",
              "      <td>...</td>\n",
              "      <td>...</td>\n",
              "      <td>...</td>\n",
              "      <td>...</td>\n",
              "      <td>...</td>\n",
              "      <td>...</td>\n",
              "      <td>...</td>\n",
              "    </tr>\n",
              "    <tr>\n",
              "      <th>233</th>\n",
              "      <td>-0.000206582</td>\n",
              "      <td>0</td>\n",
              "      <td>0</td>\n",
              "      <td>-0.00101578</td>\n",
              "      <td>0</td>\n",
              "      <td>0</td>\n",
              "      <td>0</td>\n",
              "      <td>-0.000391938</td>\n",
              "      <td>-0.000350274</td>\n",
              "      <td>0</td>\n",
              "      <td>0.000265133</td>\n",
              "      <td>-5.88493e-05</td>\n",
              "      <td>0.00342961</td>\n",
              "      <td>0</td>\n",
              "      <td>0</td>\n",
              "      <td>0</td>\n",
              "      <td>-0.0683745</td>\n",
              "      <td>0</td>\n",
              "      <td>0</td>\n",
              "      <td>0</td>\n",
              "    </tr>\n",
              "    <tr>\n",
              "      <th>234</th>\n",
              "      <td>-0.000393845</td>\n",
              "      <td>0</td>\n",
              "      <td>0</td>\n",
              "      <td>0.00044018</td>\n",
              "      <td>0</td>\n",
              "      <td>0</td>\n",
              "      <td>0</td>\n",
              "      <td>0.00070858</td>\n",
              "      <td>-0.000407279</td>\n",
              "      <td>0</td>\n",
              "      <td>-0.00019151</td>\n",
              "      <td>0.000136513</td>\n",
              "      <td>-0.000795081</td>\n",
              "      <td>0</td>\n",
              "      <td>0</td>\n",
              "      <td>0</td>\n",
              "      <td>-0.00606137</td>\n",
              "      <td>0</td>\n",
              "      <td>0</td>\n",
              "      <td>0</td>\n",
              "    </tr>\n",
              "    <tr>\n",
              "      <th>235</th>\n",
              "      <td>0.00487194</td>\n",
              "      <td>0</td>\n",
              "      <td>0</td>\n",
              "      <td>-0.00134429</td>\n",
              "      <td>0</td>\n",
              "      <td>0</td>\n",
              "      <td>0</td>\n",
              "      <td>-0.000901148</td>\n",
              "      <td>-0.000332057</td>\n",
              "      <td>0</td>\n",
              "      <td>-0.000129487</td>\n",
              "      <td>-8.78368e-05</td>\n",
              "      <td>-0.000815213</td>\n",
              "      <td>0</td>\n",
              "      <td>0</td>\n",
              "      <td>0</td>\n",
              "      <td>-0.0655423</td>\n",
              "      <td>0</td>\n",
              "      <td>0</td>\n",
              "      <td>0</td>\n",
              "    </tr>\n",
              "    <tr>\n",
              "      <th>236</th>\n",
              "      <td>-0.000443578</td>\n",
              "      <td>0</td>\n",
              "      <td>0</td>\n",
              "      <td>-0.000939697</td>\n",
              "      <td>0</td>\n",
              "      <td>0</td>\n",
              "      <td>0</td>\n",
              "      <td>7.7486e-07</td>\n",
              "      <td>-0.000298046</td>\n",
              "      <td>0</td>\n",
              "      <td>0.000724165</td>\n",
              "      <td>-4.07873e-05</td>\n",
              "      <td>0.00395054</td>\n",
              "      <td>0</td>\n",
              "      <td>0</td>\n",
              "      <td>0</td>\n",
              "      <td>-0.106639</td>\n",
              "      <td>0</td>\n",
              "      <td>0</td>\n",
              "      <td>0</td>\n",
              "    </tr>\n",
              "    <tr>\n",
              "      <th>237</th>\n",
              "      <td>-0.000723027</td>\n",
              "      <td>0</td>\n",
              "      <td>0</td>\n",
              "      <td>0.00449495</td>\n",
              "      <td>0</td>\n",
              "      <td>0</td>\n",
              "      <td>0</td>\n",
              "      <td>-0.00142149</td>\n",
              "      <td>-0.00116447</td>\n",
              "      <td>0</td>\n",
              "      <td>0.000140781</td>\n",
              "      <td>-0.000182374</td>\n",
              "      <td>-0.00099358</td>\n",
              "      <td>0</td>\n",
              "      <td>0</td>\n",
              "      <td>0</td>\n",
              "      <td>0.00934363</td>\n",
              "      <td>0</td>\n",
              "      <td>0</td>\n",
              "      <td>0</td>\n",
              "    </tr>\n",
              "  </tbody>\n",
              "</table>\n",
              "<p>238 rows × 20 columns</p>\n",
              "</div>"
            ],
            "text/plain": [
              "         Topic-0      Topic-1     Topic-2  ...    Topic-17    Topic-18     Topic-19\n",
              "0            NaN          NaN         NaN  ...         NaN         NaN          NaN\n",
              "1    -0.00424109  0.000557125 -0.00163571  ... -0.00148068 -0.00155222  0.000461839\n",
              "2     -0.0034812  -0.00648052 -0.00137274  ... -0.00121538  -0.0012741  -0.00308635\n",
              "3    -0.00290875   -0.0067052  -0.0011538  ... -0.00101552 -0.00106459  -0.00298818\n",
              "4     -0.0146503   -0.0198084  -0.0127389  ...  -0.0113357  -0.0118834   -0.0085888\n",
              "..           ...          ...         ...  ...         ...         ...          ...\n",
              "233 -0.000206582            0           0  ...           0           0            0\n",
              "234 -0.000393845            0           0  ...           0           0            0\n",
              "235   0.00487194            0           0  ...           0           0            0\n",
              "236 -0.000443578            0           0  ...           0           0            0\n",
              "237 -0.000723027            0           0  ...           0           0            0\n",
              "\n",
              "[238 rows x 20 columns]"
            ]
          },
          "metadata": {
            "tags": []
          }
        }
      ]
    },
    {
      "cell_type": "code",
      "metadata": {
        "colab": {
          "base_uri": "https://localhost:8080/",
          "height": 347
        },
        "id": "Xjk4anNXkPE3",
        "outputId": "3b6a534d-e40a-48ab-f1c5-60082985125b"
      },
      "source": [
        "df_z_scaled['Topic-16'].plot(kind = 'bar',figsize=(20, 5))"
      ],
      "execution_count": null,
      "outputs": [
        {
          "output_type": "execute_result",
          "data": {
            "text/plain": [
              "<matplotlib.axes._subplots.AxesSubplot at 0x7f90c6fce790>"
            ]
          },
          "metadata": {
            "tags": []
          },
          "execution_count": 22
        },
        {
          "output_type": "display_data",
          "data": {
            "image/png": "[encoded data removed]",
            "text/plain": [
              "<Figure size 1440x360 with 1 Axes>"
            ]
          },
          "metadata": {
            "tags": [],
            "needs_background": "light"
          }
        }
      ]
    },
    {
      "cell_type": "code",
      "metadata": {
        "id": "vR-jFC8OksIx"
      },
      "source": [
        "from IPython.display import HTML\n",
        "def  hlstr(string, color='white'):\n",
        "    \"\"\"\n",
        "    Return HTML markup highlighting text with the desired color.\n",
        "    \"\"\"\n",
        "    return f\"<mark style=background-color:{color}>{string} </mark>\""
      ],
      "execution_count": null,
      "outputs": []
    },
    {
      "cell_type": "code",
      "metadata": {
        "id": "BOAaEaYRY77B"
      },
      "source": [
        "def colorize(attrs, cmap='PiYG'):\n",
        "    \"\"\"\n",
        "    Compute hex colors based on the attributions for a single instance.\n",
        "    Uses a diverging colorscale by default and normalizes and scales\n",
        "    the colormap so that colors are consistent with the attributions.\n",
        "    \"\"\"\n",
        "    import matplotlib as mpl\n",
        "    cmap_bound = np.abs(attrs).max()\n",
        "    norm = mpl.colors.Normalize(vmin=-cmap_bound, vmax=cmap_bound)\n",
        "    cmap = mpl.cm.get_cmap(cmap)\n",
        "\n",
        "    # now compute hex values of colors\n",
        "    colors = list(map(lambda x: mpl.colors.rgb2hex(cmap(norm(x))), attrs))\n",
        "    return colors"
      ],
      "execution_count": null,
      "outputs": []
    },
    {
      "cell_type": "code",
      "metadata": {
        "id": "9lpNiGkzcHh9"
      },
      "source": [
        "difference.loc[0] = df.loc[0]"
      ],
      "execution_count": null,
      "outputs": []
    },
    {
      "cell_type": "code",
      "metadata": {
        "id": "oVBAVbtLY79T"
      },
      "source": [
        "import numpy as np\n",
        "words = [dictionary[id[0]] for id in corpus[0] ]\n",
        "colors = colorize(difference['Topic-16'])"
      ],
      "execution_count": null,
      "outputs": []
    },
    {
      "cell_type": "code",
      "metadata": {
        "colab": {
          "base_uri": "https://localhost:8080/",
          "height": 187
        },
        "id": "oXWGq5XpZW4M",
        "outputId": "4c92db5f-a811-4ccc-c58d-44034e798bb2"
      },
      "source": [
        "HTML(\"\".join(list(map(hlstr, words, colors))))"
      ],
      "execution_count": null,
      "outputs": [
        {
          "output_type": "execute_result",
          "data": {
            "text/html": [
              "<mark style=background-color:#d2ecb0>access </mark><mark style=background-color:#f3f6ed>acknowledge </mark><mark style=background-color:#ecf6de>act </mark><mark style=background-color:#f9eff4>administration </mark><mark style=background-color:#276419>advocate </mark><mark style=background-color:#fbe9f2>ally </mark><mark style=background-color:#f1f6ea>anger </mark><mark style=background-color:#f4f7f0>annual </mark><mark style=background-color:#f5f7f2>anticipate </mark><mark style=background-color:#f3f6ed>appeal </mark><mark style=background-color:#fce4f0>appropriate </mark><mark style=background-color:#f2f6ec>appropriation </mark><mark style=background-color:#f5f7f2>aspect </mark><mark style=background-color:#f9f0f5>assert </mark><mark style=background-color:#f1f6e8>avoid </mark><mark style=background-color:#f5f7f3>awkward </mark><mark style=background-color:#f9eff4>backlash </mark><mark style=background-color:#f9f0f5>behalf </mark><mark style=background-color:#f5f7f3>big </mark><mark style=background-color:#f8f3f6>billion </mark><mark style=background-color:#fbe8f2>broad </mark><mark style=background-color:#f6f7f5>cascading </mark><mark style=background-color:#f8f4f6>case </mark><mark style=background-color:#f3f7ef>cause </mark><mark style=background-color:#f7f7f6>challenge </mark><mark style=background-color:#f7f7f6>champion </mark><mark style=background-color:#f8f4f6>chaos </mark><mark style=background-color:#f8f2f5>choose </mark><mark style=background-color:#f8f5f6>come </mark><mark style=background-color:#f4f7f0>comment </mark><mark style=background-color:#f5f7f2>complicate </mark><mark style=background-color:#f5f7f3>conceivably </mark><mark style=background-color:#f8f3f6>concept </mark><mark style=background-color:#f8f3f6>confidence </mark><mark style=background-color:#f5f7f3>confident </mark><mark style=background-color:#f5f7f3>congressional </mark><mark style=background-color:#f8f2f5>consequence </mark><mark style=background-color:#f7f6f7>conservative </mark><mark style=background-color:#f9f1f5>consider </mark><mark style=background-color:#f5f7f2>constitution </mark><mark style=background-color:#faeaf2>consumer </mark><mark style=background-color:#f8f4f6>contend </mark><mark style=background-color:#f6f7f5>continue </mark><mark style=background-color:#f5f7f2>control </mark><mark style=background-color:#f8f5f6>cost </mark><mark style=background-color:#f9f1f5>could </mark><mark style=background-color:#f6f7f5>court </mark><mark style=background-color:#f8f4f6>coverage </mark><mark style=background-color:#f8f5f6>currently </mark><mark style=background-color:#f6f7f5>decision </mark><mark style=background-color:#f3f7ef>deductible </mark><mark style=background-color:#f8f5f6>defend </mark><mark style=background-color:#f6f7f5>demand </mark><mark style=background-color:#f6f7f5>desperate </mark><mark style=background-color:#f8f4f6>destabilize </mark><mark style=background-color:#f8f5f6>devastating </mark><mark style=background-color:#f7f6f7>discuss </mark><mark style=background-color:#f5f7f2>dismiss </mark><mark style=background-color:#f7f7f6>dispute </mark><mark style=background-color:#f2f6ec>distribute </mark><mark style=background-color:#f5f7f3>district </mark><mark style=background-color:#f8f5f6>divulge </mark><mark style=background-color:#f5f7f3>dollar </mark><mark style=background-color:#f8f5f6>drop </mark><mark style=background-color:#f7f7f7>dynamic </mark><mark style=background-color:#f8f5f6>eager </mark><mark style=background-color:#f7f7f7>effect </mark><mark style=background-color:#f8f4f6>effort </mark><mark style=background-color:#f6f7f5>election </mark><mark style=background-color:#f7f7f7>eligible </mark><mark style=background-color:#f7f6f7>end </mark><mark style=background-color:#f7f7f6>entire </mark><mark style=background-color:#f7f6f7>era </mark><mark style=background-color:#f7f6f7>estimate </mark><mark style=background-color:#f7f6f7>evaluate </mark><mark style=background-color:#f5f7f3>even </mark><mark style=background-color:#f8f5f6>exchange </mark><mark style=background-color:#f7f6f7>exit </mark><mark style=background-color:#f6f7f5>expert </mark><mark style=background-color:#f5f7f3>fear </mark><mark style=background-color:#f7f6f7>fight </mark><mark style=background-color:#f8f4f6>find </mark><mark style=background-color:#f8f4f6>flawed </mark><mark style=background-color:#f7f6f7>full </mark><mark style=background-color:#f6f7f5>funding </mark><mark style=background-color:#f7f6f7>future </mark><mark style=background-color:#f7f7f7>gain </mark><mark style=background-color:#f7f6f7>game </mark><mark style=background-color:#f7f7f7>generally </mark><mark style=background-color:#f7f6f7>give </mark><mark style=background-color:#f6f7f5>government </mark><mark style=background-color:#f7f7f6>hand </mark><mark style=background-color:#f7f6f7>handle </mark><mark style=background-color:#f6f7f5>happen </mark><mark style=background-color:#f7f6f7>health_insurance </mark><mark style=background-color:#f8f5f6>house </mark><mark style=background-color:#f8f2f5>huge </mark><mark style=background-color:#f7f6f7>illustrate </mark><mark style=background-color:#f7f6f7>implode </mark><mark style=background-color:#f6f7f5>important </mark><mark style=background-color:#f7f7f6>inappropriate </mark><mark style=background-color:#f7f7f7>inauguration </mark><mark style=background-color:#f5f7f3>inclined </mark><mark style=background-color:#f7f6f7>incoming </mark><mark style=background-color:#f5f7f3>individual </mark><mark style=background-color:#f7f7f7>initially </mark><mark style=background-color:#f5f7f2>insurance </mark><mark style=background-color:#f7f6f7>insurer </mark><mark style=background-color:#f7f6f7>internal </mark><mark style=background-color:#f6f7f5>intervene </mark><mark style=background-color:#f6f7f5>involve </mark><mark style=background-color:#f7f7f6>issue </mark><mark style=background-color:#f6f7f5>lack </mark><mark style=background-color:#f7f7f6>last </mark><mark style=background-color:#f6f7f5>late </mark><mark style=background-color:#f6f7f5>later </mark><mark style=background-color:#f6f7f5>law </mark><mark style=background-color:#f8f4f6>lawsuit </mark><mark style=background-color:#f8f5f6>lawyer </mark><mark style=background-color:#f7f6f7>lead </mark><mark style=background-color:#f6f7f5>leadership </mark><mark style=background-color:#f6f7f5>least </mark><mark style=background-color:#f7f7f6>leave </mark><mark style=background-color:#f7f7f6>legal </mark><mark style=background-color:#f7f6f7>leverage </mark><mark style=background-color:#f6f7f5>limbo </mark><mark style=background-color:#f6f7f5>longer </mark><mark style=background-color:#f7f7f6>lose </mark><mark style=background-color:#f7f6f7>loss </mark><mark style=background-color:#f8f5f6>many </mark><mark style=background-color:#f7f7f7>market </mark><mark style=background-color:#f7f6f7>matter </mark><mark style=background-color:#f6f7f5>may </mark><mark style=background-color:#f7f7f7>million </mark><mark style=background-color:#f7f7f7>money </mark><mark style=background-color:#f7f6f7>month </mark><mark style=background-color:#f5f7f3>nation </mark><mark style=background-color:#f7f7f6>never </mark><mark style=background-color:#f7f6f7>new </mark><mark style=background-color:#f7f7f6>office </mark><mark style=background-color:#f6f7f5>official </mark><mark style=background-color:#f6f7f5>option </mark><mark style=background-color:#f7f7f7>otherwise </mark><mark style=background-color:#f7f7f7>outcome </mark><mark style=background-color:#f7f7f6>overarching </mark><mark style=background-color:#f7f7f7>part </mark><mark style=background-color:#f7f7f6>participant </mark><mark style=background-color:#f7f7f6>pass </mark><mark style=background-color:#f7f7f7>pay </mark><mark style=background-color:#f7f7f7>payment </mark><mark style=background-color:#f7f7f7>people </mark><mark style=background-color:#f7f7f7>permanent </mark><mark style=background-color:#f6f7f5>pileup </mark><mark style=background-color:#f7f7f7>place </mark><mark style=background-color:#f7f7f6>political </mark><mark style=background-color:#f7f7f7>position </mark><mark style=background-color:#f6f7f5>possibility </mark><mark style=background-color:#f7f7f6>potential </mark><mark style=background-color:#f6f7f5>potentially </mark><mark style=background-color:#f7f7f6>power </mark><mark style=background-color:#f7f7f7>precedent </mark><mark style=background-color:#f5f7f3>predict </mark><mark style=background-color:#f7f6f7>prepare </mark><mark style=background-color:#f6f7f5>prerogative </mark><mark style=background-color:#f7f7f7>preserve </mark><mark style=background-color:#f7f7f6>pressure </mark><mark style=background-color:#f6f7f5>prevail </mark><mark style=background-color:#f7f7f6>proceeding </mark><mark style=background-color:#f7f7f7>produce </mark><mark style=background-color:#f7f6f7>program </mark><mark style=background-color:#f7f7f7>prop </mark><mark style=background-color:#f7f6f7>proper </mark><mark style=background-color:#f7f7f6>prosecute </mark><mark style=background-color:#f7f7f7>provide </mark><mark style=background-color:#f7f7f6>purse </mark><mark style=background-color:#f7f7f7>put </mark><mark style=background-color:#f7f7f6>quick </mark><mark style=background-color:#f7f7f7>quickly </mark><mark style=background-color:#f7f7f6>race </mark><mark style=background-color:#f7f7f7>ready </mark><mark style=background-color:#f7f7f6>receive </mark><mark style=background-color:#f6f7f5>reduction </mark><mark style=background-color:#f7f7f7>regard </mark><mark style=background-color:#f6f7f5>relate </mark><mark style=background-color:#f6f7f5>remain </mark><mark style=background-color:#f7f7f6>repercussion </mark><mark style=background-color:#f7f7f6>replacement </mark><mark style=background-color:#f7f7f7>report </mark><mark style=background-color:#f7f7f6>republican </mark><mark style=background-color:#f8f4f6>request </mark><mark style=background-color:#f7f7f6>require </mark><mark style=background-color:#f7f7f7>resolution </mark><mark style=background-color:#f7f7f7>resolve </mark><mark style=background-color:#f6f7f5>restore </mark><mark style=background-color:#f7f7f7>reversed </mark><mark style=background-color:#f7f7f7>rule </mark><mark style=background-color:#f7f7f7>say </mark><mark style=background-color:#f4f7f0>seek </mark><mark style=background-color:#f6f7f5>set </mark><mark style=background-color:#f7f7f6>share </mark><mark style=background-color:#f7f7f7>skepticism </mark><mark style=background-color:#f7f7f6>speaker </mark><mark style=background-color:#f7f7f7>spend </mark><mark style=background-color:#f8f5f6>spokesman </mark><mark style=background-color:#f6f7f5>spur </mark><mark style=background-color:#f7f7f7>stand </mark><mark style=background-color:#f7f7f7>stave </mark><mark style=background-color:#f7f7f7>stop </mark><mark style=background-color:#f7f7f6>strategy </mark><mark style=background-color:#f7f7f6>subsidy </mark><mark style=background-color:#f8f4f6>successfully </mark><mark style=background-color:#f7f7f6>sudden </mark><mark style=background-color:#f7f7f6>suddenly </mark><mark style=background-color:#f7f7f7>suit </mark><mark style=background-color:#f8f5f6>sum </mark><mark style=background-color:#f7f7f7>system </mark><mark style=background-color:#f7f7f7>take </mark><mark style=background-color:#f6f7f5>team </mark><mark style=background-color:#f7f7f6>tell </mark><mark style=background-color:#f7f7f6>temporarily </mark><mark style=background-color:#f6f7f5>time </mark><mark style=background-color:#f7f7f7>total </mark><mark style=background-color:#f7f7f7>transition </mark><mark style=background-color:#f6f7f5>twist </mark><mark style=background-color:#f7f7f7>ugly </mark><mark style=background-color:#f7f7f7>victory </mark><mark style=background-color:#f7f7f7>view </mark><mark style=background-color:#f7f7f7>vigorous </mark><mark style=background-color:#f7f7f6>violate </mark><mark style=background-color:#f7f7f6>violation </mark><mark style=background-color:#f7f7f6>voter </mark><mark style=background-color:#f7f7f7>want </mark><mark style=background-color:#f7f6f7>well </mark><mark style=background-color:#f7f7f7>widespread </mark><mark style=background-color:#f7f7f6>win </mark><mark style=background-color:#f7f7f7>worry </mark><mark style=background-color:#f7f7f7>would </mark><mark style=background-color:#f7f7f6>year </mark>"
            ],
            "text/plain": [
              "<IPython.core.display.HTML object>"
            ]
          },
          "metadata": {
            "tags": []
          },
          "execution_count": 55
        }
      ]
    },
    {
      "cell_type": "code",
      "metadata": {
        "colab": {
          "base_uri": "https://localhost:8080/"
        },
        "id": "_kY7HGK4Y7_7",
        "outputId": "01f6801a-3c9f-4aac-ae41-2703ddeb348f"
      },
      "source": [
        "df_z_scaled['Topic-16']"
      ],
      "execution_count": null,
      "outputs": [
        {
          "output_type": "execute_result",
          "data": {
            "text/plain": [
              "0             NaN\n",
              "1        0.682372\n",
              "2         1.78455\n",
              "3       -0.971631\n",
              "4         14.0899\n",
              "          ...    \n",
              "233    -0.0683745\n",
              "234   -0.00606137\n",
              "235    -0.0655423\n",
              "236     -0.106639\n",
              "237    0.00934363\n",
              "Name: Topic-16, Length: 238, dtype: object"
            ]
          },
          "metadata": {
            "tags": []
          },
          "execution_count": 28
        }
      ]
    },
    {
      "cell_type": "code",
      "metadata": {
        "id": "RDtikUIwY8Cm"
      },
      "source": [
        "import pickle\n",
        "pkl_file = open('drive/My Drive/Top-Ex/articles_cleansed.pkl', 'rb')\n",
        "article_cleansed = pickle.load(pkl_file)\n",
        "pkl_file.close()"
      ],
      "execution_count": null,
      "outputs": []
    },
    {
      "cell_type": "code",
      "metadata": {
        "id": "SzAdtNi2Y8FT"
      },
      "source": [
        "def getTopicVariationsByDrop(model, corpusItem):\n",
        "  predict = []\n",
        "  for i in range(len(corpusItem)):\n",
        "    item = corpusItem.copy()\n",
        "    item.pop(i)\n",
        "    predict.append(lda_model.get_document_topics(item))\n",
        "  return predict"
      ],
      "execution_count": null,
      "outputs": []
    },
    {
      "cell_type": "code",
      "metadata": {
        "id": "ZjOGbvIoY8H8"
      },
      "source": [
        "p = getTopicVariationsByDrop(lda_model,corpus[0])\n",
        "# df2 = convertTopicstoDF(p,20)"
      ],
      "execution_count": null,
      "outputs": []
    },
    {
      "cell_type": "code",
      "metadata": {
        "colab": {
          "base_uri": "https://localhost:8080/",
          "height": 448
        },
        "id": "eX0M1acJY8Lr",
        "outputId": "be8fda74-ee31-4291-d099-ea25679c38ef"
      },
      "source": [
        "df2"
      ],
      "execution_count": null,
      "outputs": [
        {
          "output_type": "execute_result",
          "data": {
            "text/html": [
              "<div>\n",
              "<style scoped>\n",
              "    .dataframe tbody tr th:only-of-type {\n",
              "        vertical-align: middle;\n",
              "    }\n",
              "\n",
              "    .dataframe tbody tr th {\n",
              "        vertical-align: top;\n",
              "    }\n",
              "\n",
              "    .dataframe thead th {\n",
              "        text-align: right;\n",
              "    }\n",
              "</style>\n",
              "<table border=\"1\" class=\"dataframe\">\n",
              "  <thead>\n",
              "    <tr style=\"text-align: right;\">\n",
              "      <th></th>\n",
              "      <th>Topic-0</th>\n",
              "      <th>Topic-1</th>\n",
              "      <th>Topic-2</th>\n",
              "      <th>Topic-3</th>\n",
              "      <th>Topic-4</th>\n",
              "      <th>Topic-5</th>\n",
              "      <th>Topic-6</th>\n",
              "      <th>Topic-7</th>\n",
              "      <th>Topic-8</th>\n",
              "      <th>Topic-9</th>\n",
              "      <th>Topic-10</th>\n",
              "      <th>Topic-11</th>\n",
              "      <th>Topic-12</th>\n",
              "      <th>Topic-13</th>\n",
              "      <th>Topic-14</th>\n",
              "      <th>Topic-15</th>\n",
              "      <th>Topic-16</th>\n",
              "      <th>Topic-17</th>\n",
              "      <th>Topic-18</th>\n",
              "      <th>Topic-19</th>\n",
              "    </tr>\n",
              "  </thead>\n",
              "  <tbody>\n",
              "    <tr>\n",
              "      <th>0</th>\n",
              "      <td>0.0677024</td>\n",
              "      <td>0</td>\n",
              "      <td>0</td>\n",
              "      <td>0.23992</td>\n",
              "      <td>0</td>\n",
              "      <td>0</td>\n",
              "      <td>0</td>\n",
              "      <td>0.0871607</td>\n",
              "      <td>0.072319</td>\n",
              "      <td>0</td>\n",
              "      <td>0.0227176</td>\n",
              "      <td>0.0107508</td>\n",
              "      <td>0.134205</td>\n",
              "      <td>0</td>\n",
              "      <td>0</td>\n",
              "      <td>0</td>\n",
              "      <td>0.333824</td>\n",
              "      <td>0</td>\n",
              "      <td>0</td>\n",
              "      <td>0</td>\n",
              "    </tr>\n",
              "    <tr>\n",
              "      <th>1</th>\n",
              "      <td>0.0676354</td>\n",
              "      <td>0</td>\n",
              "      <td>0</td>\n",
              "      <td>0.243912</td>\n",
              "      <td>0</td>\n",
              "      <td>0</td>\n",
              "      <td>0</td>\n",
              "      <td>0.0864805</td>\n",
              "      <td>0.0723212</td>\n",
              "      <td>0</td>\n",
              "      <td>0.0226252</td>\n",
              "      <td>0.0108268</td>\n",
              "      <td>0.13457</td>\n",
              "      <td>0</td>\n",
              "      <td>0</td>\n",
              "      <td>0</td>\n",
              "      <td>0.330508</td>\n",
              "      <td>0</td>\n",
              "      <td>0</td>\n",
              "      <td>0</td>\n",
              "    </tr>\n",
              "    <tr>\n",
              "      <th>2</th>\n",
              "      <td>0.0677067</td>\n",
              "      <td>0</td>\n",
              "      <td>0</td>\n",
              "      <td>0.240736</td>\n",
              "      <td>0</td>\n",
              "      <td>0</td>\n",
              "      <td>0</td>\n",
              "      <td>0.0868159</td>\n",
              "      <td>0.0716593</td>\n",
              "      <td>0</td>\n",
              "      <td>0.0226919</td>\n",
              "      <td>0.0108214</td>\n",
              "      <td>0.134199</td>\n",
              "      <td>0</td>\n",
              "      <td>0</td>\n",
              "      <td>0</td>\n",
              "      <td>0.334043</td>\n",
              "      <td>0</td>\n",
              "      <td>0</td>\n",
              "      <td>0</td>\n",
              "    </tr>\n",
              "    <tr>\n",
              "      <th>3</th>\n",
              "      <td>0.0700383</td>\n",
              "      <td>0</td>\n",
              "      <td>0</td>\n",
              "      <td>0.245508</td>\n",
              "      <td>0</td>\n",
              "      <td>0</td>\n",
              "      <td>0</td>\n",
              "      <td>0.0931357</td>\n",
              "      <td>0.0771119</td>\n",
              "      <td>0</td>\n",
              "      <td>0.0244577</td>\n",
              "      <td>0.0120305</td>\n",
              "      <td>0.144426</td>\n",
              "      <td>0</td>\n",
              "      <td>0</td>\n",
              "      <td>0</td>\n",
              "      <td>0.300612</td>\n",
              "      <td>0</td>\n",
              "      <td>0</td>\n",
              "      <td>0</td>\n",
              "    </tr>\n",
              "    <tr>\n",
              "      <th>4</th>\n",
              "      <td>0.0677261</td>\n",
              "      <td>0</td>\n",
              "      <td>0</td>\n",
              "      <td>0.239304</td>\n",
              "      <td>0</td>\n",
              "      <td>0</td>\n",
              "      <td>0</td>\n",
              "      <td>0.0868544</td>\n",
              "      <td>0.0722954</td>\n",
              "      <td>0</td>\n",
              "      <td>0.0227395</td>\n",
              "      <td>0.0108227</td>\n",
              "      <td>0.134073</td>\n",
              "      <td>0</td>\n",
              "      <td>0</td>\n",
              "      <td>0</td>\n",
              "      <td>0.33435</td>\n",
              "      <td>0</td>\n",
              "      <td>0</td>\n",
              "      <td>0</td>\n",
              "    </tr>\n",
              "    <tr>\n",
              "      <th>...</th>\n",
              "      <td>...</td>\n",
              "      <td>...</td>\n",
              "      <td>...</td>\n",
              "      <td>...</td>\n",
              "      <td>...</td>\n",
              "      <td>...</td>\n",
              "      <td>...</td>\n",
              "      <td>...</td>\n",
              "      <td>...</td>\n",
              "      <td>...</td>\n",
              "      <td>...</td>\n",
              "      <td>...</td>\n",
              "      <td>...</td>\n",
              "      <td>...</td>\n",
              "      <td>...</td>\n",
              "      <td>...</td>\n",
              "      <td>...</td>\n",
              "      <td>...</td>\n",
              "      <td>...</td>\n",
              "      <td>...</td>\n",
              "    </tr>\n",
              "    <tr>\n",
              "      <th>233</th>\n",
              "      <td>0.0677148</td>\n",
              "      <td>0</td>\n",
              "      <td>0</td>\n",
              "      <td>0.24215</td>\n",
              "      <td>0</td>\n",
              "      <td>0</td>\n",
              "      <td>0</td>\n",
              "      <td>0.0860701</td>\n",
              "      <td>0.0723556</td>\n",
              "      <td>0</td>\n",
              "      <td>0.0228089</td>\n",
              "      <td>0.0106671</td>\n",
              "      <td>0.134287</td>\n",
              "      <td>0</td>\n",
              "      <td>0</td>\n",
              "      <td>0</td>\n",
              "      <td>0.332514</td>\n",
              "      <td>0</td>\n",
              "      <td>0</td>\n",
              "      <td>0</td>\n",
              "    </tr>\n",
              "    <tr>\n",
              "      <th>234</th>\n",
              "      <td>0.0625106</td>\n",
              "      <td>0</td>\n",
              "      <td>0</td>\n",
              "      <td>0.24436</td>\n",
              "      <td>0</td>\n",
              "      <td>0</td>\n",
              "      <td>0</td>\n",
              "      <td>0.0876919</td>\n",
              "      <td>0.0722907</td>\n",
              "      <td>0</td>\n",
              "      <td>0.0227165</td>\n",
              "      <td>0.010889</td>\n",
              "      <td>0.134393</td>\n",
              "      <td>0</td>\n",
              "      <td>0</td>\n",
              "      <td>0</td>\n",
              "      <td>0.334329</td>\n",
              "      <td>0</td>\n",
              "      <td>0</td>\n",
              "      <td>0</td>\n",
              "    </tr>\n",
              "    <tr>\n",
              "      <th>235</th>\n",
              "      <td>0.0677485</td>\n",
              "      <td>0</td>\n",
              "      <td>0</td>\n",
              "      <td>0.243922</td>\n",
              "      <td>0</td>\n",
              "      <td>0</td>\n",
              "      <td>0</td>\n",
              "      <td>0.0868074</td>\n",
              "      <td>0.0722769</td>\n",
              "      <td>0</td>\n",
              "      <td>0.0218809</td>\n",
              "      <td>0.0108405</td>\n",
              "      <td>0.129647</td>\n",
              "      <td>0</td>\n",
              "      <td>0</td>\n",
              "      <td>0</td>\n",
              "      <td>0.335642</td>\n",
              "      <td>0</td>\n",
              "      <td>0</td>\n",
              "      <td>0</td>\n",
              "    </tr>\n",
              "    <tr>\n",
              "      <th>236</th>\n",
              "      <td>0.0680387</td>\n",
              "      <td>0</td>\n",
              "      <td>0</td>\n",
              "      <td>0.238454</td>\n",
              "      <td>0</td>\n",
              "      <td>0</td>\n",
              "      <td>0</td>\n",
              "      <td>0.0882185</td>\n",
              "      <td>0.0731419</td>\n",
              "      <td>0</td>\n",
              "      <td>0.022461</td>\n",
              "      <td>0.0109827</td>\n",
              "      <td>0.134556</td>\n",
              "      <td>0</td>\n",
              "      <td>0</td>\n",
              "      <td>0</td>\n",
              "      <td>0.331955</td>\n",
              "      <td>0</td>\n",
              "      <td>0</td>\n",
              "      <td>0</td>\n",
              "    </tr>\n",
              "    <tr>\n",
              "      <th>237</th>\n",
              "      <td>0.0677195</td>\n",
              "      <td>0</td>\n",
              "      <td>0</td>\n",
              "      <td>0.243786</td>\n",
              "      <td>0</td>\n",
              "      <td>0</td>\n",
              "      <td>0</td>\n",
              "      <td>0.0865356</td>\n",
              "      <td>0.0710162</td>\n",
              "      <td>0</td>\n",
              "      <td>0.0226875</td>\n",
              "      <td>0.0108534</td>\n",
              "      <td>0.131354</td>\n",
              "      <td>0</td>\n",
              "      <td>0</td>\n",
              "      <td>0</td>\n",
              "      <td>0.334864</td>\n",
              "      <td>0</td>\n",
              "      <td>0</td>\n",
              "      <td>0</td>\n",
              "    </tr>\n",
              "  </tbody>\n",
              "</table>\n",
              "<p>238 rows × 20 columns</p>\n",
              "</div>"
            ],
            "text/plain": [
              "       Topic-0 Topic-1 Topic-2   Topic-3  ...  Topic-16 Topic-17 Topic-18 Topic-19\n",
              "0    0.0677024       0       0   0.23992  ...  0.333824        0        0        0\n",
              "1    0.0676354       0       0  0.243912  ...  0.330508        0        0        0\n",
              "2    0.0677067       0       0  0.240736  ...  0.334043        0        0        0\n",
              "3    0.0700383       0       0  0.245508  ...  0.300612        0        0        0\n",
              "4    0.0677261       0       0  0.239304  ...   0.33435        0        0        0\n",
              "..         ...     ...     ...       ...  ...       ...      ...      ...      ...\n",
              "233  0.0677148       0       0   0.24215  ...  0.332514        0        0        0\n",
              "234  0.0625106       0       0   0.24436  ...  0.334329        0        0        0\n",
              "235  0.0677485       0       0  0.243922  ...  0.335642        0        0        0\n",
              "236  0.0680387       0       0  0.238454  ...  0.331955        0        0        0\n",
              "237  0.0677195       0       0  0.243786  ...  0.334864        0        0        0\n",
              "\n",
              "[238 rows x 20 columns]"
            ]
          },
          "metadata": {
            "tags": []
          },
          "execution_count": 47
        }
      ]
    },
    {
      "cell_type": "code",
      "metadata": {
        "colab": {
          "base_uri": "https://localhost:8080/",
          "height": 465
        },
        "id": "MB3tVuY2Y2ix",
        "outputId": "b71e897d-ebc0-4945-9b5b-1e6c00e67803"
      },
      "source": [
        "difference2 = df2.diff(periods=1)\n",
        "difference2"
      ],
      "execution_count": null,
      "outputs": [
        {
          "output_type": "execute_result",
          "data": {
            "text/html": [
              "<div>\n",
              "<style scoped>\n",
              "    .dataframe tbody tr th:only-of-type {\n",
              "        vertical-align: middle;\n",
              "    }\n",
              "\n",
              "    .dataframe tbody tr th {\n",
              "        vertical-align: top;\n",
              "    }\n",
              "\n",
              "    .dataframe thead th {\n",
              "        text-align: right;\n",
              "    }\n",
              "</style>\n",
              "<table border=\"1\" class=\"dataframe\">\n",
              "  <thead>\n",
              "    <tr style=\"text-align: right;\">\n",
              "      <th></th>\n",
              "      <th>Topic-0</th>\n",
              "      <th>Topic-1</th>\n",
              "      <th>Topic-2</th>\n",
              "      <th>Topic-3</th>\n",
              "      <th>Topic-4</th>\n",
              "      <th>Topic-5</th>\n",
              "      <th>Topic-6</th>\n",
              "      <th>Topic-7</th>\n",
              "      <th>Topic-8</th>\n",
              "      <th>Topic-9</th>\n",
              "      <th>Topic-10</th>\n",
              "      <th>Topic-11</th>\n",
              "      <th>Topic-12</th>\n",
              "      <th>Topic-13</th>\n",
              "      <th>Topic-14</th>\n",
              "      <th>Topic-15</th>\n",
              "      <th>Topic-16</th>\n",
              "      <th>Topic-17</th>\n",
              "      <th>Topic-18</th>\n",
              "      <th>Topic-19</th>\n",
              "    </tr>\n",
              "  </thead>\n",
              "  <tbody>\n",
              "    <tr>\n",
              "      <th>0</th>\n",
              "      <td>NaN</td>\n",
              "      <td>NaN</td>\n",
              "      <td>NaN</td>\n",
              "      <td>NaN</td>\n",
              "      <td>NaN</td>\n",
              "      <td>NaN</td>\n",
              "      <td>NaN</td>\n",
              "      <td>NaN</td>\n",
              "      <td>NaN</td>\n",
              "      <td>NaN</td>\n",
              "      <td>NaN</td>\n",
              "      <td>NaN</td>\n",
              "      <td>NaN</td>\n",
              "      <td>NaN</td>\n",
              "      <td>NaN</td>\n",
              "      <td>NaN</td>\n",
              "      <td>NaN</td>\n",
              "      <td>NaN</td>\n",
              "      <td>NaN</td>\n",
              "      <td>NaN</td>\n",
              "    </tr>\n",
              "    <tr>\n",
              "      <th>1</th>\n",
              "      <td>-6.69882e-05</td>\n",
              "      <td>0</td>\n",
              "      <td>0</td>\n",
              "      <td>0.00399201</td>\n",
              "      <td>0</td>\n",
              "      <td>0</td>\n",
              "      <td>0</td>\n",
              "      <td>-0.000680201</td>\n",
              "      <td>2.24262e-06</td>\n",
              "      <td>0</td>\n",
              "      <td>-9.23481e-05</td>\n",
              "      <td>7.59177e-05</td>\n",
              "      <td>0.000365615</td>\n",
              "      <td>0</td>\n",
              "      <td>0</td>\n",
              "      <td>0</td>\n",
              "      <td>-0.00331566</td>\n",
              "      <td>0</td>\n",
              "      <td>0</td>\n",
              "      <td>0</td>\n",
              "    </tr>\n",
              "    <tr>\n",
              "      <th>2</th>\n",
              "      <td>7.12574e-05</td>\n",
              "      <td>0</td>\n",
              "      <td>0</td>\n",
              "      <td>-0.00317572</td>\n",
              "      <td>0</td>\n",
              "      <td>0</td>\n",
              "      <td>0</td>\n",
              "      <td>0.000335403</td>\n",
              "      <td>-0.000661887</td>\n",
              "      <td>0</td>\n",
              "      <td>6.66194e-05</td>\n",
              "      <td>-5.37932e-06</td>\n",
              "      <td>-0.000371024</td>\n",
              "      <td>0</td>\n",
              "      <td>0</td>\n",
              "      <td>0</td>\n",
              "      <td>0.003535</td>\n",
              "      <td>0</td>\n",
              "      <td>0</td>\n",
              "      <td>0</td>\n",
              "    </tr>\n",
              "    <tr>\n",
              "      <th>3</th>\n",
              "      <td>0.00233161</td>\n",
              "      <td>0</td>\n",
              "      <td>0</td>\n",
              "      <td>0.00477238</td>\n",
              "      <td>0</td>\n",
              "      <td>0</td>\n",
              "      <td>0</td>\n",
              "      <td>0.00631984</td>\n",
              "      <td>0.00545257</td>\n",
              "      <td>0</td>\n",
              "      <td>0.00176584</td>\n",
              "      <td>0.00120911</td>\n",
              "      <td>0.0102269</td>\n",
              "      <td>0</td>\n",
              "      <td>0</td>\n",
              "      <td>0</td>\n",
              "      <td>-0.0334311</td>\n",
              "      <td>0</td>\n",
              "      <td>0</td>\n",
              "      <td>0</td>\n",
              "    </tr>\n",
              "    <tr>\n",
              "      <th>4</th>\n",
              "      <td>-0.00231218</td>\n",
              "      <td>0</td>\n",
              "      <td>0</td>\n",
              "      <td>-0.00620413</td>\n",
              "      <td>0</td>\n",
              "      <td>0</td>\n",
              "      <td>0</td>\n",
              "      <td>-0.00628137</td>\n",
              "      <td>-0.00481649</td>\n",
              "      <td>0</td>\n",
              "      <td>-0.00171817</td>\n",
              "      <td>-0.00120782</td>\n",
              "      <td>-0.0103529</td>\n",
              "      <td>0</td>\n",
              "      <td>0</td>\n",
              "      <td>0</td>\n",
              "      <td>0.033738</td>\n",
              "      <td>0</td>\n",
              "      <td>0</td>\n",
              "      <td>0</td>\n",
              "    </tr>\n",
              "    <tr>\n",
              "      <th>...</th>\n",
              "      <td>...</td>\n",
              "      <td>...</td>\n",
              "      <td>...</td>\n",
              "      <td>...</td>\n",
              "      <td>...</td>\n",
              "      <td>...</td>\n",
              "      <td>...</td>\n",
              "      <td>...</td>\n",
              "      <td>...</td>\n",
              "      <td>...</td>\n",
              "      <td>...</td>\n",
              "      <td>...</td>\n",
              "      <td>...</td>\n",
              "      <td>...</td>\n",
              "      <td>...</td>\n",
              "      <td>...</td>\n",
              "      <td>...</td>\n",
              "      <td>...</td>\n",
              "      <td>...</td>\n",
              "      <td>...</td>\n",
              "    </tr>\n",
              "    <tr>\n",
              "      <th>233</th>\n",
              "      <td>0.000190794</td>\n",
              "      <td>0</td>\n",
              "      <td>0</td>\n",
              "      <td>-0.00163743</td>\n",
              "      <td>0</td>\n",
              "      <td>0</td>\n",
              "      <td>0</td>\n",
              "      <td>-0.00110678</td>\n",
              "      <td>4.38988e-05</td>\n",
              "      <td>0</td>\n",
              "      <td>0.000462657</td>\n",
              "      <td>-0.000187133</td>\n",
              "      <td>0.00408496</td>\n",
              "      <td>0</td>\n",
              "      <td>0</td>\n",
              "      <td>0</td>\n",
              "      <td>-0.00191313</td>\n",
              "      <td>0</td>\n",
              "      <td>0</td>\n",
              "      <td>0</td>\n",
              "    </tr>\n",
              "    <tr>\n",
              "      <th>234</th>\n",
              "      <td>-0.00520423</td>\n",
              "      <td>0</td>\n",
              "      <td>0</td>\n",
              "      <td>0.00221016</td>\n",
              "      <td>0</td>\n",
              "      <td>0</td>\n",
              "      <td>0</td>\n",
              "      <td>0.00162173</td>\n",
              "      <td>-6.49244e-05</td>\n",
              "      <td>0</td>\n",
              "      <td>-9.23406e-05</td>\n",
              "      <td>0.000221962</td>\n",
              "      <td>0.000106484</td>\n",
              "      <td>0</td>\n",
              "      <td>0</td>\n",
              "      <td>0</td>\n",
              "      <td>0.00181577</td>\n",
              "      <td>0</td>\n",
              "      <td>0</td>\n",
              "      <td>0</td>\n",
              "    </tr>\n",
              "    <tr>\n",
              "      <th>235</th>\n",
              "      <td>0.00523788</td>\n",
              "      <td>0</td>\n",
              "      <td>0</td>\n",
              "      <td>-0.000438318</td>\n",
              "      <td>0</td>\n",
              "      <td>0</td>\n",
              "      <td>0</td>\n",
              "      <td>-0.000884436</td>\n",
              "      <td>-1.38283e-05</td>\n",
              "      <td>0</td>\n",
              "      <td>-0.000835655</td>\n",
              "      <td>-4.8548e-05</td>\n",
              "      <td>-0.00474609</td>\n",
              "      <td>0</td>\n",
              "      <td>0</td>\n",
              "      <td>0</td>\n",
              "      <td>0.00131273</td>\n",
              "      <td>0</td>\n",
              "      <td>0</td>\n",
              "      <td>0</td>\n",
              "    </tr>\n",
              "    <tr>\n",
              "      <th>236</th>\n",
              "      <td>0.000290237</td>\n",
              "      <td>0</td>\n",
              "      <td>0</td>\n",
              "      <td>-0.00546794</td>\n",
              "      <td>0</td>\n",
              "      <td>0</td>\n",
              "      <td>0</td>\n",
              "      <td>0.00141111</td>\n",
              "      <td>0.000864998</td>\n",
              "      <td>0</td>\n",
              "      <td>0.000580128</td>\n",
              "      <td>0.000142233</td>\n",
              "      <td>0.00490886</td>\n",
              "      <td>0</td>\n",
              "      <td>0</td>\n",
              "      <td>0</td>\n",
              "      <td>-0.00368699</td>\n",
              "      <td>0</td>\n",
              "      <td>0</td>\n",
              "      <td>0</td>\n",
              "    </tr>\n",
              "    <tr>\n",
              "      <th>237</th>\n",
              "      <td>-0.00031922</td>\n",
              "      <td>0</td>\n",
              "      <td>0</td>\n",
              "      <td>0.00533192</td>\n",
              "      <td>0</td>\n",
              "      <td>0</td>\n",
              "      <td>0</td>\n",
              "      <td>-0.00168289</td>\n",
              "      <td>-0.00212569</td>\n",
              "      <td>0</td>\n",
              "      <td>0.00022644</td>\n",
              "      <td>-0.000129349</td>\n",
              "      <td>-0.00320229</td>\n",
              "      <td>0</td>\n",
              "      <td>0</td>\n",
              "      <td>0</td>\n",
              "      <td>0.00290844</td>\n",
              "      <td>0</td>\n",
              "      <td>0</td>\n",
              "      <td>0</td>\n",
              "    </tr>\n",
              "  </tbody>\n",
              "</table>\n",
              "<p>238 rows × 20 columns</p>\n",
              "</div>"
            ],
            "text/plain": [
              "         Topic-0 Topic-1 Topic-2  ... Topic-17 Topic-18 Topic-19\n",
              "0            NaN     NaN     NaN  ...      NaN      NaN      NaN\n",
              "1   -6.69882e-05       0       0  ...        0        0        0\n",
              "2    7.12574e-05       0       0  ...        0        0        0\n",
              "3     0.00233161       0       0  ...        0        0        0\n",
              "4    -0.00231218       0       0  ...        0        0        0\n",
              "..           ...     ...     ...  ...      ...      ...      ...\n",
              "233  0.000190794       0       0  ...        0        0        0\n",
              "234  -0.00520423       0       0  ...        0        0        0\n",
              "235   0.00523788       0       0  ...        0        0        0\n",
              "236  0.000290237       0       0  ...        0        0        0\n",
              "237  -0.00031922       0       0  ...        0        0        0\n",
              "\n",
              "[238 rows x 20 columns]"
            ]
          },
          "metadata": {
            "tags": []
          },
          "execution_count": 48
        }
      ]
    },
    {
      "cell_type": "code",
      "metadata": {
        "id": "Mc6t7kMXY2lZ"
      },
      "source": [
        "difference2.loc[0] = df2.loc[0]"
      ],
      "execution_count": null,
      "outputs": []
    },
    {
      "cell_type": "code",
      "metadata": {
        "id": "vJpfmghOY2oK"
      },
      "source": [
        "import numpy as np\n",
        "words = [dictionary[id[0]] for id in corpus[0] ]\n",
        "colors = colorize(difference['Topic-16'])"
      ],
      "execution_count": null,
      "outputs": []
    },
    {
      "cell_type": "code",
      "metadata": {
        "colab": {
          "base_uri": "https://localhost:8080/",
          "height": 187
        },
        "id": "ru0lfJjJY2qh",
        "outputId": "ec69edba-ce8f-4fdc-e180-e3c8bd258e88"
      },
      "source": [
        "HTML(\"\".join(list(map(hlstr, words, colors))))"
      ],
      "execution_count": null,
      "outputs": [
        {
          "output_type": "execute_result",
          "data": {
            "text/html": [
              "<mark style=background-color:#d2ecb0>access </mark><mark style=background-color:#f3f6ed>acknowledge </mark><mark style=background-color:#ecf6de>act </mark><mark style=background-color:#f9eff4>administration </mark><mark style=background-color:#276419>advocate </mark><mark style=background-color:#fbe9f2>ally </mark><mark style=background-color:#f1f6ea>anger </mark><mark style=background-color:#f4f7f0>annual </mark><mark style=background-color:#f5f7f2>anticipate </mark><mark style=background-color:#f3f6ed>appeal </mark><mark style=background-color:#fce4f0>appropriate </mark><mark style=background-color:#f2f6ec>appropriation </mark><mark style=background-color:#f5f7f2>aspect </mark><mark style=background-color:#f9f0f5>assert </mark><mark style=background-color:#f1f6e8>avoid </mark><mark style=background-color:#f5f7f3>awkward </mark><mark style=background-color:#f9eff4>backlash </mark><mark style=background-color:#f9f0f5>behalf </mark><mark style=background-color:#f5f7f3>big </mark><mark style=background-color:#f8f3f6>billion </mark><mark style=background-color:#fbe8f2>broad </mark><mark style=background-color:#f6f7f5>cascading </mark><mark style=background-color:#f8f4f6>case </mark><mark style=background-color:#f3f7ef>cause </mark><mark style=background-color:#f7f7f6>challenge </mark><mark style=background-color:#f7f7f6>champion </mark><mark style=background-color:#f8f4f6>chaos </mark><mark style=background-color:#f8f2f5>choose </mark><mark style=background-color:#f8f5f6>come </mark><mark style=background-color:#f4f7f0>comment </mark><mark style=background-color:#f5f7f2>complicate </mark><mark style=background-color:#f5f7f3>conceivably </mark><mark style=background-color:#f8f3f6>concept </mark><mark style=background-color:#f8f3f6>confidence </mark><mark style=background-color:#f5f7f3>confident </mark><mark style=background-color:#f5f7f3>congressional </mark><mark style=background-color:#f8f2f5>consequence </mark><mark style=background-color:#f7f6f7>conservative </mark><mark style=background-color:#f9f1f5>consider </mark><mark style=background-color:#f5f7f2>constitution </mark><mark style=background-color:#faeaf2>consumer </mark><mark style=background-color:#f8f4f6>contend </mark><mark style=background-color:#f6f7f5>continue </mark><mark style=background-color:#f5f7f2>control </mark><mark style=background-color:#f8f5f6>cost </mark><mark style=background-color:#f9f1f5>could </mark><mark style=background-color:#f6f7f5>court </mark><mark style=background-color:#f8f4f6>coverage </mark><mark style=background-color:#f8f5f6>currently </mark><mark style=background-color:#f6f7f5>decision </mark><mark style=background-color:#f3f7ef>deductible </mark><mark style=background-color:#f8f5f6>defend </mark><mark style=background-color:#f6f7f5>demand </mark><mark style=background-color:#f6f7f5>desperate </mark><mark style=background-color:#f8f4f6>destabilize </mark><mark style=background-color:#f8f5f6>devastating </mark><mark style=background-color:#f7f6f7>discuss </mark><mark style=background-color:#f5f7f2>dismiss </mark><mark style=background-color:#f7f7f6>dispute </mark><mark style=background-color:#f2f6ec>distribute </mark><mark style=background-color:#f5f7f3>district </mark><mark style=background-color:#f8f5f6>divulge </mark><mark style=background-color:#f5f7f3>dollar </mark><mark style=background-color:#f8f5f6>drop </mark><mark style=background-color:#f7f7f7>dynamic </mark><mark style=background-color:#f8f5f6>eager </mark><mark style=background-color:#f7f7f7>effect </mark><mark style=background-color:#f8f4f6>effort </mark><mark style=background-color:#f6f7f5>election </mark><mark style=background-color:#f7f7f7>eligible </mark><mark style=background-color:#f7f6f7>end </mark><mark style=background-color:#f7f7f6>entire </mark><mark style=background-color:#f7f6f7>era </mark><mark style=background-color:#f7f6f7>estimate </mark><mark style=background-color:#f7f6f7>evaluate </mark><mark style=background-color:#f5f7f3>even </mark><mark style=background-color:#f8f5f6>exchange </mark><mark style=background-color:#f7f6f7>exit </mark><mark style=background-color:#f6f7f5>expert </mark><mark style=background-color:#f5f7f3>fear </mark><mark style=background-color:#f7f6f7>fight </mark><mark style=background-color:#f8f4f6>find </mark><mark style=background-color:#f8f4f6>flawed </mark><mark style=background-color:#f7f6f7>full </mark><mark style=background-color:#f6f7f5>funding </mark><mark style=background-color:#f7f6f7>future </mark><mark style=background-color:#f7f7f7>gain </mark><mark style=background-color:#f7f6f7>game </mark><mark style=background-color:#f7f7f7>generally </mark><mark style=background-color:#f7f6f7>give </mark><mark style=background-color:#f6f7f5>government </mark><mark style=background-color:#f7f7f6>hand </mark><mark style=background-color:#f7f6f7>handle </mark><mark style=background-color:#f6f7f5>happen </mark><mark style=background-color:#f7f6f7>health_insurance </mark><mark style=background-color:#f8f5f6>house </mark><mark style=background-color:#f8f2f5>huge </mark><mark style=background-color:#f7f6f7>illustrate </mark><mark style=background-color:#f7f6f7>implode </mark><mark style=background-color:#f6f7f5>important </mark><mark style=background-color:#f7f7f6>inappropriate </mark><mark style=background-color:#f7f7f7>inauguration </mark><mark style=background-color:#f5f7f3>inclined </mark><mark style=background-color:#f7f6f7>incoming </mark><mark style=background-color:#f5f7f3>individual </mark><mark style=background-color:#f7f7f7>initially </mark><mark style=background-color:#f5f7f2>insurance </mark><mark style=background-color:#f7f6f7>insurer </mark><mark style=background-color:#f7f6f7>internal </mark><mark style=background-color:#f6f7f5>intervene </mark><mark style=background-color:#f6f7f5>involve </mark><mark style=background-color:#f7f7f6>issue </mark><mark style=background-color:#f6f7f5>lack </mark><mark style=background-color:#f7f7f6>last </mark><mark style=background-color:#f6f7f5>late </mark><mark style=background-color:#f6f7f5>later </mark><mark style=background-color:#f6f7f5>law </mark><mark style=background-color:#f8f4f6>lawsuit </mark><mark style=background-color:#f8f5f6>lawyer </mark><mark style=background-color:#f7f6f7>lead </mark><mark style=background-color:#f6f7f5>leadership </mark><mark style=background-color:#f6f7f5>least </mark><mark style=background-color:#f7f7f6>leave </mark><mark style=background-color:#f7f7f6>legal </mark><mark style=background-color:#f7f6f7>leverage </mark><mark style=background-color:#f6f7f5>limbo </mark><mark style=background-color:#f6f7f5>longer </mark><mark style=background-color:#f7f7f6>lose </mark><mark style=background-color:#f7f6f7>loss </mark><mark style=background-color:#f8f5f6>many </mark><mark style=background-color:#f7f7f7>market </mark><mark style=background-color:#f7f6f7>matter </mark><mark style=background-color:#f6f7f5>may </mark><mark style=background-color:#f7f7f7>million </mark><mark style=background-color:#f7f7f7>money </mark><mark style=background-color:#f7f6f7>month </mark><mark style=background-color:#f5f7f3>nation </mark><mark style=background-color:#f7f7f6>never </mark><mark style=background-color:#f7f6f7>new </mark><mark style=background-color:#f7f7f6>office </mark><mark style=background-color:#f6f7f5>official </mark><mark style=background-color:#f6f7f5>option </mark><mark style=background-color:#f7f7f7>otherwise </mark><mark style=background-color:#f7f7f7>outcome </mark><mark style=background-color:#f7f7f6>overarching </mark><mark style=background-color:#f7f7f7>part </mark><mark style=background-color:#f7f7f6>participant </mark><mark style=background-color:#f7f7f6>pass </mark><mark style=background-color:#f7f7f7>pay </mark><mark style=background-color:#f7f7f7>payment </mark><mark style=background-color:#f7f7f7>people </mark><mark style=background-color:#f7f7f7>permanent </mark><mark style=background-color:#f6f7f5>pileup </mark><mark style=background-color:#f7f7f7>place </mark><mark style=background-color:#f7f7f6>political </mark><mark style=background-color:#f7f7f7>position </mark><mark style=background-color:#f6f7f5>possibility </mark><mark style=background-color:#f7f7f6>potential </mark><mark style=background-color:#f6f7f5>potentially </mark><mark style=background-color:#f7f7f6>power </mark><mark style=background-color:#f7f7f7>precedent </mark><mark style=background-color:#f5f7f3>predict </mark><mark style=background-color:#f7f6f7>prepare </mark><mark style=background-color:#f6f7f5>prerogative </mark><mark style=background-color:#f7f7f7>preserve </mark><mark style=background-color:#f7f7f6>pressure </mark><mark style=background-color:#f6f7f5>prevail </mark><mark style=background-color:#f7f7f6>proceeding </mark><mark style=background-color:#f7f7f7>produce </mark><mark style=background-color:#f7f6f7>program </mark><mark style=background-color:#f7f7f7>prop </mark><mark style=background-color:#f7f6f7>proper </mark><mark style=background-color:#f7f7f6>prosecute </mark><mark style=background-color:#f7f7f7>provide </mark><mark style=background-color:#f7f7f6>purse </mark><mark style=background-color:#f7f7f7>put </mark><mark style=background-color:#f7f7f6>quick </mark><mark style=background-color:#f7f7f7>quickly </mark><mark style=background-color:#f7f7f6>race </mark><mark style=background-color:#f7f7f7>ready </mark><mark style=background-color:#f7f7f6>receive </mark><mark style=background-color:#f6f7f5>reduction </mark><mark style=background-color:#f7f7f7>regard </mark><mark style=background-color:#f6f7f5>relate </mark><mark style=background-color:#f6f7f5>remain </mark><mark style=background-color:#f7f7f6>repercussion </mark><mark style=background-color:#f7f7f6>replacement </mark><mark style=background-color:#f7f7f7>report </mark><mark style=background-color:#f7f7f6>republican </mark><mark style=background-color:#f8f4f6>request </mark><mark style=background-color:#f7f7f6>require </mark><mark style=background-color:#f7f7f7>resolution </mark><mark style=background-color:#f7f7f7>resolve </mark><mark style=background-color:#f6f7f5>restore </mark><mark style=background-color:#f7f7f7>reversed </mark><mark style=background-color:#f7f7f7>rule </mark><mark style=background-color:#f7f7f7>say </mark><mark style=background-color:#f4f7f0>seek </mark><mark style=background-color:#f6f7f5>set </mark><mark style=background-color:#f7f7f6>share </mark><mark style=background-color:#f7f7f7>skepticism </mark><mark style=background-color:#f7f7f6>speaker </mark><mark style=background-color:#f7f7f7>spend </mark><mark style=background-color:#f8f5f6>spokesman </mark><mark style=background-color:#f6f7f5>spur </mark><mark style=background-color:#f7f7f7>stand </mark><mark style=background-color:#f7f7f7>stave </mark><mark style=background-color:#f7f7f7>stop </mark><mark style=background-color:#f7f7f6>strategy </mark><mark style=background-color:#f7f7f6>subsidy </mark><mark style=background-color:#f8f4f6>successfully </mark><mark style=background-color:#f7f7f6>sudden </mark><mark style=background-color:#f7f7f6>suddenly </mark><mark style=background-color:#f7f7f7>suit </mark><mark style=background-color:#f8f5f6>sum </mark><mark style=background-color:#f7f7f7>system </mark><mark style=background-color:#f7f7f7>take </mark><mark style=background-color:#f6f7f5>team </mark><mark style=background-color:#f7f7f6>tell </mark><mark style=background-color:#f7f7f6>temporarily </mark><mark style=background-color:#f6f7f5>time </mark><mark style=background-color:#f7f7f7>total </mark><mark style=background-color:#f7f7f7>transition </mark><mark style=background-color:#f6f7f5>twist </mark><mark style=background-color:#f7f7f7>ugly </mark><mark style=background-color:#f7f7f7>victory </mark><mark style=background-color:#f7f7f7>view </mark><mark style=background-color:#f7f7f7>vigorous </mark><mark style=background-color:#f7f7f6>violate </mark><mark style=background-color:#f7f7f6>violation </mark><mark style=background-color:#f7f7f6>voter </mark><mark style=background-color:#f7f7f7>want </mark><mark style=background-color:#f7f6f7>well </mark><mark style=background-color:#f7f7f7>widespread </mark><mark style=background-color:#f7f7f6>win </mark><mark style=background-color:#f7f7f7>worry </mark><mark style=background-color:#f7f7f7>would </mark><mark style=background-color:#f7f7f6>year </mark>"
            ],
            "text/plain": [
              "<IPython.core.display.HTML object>"
            ]
          },
          "metadata": {
            "tags": []
          },
          "execution_count": 53
        }
      ]
    },
    {
      "cell_type": "code",
      "metadata": {
        "id": "sVfls5EIY2tt"
      },
      "source": [
        ""
      ],
      "execution_count": null,
      "outputs": []
    },
    {
      "cell_type": "code",
      "metadata": {
        "id": "20okY-dtY2xC"
      },
      "source": [
        ""
      ],
      "execution_count": null,
      "outputs": []
    },
    {
      "cell_type": "code",
      "metadata": {
        "id": "lGJL6UAMKIfx"
      },
      "source": [
        "%%capture\n",
        "!pip install dalex"
      ],
      "execution_count": null,
      "outputs": []
    },
    {
      "cell_type": "code",
      "metadata": {
        "id": "NbJw4N2kYzhL"
      },
      "source": [
        "BoW_corpus = [dictionary.doc2bow(doc, allow_update=True) for doc in data_lemmatized]"
      ],
      "execution_count": null,
      "outputs": []
    },
    {
      "cell_type": "code",
      "metadata": {
        "colab": {
          "base_uri": "https://localhost:8080/"
        },
        "id": "uzhxZli2Zb6-",
        "outputId": "980442d6-1de1-45a6-aa88-f547b4d2c8df"
      },
      "source": [
        "print(BoW_corpus[0])"
      ],
      "execution_count": null,
      "outputs": [
        {
          "output_type": "stream",
          "text": [
            "[(0, 1), (1, 1), (2, 1), (3, 10), (4, 1), (5, 1), (6, 1), (7, 1), (8, 2), (9, 3), (10, 2), (11, 1), (12, 1), (13, 1), (14, 1), (15, 1), (16, 1), (17, 1), (18, 1), (19, 1), (20, 1), (21, 1), (22, 3), (23, 2), (24, 1), (25, 1), (26, 1), (27, 2), (28, 3), (29, 1), (30, 1), (31, 1), (32, 1), (33, 1), (34, 1), (35, 2), (36, 1), (37, 1), (38, 1), (39, 3), (40, 1), (41, 1), (42, 1), (43, 1), (44, 2), (45, 8), (46, 2), (47, 1), (48, 1), (49, 2), (50, 1), (51, 1), (52, 1), (53, 1), (54, 1), (55, 1), (56, 1), (57, 1), (58, 3), (59, 1), (60, 1), (61, 1), (62, 1), (63, 1), (64, 1), (65, 1), (66, 2), (67, 1), (68, 1), (69, 1), (70, 1), (71, 1), (72, 1), (73, 1), (74, 1), (75, 1), (76, 1), (77, 1), (78, 1), (79, 1), (80, 2), (81, 2), (82, 1), (83, 1), (84, 1), (85, 1), (86, 1), (87, 1), (88, 1), (89, 2), (90, 1), (91, 1), (92, 1), (93, 1), (94, 2), (95, 6), (96, 1), (97, 1), (98, 1), (99, 1), (100, 1), (101, 1), (102, 1), (103, 1), (104, 1), (105, 2), (106, 1), (107, 2), (108, 1), (109, 1), (110, 1), (111, 2), (112, 1), (113, 1), (114, 1), (115, 1), (116, 4), (117, 2), (118, 3), (119, 2), (120, 1), (121, 1), (122, 1), (123, 2), (124, 1), (125, 1), (126, 1), (127, 1), (128, 2), (129, 1), (130, 1), (131, 3), (132, 4), (133, 1), (134, 2), (135, 2), (136, 1), (137, 2), (138, 1), (139, 1), (140, 1), (141, 1), (142, 1), (143, 1), (144, 1), (145, 1), (146, 1), (147, 1), (148, 1), (149, 1), (150, 1), (151, 1), (152, 1), (153, 1), (154, 2), (155, 1), (156, 1), (157, 1), (158, 1), (159, 3), (160, 2), (161, 1), (162, 1), (163, 1), (164, 1), (165, 1), (166, 1), (167, 1), (168, 1), (169, 3), (170, 1), (171, 1), (172, 1), (173, 2), (174, 1), (175, 1), (176, 2), (177, 1), (178, 1), (179, 1), (180, 2), (181, 1), (182, 1), (183, 1), (184, 1), (185, 1), (186, 1), (187, 1), (188, 6), (189, 1), (190, 3), (191, 1), (192, 1), (193, 1), (194, 1), (195, 2), (196, 4), (197, 4), (198, 2), (199, 1), (200, 1), (201, 1), (202, 6), (203, 1), (204, 1), (205, 1), (206, 1), (207, 1), (208, 1), (209, 7), (210, 1), (211, 1), (212, 1), (213, 3), (214, 1), (215, 1), (216, 3), (217, 1), (218, 1), (219, 1), (220, 2), (221, 1), (222, 1), (223, 1), (224, 1), (225, 2), (226, 1), (227, 1), (228, 1), (229, 1), (230, 1), (231, 2), (232, 1), (233, 1), (234, 1), (235, 1), (236, 3), (237, 1)]\n"
          ],
          "name": "stdout"
        }
      ]
    },
    {
      "cell_type": "code",
      "metadata": {
        "colab": {
          "base_uri": "https://localhost:8080/"
        },
        "id": "ozvI0tMhZlfm",
        "outputId": "f70e57f5-489b-4256-86a3-9a4292895eee"
      },
      "source": [
        "id_words = [[(dictionary[id], count) for id, count in line] for line in BoW_corpus]\n",
        "print(id_words[0])"
      ],
      "execution_count": null,
      "outputs": [
        {
          "output_type": "stream",
          "text": [
            "[('access', 1), ('acknowledge', 1), ('act', 1), ('administration', 10), ('advocate', 1), ('ally', 1), ('anger', 1), ('annual', 1), ('anticipate', 2), ('appeal', 3), ('appropriate', 2), ('appropriation', 1), ('aspect', 1), ('assert', 1), ('avoid', 1), ('awkward', 1), ('backlash', 1), ('behalf', 1), ('big', 1), ('billion', 1), ('broad', 1), ('cascading', 1), ('case', 3), ('cause', 2), ('challenge', 1), ('champion', 1), ('chaos', 1), ('choose', 2), ('come', 3), ('comment', 1), ('complicate', 1), ('conceivably', 1), ('concept', 1), ('confidence', 1), ('confident', 1), ('congressional', 2), ('consequence', 1), ('conservative', 1), ('consider', 1), ('constitution', 3), ('consumer', 1), ('contend', 1), ('continue', 1), ('control', 1), ('cost', 2), ('could', 8), ('court', 2), ('coverage', 1), ('currently', 1), ('decision', 2), ('deductible', 1), ('defend', 1), ('demand', 1), ('desperate', 1), ('destabilize', 1), ('devastating', 1), ('discuss', 1), ('dismiss', 1), ('dispute', 3), ('distribute', 1), ('district', 1), ('divulge', 1), ('dollar', 1), ('drop', 1), ('dynamic', 1), ('eager', 1), ('effect', 2), ('effort', 1), ('election', 1), ('eligible', 1), ('end', 1), ('entire', 1), ('era', 1), ('estimate', 1), ('evaluate', 1), ('even', 1), ('exchange', 1), ('exit', 1), ('expert', 1), ('fear', 1), ('fight', 2), ('find', 2), ('flawed', 1), ('full', 1), ('funding', 1), ('future', 1), ('gain', 1), ('game', 1), ('generally', 1), ('give', 2), ('government', 1), ('hand', 1), ('handle', 1), ('happen', 1), ('health_insurance', 2), ('house', 6), ('huge', 1), ('illustrate', 1), ('implode', 1), ('important', 1), ('inappropriate', 1), ('inauguration', 1), ('inclined', 1), ('incoming', 1), ('individual', 1), ('initially', 2), ('insurance', 1), ('insurer', 2), ('internal', 1), ('intervene', 1), ('involve', 1), ('issue', 2), ('lack', 1), ('last', 1), ('late', 1), ('later', 1), ('law', 4), ('lawsuit', 2), ('lawyer', 3), ('lead', 2), ('leadership', 1), ('least', 1), ('leave', 1), ('legal', 2), ('leverage', 1), ('limbo', 1), ('longer', 1), ('lose', 1), ('loss', 2), ('many', 1), ('market', 1), ('matter', 3), ('may', 4), ('million', 1), ('money', 2), ('month', 2), ('nation', 1), ('never', 2), ('new', 1), ('office', 1), ('official', 1), ('option', 1), ('otherwise', 1), ('outcome', 1), ('overarching', 1), ('part', 1), ('participant', 1), ('pass', 1), ('pay', 1), ('payment', 1), ('people', 1), ('permanent', 1), ('pileup', 1), ('place', 1), ('political', 2), ('position', 1), ('possibility', 1), ('potential', 1), ('potentially', 1), ('power', 3), ('precedent', 2), ('predict', 1), ('prepare', 1), ('prerogative', 1), ('preserve', 1), ('pressure', 1), ('prevail', 1), ('proceeding', 1), ('produce', 1), ('program', 3), ('prop', 1), ('proper', 1), ('prosecute', 1), ('provide', 2), ('purse', 1), ('put', 1), ('quick', 2), ('quickly', 1), ('race', 1), ('ready', 1), ('receive', 2), ('reduction', 1), ('regard', 1), ('relate', 1), ('remain', 1), ('repercussion', 1), ('replacement', 1), ('report', 1), ('republican', 6), ('request', 1), ('require', 3), ('resolution', 1), ('resolve', 1), ('restore', 1), ('reversed', 1), ('rule', 2), ('say', 4), ('seek', 4), ('set', 2), ('share', 1), ('skepticism', 1), ('speaker', 1), ('spend', 6), ('spokesman', 1), ('spur', 1), ('stand', 1), ('stave', 1), ('stop', 1), ('strategy', 1), ('subsidy', 7), ('successfully', 1), ('sudden', 1), ('suddenly', 1), ('suit', 3), ('sum', 1), ('system', 1), ('take', 3), ('team', 1), ('tell', 1), ('temporarily', 1), ('time', 2), ('total', 1), ('transition', 1), ('twist', 1), ('ugly', 1), ('victory', 2), ('view', 1), ('vigorous', 1), ('violate', 1), ('violation', 1), ('voter', 1), ('want', 2), ('well', 1), ('widespread', 1), ('win', 1), ('worry', 1), ('would', 3), ('year', 1)]\n"
          ],
          "name": "stdout"
        }
      ]
    },
    {
      "cell_type": "code",
      "metadata": {
        "colab": {
          "base_uri": "https://localhost:8080/"
        },
        "id": "nXhyoEDfZwlj",
        "outputId": "d3608100-4773-4ba5-8d9c-9dc0186ac1b4"
      },
      "source": [
        "lda_model.show_topics"
      ],
      "execution_count": null,
      "outputs": [
        {
          "output_type": "execute_result",
          "data": {
            "text/plain": [
              "<bound method LdaModel.show_topics of <gensim.models.ldamodel.LdaModel object at 0x7fe1f4ada850>>"
            ]
          },
          "metadata": {
            "tags": []
          },
          "execution_count": 31
        }
      ]
    },
    {
      "cell_type": "code",
      "metadata": {
        "id": "bdmVPPNDU0wi"
      },
      "source": [
        "def convertCorpusToBOW():\n",
        "  "
      ],
      "execution_count": null,
      "outputs": []
    },
    {
      "cell_type": "code",
      "metadata": {
        "id": "XiK0JrbBHTvq",
        "colab": {
          "base_uri": "https://localhost:8080/",
          "height": 387
        },
        "outputId": "f2c5eeb3-d555-428a-b5e5-cfd728f188d6"
      },
      "source": [
        "import dalex as dx\n",
        "\n",
        "lda_model_xp = dx.Explainer(lda_model, corpus, topics['Topic_01'],\n",
        "                  label = \"Titanic RF Pipeline\")"
      ],
      "execution_count": null,
      "outputs": [
        {
          "output_type": "stream",
          "text": [
            "Preparation of a new explainer is initiated\n",
            "\n"
          ],
          "name": "stdout"
        },
        {
          "output_type": "error",
          "ename": "TypeError",
          "evalue": "ignored",
          "traceback": [
            "\u001b[0;31m---------------------------------------------------------------------------\u001b[0m",
            "\u001b[0;31mTypeError\u001b[0m                                 Traceback (most recent call last)",
            "\u001b[0;32m<ipython-input-14-3638ffefefa0>\u001b[0m in \u001b[0;36m<module>\u001b[0;34m()\u001b[0m\n\u001b[1;32m      2\u001b[0m \u001b[0;34m\u001b[0m\u001b[0m\n\u001b[1;32m      3\u001b[0m lda_model_xp = dx.Explainer(lda_model, corpus, topics['Topic_01'],\n\u001b[0;32m----> 4\u001b[0;31m                   label = \"Titanic RF Pipeline\")\n\u001b[0m",
            "\u001b[0;32m/usr/local/lib/python3.7/dist-packages/dalex/_explainer/object.py\u001b[0m in \u001b[0;36m__init__\u001b[0;34m(self, model, data, y, predict_function, residual_function, weights, label, model_class, verbose, precalculate, model_type, model_info)\u001b[0m\n\u001b[1;32m    119\u001b[0m \u001b[0;34m\u001b[0m\u001b[0m\n\u001b[1;32m    120\u001b[0m         \u001b[0;31m# REPORT: checks for data\u001b[0m\u001b[0;34m\u001b[0m\u001b[0;34m\u001b[0m\u001b[0;34m\u001b[0m\u001b[0m\n\u001b[0;32m--> 121\u001b[0;31m         \u001b[0mdata\u001b[0m\u001b[0;34m,\u001b[0m \u001b[0mmodel\u001b[0m \u001b[0;34m=\u001b[0m \u001b[0mchecks\u001b[0m\u001b[0;34m.\u001b[0m\u001b[0mcheck_data\u001b[0m\u001b[0;34m(\u001b[0m\u001b[0mdata\u001b[0m\u001b[0;34m,\u001b[0m \u001b[0mmodel\u001b[0m\u001b[0;34m,\u001b[0m \u001b[0mverbose\u001b[0m\u001b[0;34m)\u001b[0m\u001b[0;34m\u001b[0m\u001b[0;34m\u001b[0m\u001b[0m\n\u001b[0m\u001b[1;32m    122\u001b[0m \u001b[0;34m\u001b[0m\u001b[0m\n\u001b[1;32m    123\u001b[0m         \u001b[0;31m# REPORT: checks for y\u001b[0m\u001b[0;34m\u001b[0m\u001b[0;34m\u001b[0m\u001b[0;34m\u001b[0m\u001b[0m\n",
            "\u001b[0;32m/usr/local/lib/python3.7/dist-packages/dalex/_explainer/checks.py\u001b[0m in \u001b[0;36mcheck_data\u001b[0;34m(data, model, verbose)\u001b[0m\n\u001b[1;32m     22\u001b[0m             \u001b[0mdata\u001b[0m \u001b[0;34m=\u001b[0m \u001b[0mdata\u001b[0m\u001b[0;34m.\u001b[0m\u001b[0mas_data_frame\u001b[0m\u001b[0;34m(\u001b[0m\u001b[0;34m)\u001b[0m\u001b[0;34m\u001b[0m\u001b[0;34m\u001b[0m\u001b[0m\n\u001b[1;32m     23\u001b[0m         \u001b[0;32melif\u001b[0m \u001b[0;32mnot\u001b[0m \u001b[0misinstance\u001b[0m\u001b[0;34m(\u001b[0m\u001b[0mdata\u001b[0m\u001b[0;34m,\u001b[0m \u001b[0mpd\u001b[0m\u001b[0;34m.\u001b[0m\u001b[0mDataFrame\u001b[0m\u001b[0;34m)\u001b[0m\u001b[0;34m:\u001b[0m\u001b[0;34m\u001b[0m\u001b[0;34m\u001b[0m\u001b[0m\n\u001b[0;32m---> 24\u001b[0;31m             \u001b[0;32mraise\u001b[0m \u001b[0mTypeError\u001b[0m\u001b[0;34m(\u001b[0m\u001b[0;34m\"'data' must be pandas.DataFrame or numpy.ndarray\"\u001b[0m\u001b[0;34m)\u001b[0m\u001b[0;34m\u001b[0m\u001b[0;34m\u001b[0m\u001b[0m\n\u001b[0m\u001b[1;32m     25\u001b[0m \u001b[0;34m\u001b[0m\u001b[0m\n\u001b[1;32m     26\u001b[0m         \u001b[0;32mif\u001b[0m \u001b[0mdata\u001b[0m\u001b[0;34m.\u001b[0m\u001b[0mindex\u001b[0m\u001b[0;34m.\u001b[0m\u001b[0munique\u001b[0m\u001b[0;34m(\u001b[0m\u001b[0;34m)\u001b[0m\u001b[0;34m.\u001b[0m\u001b[0mshape\u001b[0m\u001b[0;34m[\u001b[0m\u001b[0;36m0\u001b[0m\u001b[0;34m]\u001b[0m \u001b[0;34m!=\u001b[0m \u001b[0mdata\u001b[0m\u001b[0;34m.\u001b[0m\u001b[0mshape\u001b[0m\u001b[0;34m[\u001b[0m\u001b[0;36m0\u001b[0m\u001b[0;34m]\u001b[0m\u001b[0;34m:\u001b[0m\u001b[0;34m\u001b[0m\u001b[0;34m\u001b[0m\u001b[0m\n",
            "\u001b[0;31mTypeError\u001b[0m: 'data' must be pandas.DataFrame or numpy.ndarray"
          ]
        }
      ]
    },
    {
      "cell_type": "code",
      "metadata": {
        "colab": {
          "base_uri": "https://localhost:8080/",
          "height": 35
        },
        "id": "L9hixFzTQzyy",
        "outputId": "8ccb464d-dae2-4227-955f-326e4242e6be"
      },
      "source": [
        "dx.__version__"
      ],
      "execution_count": null,
      "outputs": [
        {
          "output_type": "execute_result",
          "data": {
            "application/vnd.google.colaboratory.intrinsic+json": {
              "type": "string"
            },
            "text/plain": [
              "'1.2.0'"
            ]
          },
          "metadata": {
            "tags": []
          },
          "execution_count": 13
        }
      ]
    },
    {
      "cell_type": "code",
      "metadata": {
        "id": "TLnMiw4qKHeA",
        "colab": {
          "base_uri": "https://localhost:8080/"
        },
        "outputId": "79d7be95-6d91-4838-e79c-a92ab3efa321"
      },
      "source": [
        "print(\"\\033[1;37;40m \\033[2;37:40m TextColour BlackBackground          TextColour GreyBackground                WhiteText ColouredBackground\\033[0;37;40m\\n\")\n",
        "print(\"\\033[1;30;40m Dark Gray      \\033[0m 1;30;40m            \\033[0;30;47m Black      \\033[0m 0;30;47m               \\033[0;37;41m Black      \\033[0m 0;37;41m\")\n",
        "print(\"\\033[1;31;40m Bright Red     \\033[0m 1;31;40m            \\033[0;31;47m Red        \\033[0m 0;31;47m               \\033[0;37;42m Black      \\033[0m 0;37;42m\")\n",
        "print(\"\\033[1;32;40m Bright Green   \\033[0m 1;32;40m            \\033[0;32;47m Green      \\033[0m 0;32;47m               \\033[0;37;43m Black      \\033[0m 0;37;43m\")\n",
        "print(\"\\033[1;33;40m Yellow         \\033[0m 1;33;40m            \\033[0;33;47m Brown      \\033[0m 0;33;47m               \\033[0;37;44m Black      \\033[0m 0;37;44m\")\n",
        "print(\"\\033[1;34;40m Bright Blue    \\033[0m 1;34;40m            \\033[0;34;47m Blue       \\033[0m 0;34;47m               \\033[0;37;45m Black      \\033[0m 0;37;45m\")\n",
        "print(\"\\033[1;35;40m Bright Magenta \\033[0m 1;35;40m            \\033[0;35;47m Magenta    \\033[0m 0;35;47m               \\033[0;37;46m Black      \\033[0m 0;37;46m\")\n",
        "print(\"\\033[1;36;40m Bright Cyan    \\033[0m 1;36;40m            \\033[0;36;47m Cyan       \\033[0m 0;36;47m               \\033[0;37;47m Black      \\033[0m 0;37;47m\")\n",
        "print(\"\\033[1;37;40m White          \\033[0m 1;37;40m            \\033[0;37;40m Light Grey \\033[0m 0;37;40m               \\033[0;37;48m Black      \\033[0m 0;37;48m\")\n"
      ],
      "execution_count": null,
      "outputs": [
        {
          "output_type": "stream",
          "text": [
            "\u001b[1;37;40m \u001b[2;37:40m TextColour BlackBackground          TextColour GreyBackground                WhiteText ColouredBackground\u001b[0;37;40m\n",
            "\n",
            "\u001b[1;30;40m Dark Gray      \u001b[0m 1;30;40m            \u001b[0;30;47m Black      \u001b[0m 0;30;47m               \u001b[0;37;41m Black      \u001b[0m 0;37;41m\n",
            "\u001b[1;31;40m Bright Red     \u001b[0m 1;31;40m            \u001b[0;31;47m Red        \u001b[0m 0;31;47m               \u001b[0;37;42m Black      \u001b[0m 0;37;42m\n",
            "\u001b[1;32;40m Bright Green   \u001b[0m 1;32;40m            \u001b[0;32;47m Green      \u001b[0m 0;32;47m               \u001b[0;37;43m Black      \u001b[0m 0;37;43m\n",
            "\u001b[1;33;40m Yellow         \u001b[0m 1;33;40m            \u001b[0;33;47m Brown      \u001b[0m 0;33;47m               \u001b[0;37;44m Black      \u001b[0m 0;37;44m\n",
            "\u001b[1;34;40m Bright Blue    \u001b[0m 1;34;40m            \u001b[0;34;47m Blue       \u001b[0m 0;34;47m               \u001b[0;37;45m Black      \u001b[0m 0;37;45m\n",
            "\u001b[1;35;40m Bright Magenta \u001b[0m 1;35;40m            \u001b[0;35;47m Magenta    \u001b[0m 0;35;47m               \u001b[0;37;46m Black      \u001b[0m 0;37;46m\n",
            "\u001b[1;36;40m Bright Cyan    \u001b[0m 1;36;40m            \u001b[0;36;47m Cyan       \u001b[0m 0;36;47m               \u001b[0;37;47m Black      \u001b[0m 0;37;47m\n",
            "\u001b[1;37;40m White          \u001b[0m 1;37;40m            \u001b[0;37;40m Light Grey \u001b[0m 0;37;40m               \u001b[0;37;48m Black      \u001b[0m 0;37;48m\n"
          ],
          "name": "stdout"
        }
      ]
    },
    {
      "cell_type": "code",
      "metadata": {
        "colab": {
          "base_uri": "https://localhost:8080/"
        },
        "id": "jR1-kC94LCRJ",
        "outputId": "cf497fac-dce2-448b-ed73-e5d1eaa8d960"
      },
      "source": [
        "print( \"\\033[1;37;40m Black  \")"
      ],
      "execution_count": null,
      "outputs": [
        {
          "output_type": "stream",
          "text": [
            "\u001b[1;37;40m Black  \n"
          ],
          "name": "stdout"
        }
      ]
    },
    {
      "cell_type": "code",
      "metadata": {
        "id": "yXNRYL4eLk9d"
      },
      "source": [
        ""
      ],
      "execution_count": null,
      "outputs": []
    }
  ]
}