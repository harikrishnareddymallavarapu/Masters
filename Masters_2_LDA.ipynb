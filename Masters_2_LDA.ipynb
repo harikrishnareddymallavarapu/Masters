{
  "nbformat": 4,
  "nbformat_minor": 0,
  "metadata": {
    "colab": {
      "name": "Masters - 2 LDA.ipynb",
      "provenance": [],
      "collapsed_sections": [],
      "authorship_tag": "ABX9TyOHgQmG6bVH7tUGh+e2bLbR",
      "include_colab_link": true
    },
    "kernelspec": {
      "display_name": "Python 3",
      "name": "python3"
    },
    "language_info": {
      "name": "python"
    }
  },
  "cells": [
    {
      "cell_type": "markdown",
      "metadata": {
        "id": "view-in-github",
        "colab_type": "text"
      },
      "source": [
        "<a href=\"https://colab.research.google.com/github/harikrishnareddymallavarapu/Masters/blob/main/Masters_2_LDA.ipynb\" target=\"_parent\"><img src=\"https://colab.research.google.com/assets/colab-badge.svg\" alt=\"Open In Colab\"/></a>"
      ]
    },
    {
      "cell_type": "code",
      "metadata": {
        "id": "9p8S__0us0nQ"
      },
      "source": [
        "%%capture\n",
        "# Run in python console\n",
        "import nltk; \n",
        "nltk.download('stopwords')\n",
        "\n",
        "# Run in terminal or command prompt\n",
        "!python3 -m spacy download en"
      ],
      "execution_count": 1,
      "outputs": []
    },
    {
      "cell_type": "code",
      "metadata": {
        "colab": {
          "base_uri": "https://localhost:8080/",
          "height": 995
        },
        "id": "vLoiN2tqtP8_",
        "outputId": "2c23ffd0-f777-4eb9-e73c-98ac315bc923"
      },
      "source": [
        "!pip install pyLDAvis"
      ],
      "execution_count": 33,
      "outputs": [
        {
          "output_type": "stream",
          "text": [
            "Collecting pyLDAvis\n",
            "  Downloading pyLDAvis-3.3.1.tar.gz (1.7 MB)\n",
            "\u001b[?25l\r\u001b[K     |▏                               | 10 kB 24.0 MB/s eta 0:00:01\r\u001b[K     |▍                               | 20 kB 30.4 MB/s eta 0:00:01\r\u001b[K     |▋                               | 30 kB 21.6 MB/s eta 0:00:01\r\u001b[K     |▉                               | 40 kB 18.4 MB/s eta 0:00:01\r\u001b[K     |█                               | 51 kB 8.2 MB/s eta 0:00:01\r\u001b[K     |█▏                              | 61 kB 9.5 MB/s eta 0:00:01\r\u001b[K     |█▍                              | 71 kB 8.9 MB/s eta 0:00:01\r\u001b[K     |█▋                              | 81 kB 9.9 MB/s eta 0:00:01\r\u001b[K     |█▉                              | 92 kB 10.3 MB/s eta 0:00:01\r\u001b[K     |██                              | 102 kB 8.3 MB/s eta 0:00:01\r\u001b[K     |██▏                             | 112 kB 8.3 MB/s eta 0:00:01\r\u001b[K     |██▍                             | 122 kB 8.3 MB/s eta 0:00:01\r\u001b[K     |██▋                             | 133 kB 8.3 MB/s eta 0:00:01\r\u001b[K     |██▊                             | 143 kB 8.3 MB/s eta 0:00:01\r\u001b[K     |███                             | 153 kB 8.3 MB/s eta 0:00:01\r\u001b[K     |███▏                            | 163 kB 8.3 MB/s eta 0:00:01\r\u001b[K     |███▍                            | 174 kB 8.3 MB/s eta 0:00:01\r\u001b[K     |███▋                            | 184 kB 8.3 MB/s eta 0:00:01\r\u001b[K     |███▊                            | 194 kB 8.3 MB/s eta 0:00:01\r\u001b[K     |████                            | 204 kB 8.3 MB/s eta 0:00:01\r\u001b[K     |████▏                           | 215 kB 8.3 MB/s eta 0:00:01\r\u001b[K     |████▍                           | 225 kB 8.3 MB/s eta 0:00:01\r\u001b[K     |████▋                           | 235 kB 8.3 MB/s eta 0:00:01\r\u001b[K     |████▊                           | 245 kB 8.3 MB/s eta 0:00:01\r\u001b[K     |█████                           | 256 kB 8.3 MB/s eta 0:00:01\r\u001b[K     |█████▏                          | 266 kB 8.3 MB/s eta 0:00:01\r\u001b[K     |█████▍                          | 276 kB 8.3 MB/s eta 0:00:01\r\u001b[K     |█████▌                          | 286 kB 8.3 MB/s eta 0:00:01\r\u001b[K     |█████▊                          | 296 kB 8.3 MB/s eta 0:00:01\r\u001b[K     |██████                          | 307 kB 8.3 MB/s eta 0:00:01\r\u001b[K     |██████▏                         | 317 kB 8.3 MB/s eta 0:00:01\r\u001b[K     |██████▍                         | 327 kB 8.3 MB/s eta 0:00:01\r\u001b[K     |██████▌                         | 337 kB 8.3 MB/s eta 0:00:01\r\u001b[K     |██████▊                         | 348 kB 8.3 MB/s eta 0:00:01\r\u001b[K     |███████                         | 358 kB 8.3 MB/s eta 0:00:01\r\u001b[K     |███████▏                        | 368 kB 8.3 MB/s eta 0:00:01\r\u001b[K     |███████▎                        | 378 kB 8.3 MB/s eta 0:00:01\r\u001b[K     |███████▌                        | 389 kB 8.3 MB/s eta 0:00:01\r\u001b[K     |███████▊                        | 399 kB 8.3 MB/s eta 0:00:01\r\u001b[K     |████████                        | 409 kB 8.3 MB/s eta 0:00:01\r\u001b[K     |████████▏                       | 419 kB 8.3 MB/s eta 0:00:01\r\u001b[K     |████████▎                       | 430 kB 8.3 MB/s eta 0:00:01\r\u001b[K     |████████▌                       | 440 kB 8.3 MB/s eta 0:00:01\r\u001b[K     |████████▊                       | 450 kB 8.3 MB/s eta 0:00:01\r\u001b[K     |█████████                       | 460 kB 8.3 MB/s eta 0:00:01\r\u001b[K     |█████████▏                      | 471 kB 8.3 MB/s eta 0:00:01\r\u001b[K     |█████████▎                      | 481 kB 8.3 MB/s eta 0:00:01\r\u001b[K     |█████████▌                      | 491 kB 8.3 MB/s eta 0:00:01\r\u001b[K     |█████████▊                      | 501 kB 8.3 MB/s eta 0:00:01\r\u001b[K     |██████████                      | 512 kB 8.3 MB/s eta 0:00:01\r\u001b[K     |██████████                      | 522 kB 8.3 MB/s eta 0:00:01\r\u001b[K     |██████████▎                     | 532 kB 8.3 MB/s eta 0:00:01\r\u001b[K     |██████████▌                     | 542 kB 8.3 MB/s eta 0:00:01\r\u001b[K     |██████████▊                     | 552 kB 8.3 MB/s eta 0:00:01\r\u001b[K     |███████████                     | 563 kB 8.3 MB/s eta 0:00:01\r\u001b[K     |███████████                     | 573 kB 8.3 MB/s eta 0:00:01\r\u001b[K     |███████████▎                    | 583 kB 8.3 MB/s eta 0:00:01\r\u001b[K     |███████████▌                    | 593 kB 8.3 MB/s eta 0:00:01\r\u001b[K     |███████████▊                    | 604 kB 8.3 MB/s eta 0:00:01\r\u001b[K     |███████████▉                    | 614 kB 8.3 MB/s eta 0:00:01\r\u001b[K     |████████████                    | 624 kB 8.3 MB/s eta 0:00:01\r\u001b[K     |████████████▎                   | 634 kB 8.3 MB/s eta 0:00:01\r\u001b[K     |████████████▌                   | 645 kB 8.3 MB/s eta 0:00:01\r\u001b[K     |████████████▊                   | 655 kB 8.3 MB/s eta 0:00:01\r\u001b[K     |████████████▉                   | 665 kB 8.3 MB/s eta 0:00:01\r\u001b[K     |█████████████                   | 675 kB 8.3 MB/s eta 0:00:01\r\u001b[K     |█████████████▎                  | 686 kB 8.3 MB/s eta 0:00:01\r\u001b[K     |█████████████▌                  | 696 kB 8.3 MB/s eta 0:00:01\r\u001b[K     |█████████████▊                  | 706 kB 8.3 MB/s eta 0:00:01\r\u001b[K     |█████████████▉                  | 716 kB 8.3 MB/s eta 0:00:01\r\u001b[K     |██████████████                  | 727 kB 8.3 MB/s eta 0:00:01\r\u001b[K     |██████████████▎                 | 737 kB 8.3 MB/s eta 0:00:01\r\u001b[K     |██████████████▌                 | 747 kB 8.3 MB/s eta 0:00:01\r\u001b[K     |██████████████▋                 | 757 kB 8.3 MB/s eta 0:00:01\r\u001b[K     |██████████████▉                 | 768 kB 8.3 MB/s eta 0:00:01\r\u001b[K     |███████████████                 | 778 kB 8.3 MB/s eta 0:00:01\r\u001b[K     |███████████████▎                | 788 kB 8.3 MB/s eta 0:00:01\r\u001b[K     |███████████████▌                | 798 kB 8.3 MB/s eta 0:00:01\r\u001b[K     |███████████████▋                | 808 kB 8.3 MB/s eta 0:00:01\r\u001b[K     |███████████████▉                | 819 kB 8.3 MB/s eta 0:00:01\r\u001b[K     |████████████████                | 829 kB 8.3 MB/s eta 0:00:01\r\u001b[K     |████████████████▎               | 839 kB 8.3 MB/s eta 0:00:01\r\u001b[K     |████████████████▍               | 849 kB 8.3 MB/s eta 0:00:01\r\u001b[K     |████████████████▋               | 860 kB 8.3 MB/s eta 0:00:01\r\u001b[K     |████████████████▉               | 870 kB 8.3 MB/s eta 0:00:01\r\u001b[K     |█████████████████               | 880 kB 8.3 MB/s eta 0:00:01\r\u001b[K     |█████████████████▎              | 890 kB 8.3 MB/s eta 0:00:01\r\u001b[K     |█████████████████▍              | 901 kB 8.3 MB/s eta 0:00:01\r\u001b[K     |█████████████████▋              | 911 kB 8.3 MB/s eta 0:00:01\r\u001b[K     |█████████████████▉              | 921 kB 8.3 MB/s eta 0:00:01\r\u001b[K     |██████████████████              | 931 kB 8.3 MB/s eta 0:00:01\r\u001b[K     |██████████████████▎             | 942 kB 8.3 MB/s eta 0:00:01\r\u001b[K     |██████████████████▍             | 952 kB 8.3 MB/s eta 0:00:01\r\u001b[K     |██████████████████▋             | 962 kB 8.3 MB/s eta 0:00:01\r\u001b[K     |██████████████████▉             | 972 kB 8.3 MB/s eta 0:00:01\r\u001b[K     |███████████████████             | 983 kB 8.3 MB/s eta 0:00:01\r\u001b[K     |███████████████████▏            | 993 kB 8.3 MB/s eta 0:00:01\r\u001b[K     |███████████████████▍            | 1.0 MB 8.3 MB/s eta 0:00:01\r\u001b[K     |███████████████████▋            | 1.0 MB 8.3 MB/s eta 0:00:01\r\u001b[K     |███████████████████▉            | 1.0 MB 8.3 MB/s eta 0:00:01\r\u001b[K     |████████████████████            | 1.0 MB 8.3 MB/s eta 0:00:01\r\u001b[K     |████████████████████▏           | 1.0 MB 8.3 MB/s eta 0:00:01\r\u001b[K     |████████████████████▍           | 1.1 MB 8.3 MB/s eta 0:00:01\r\u001b[K     |████████████████████▋           | 1.1 MB 8.3 MB/s eta 0:00:01\r\u001b[K     |████████████████████▉           | 1.1 MB 8.3 MB/s eta 0:00:01\r\u001b[K     |█████████████████████           | 1.1 MB 8.3 MB/s eta 0:00:01\r\u001b[K     |█████████████████████▏          | 1.1 MB 8.3 MB/s eta 0:00:01\r\u001b[K     |█████████████████████▍          | 1.1 MB 8.3 MB/s eta 0:00:01\r\u001b[K     |█████████████████████▋          | 1.1 MB 8.3 MB/s eta 0:00:01\r\u001b[K     |█████████████████████▉          | 1.1 MB 8.3 MB/s eta 0:00:01\r\u001b[K     |██████████████████████          | 1.1 MB 8.3 MB/s eta 0:00:01\r\u001b[K     |██████████████████████▏         | 1.1 MB 8.3 MB/s eta 0:00:01\r\u001b[K     |██████████████████████▍         | 1.2 MB 8.3 MB/s eta 0:00:01\r\u001b[K     |██████████████████████▋         | 1.2 MB 8.3 MB/s eta 0:00:01\r\u001b[K     |██████████████████████▉         | 1.2 MB 8.3 MB/s eta 0:00:01\r\u001b[K     |███████████████████████         | 1.2 MB 8.3 MB/s eta 0:00:01\r\u001b[K     |███████████████████████▏        | 1.2 MB 8.3 MB/s eta 0:00:01\r\u001b[K     |███████████████████████▍        | 1.2 MB 8.3 MB/s eta 0:00:01\r\u001b[K     |███████████████████████▋        | 1.2 MB 8.3 MB/s eta 0:00:01\r\u001b[K     |███████████████████████▊        | 1.2 MB 8.3 MB/s eta 0:00:01\r\u001b[K     |████████████████████████        | 1.2 MB 8.3 MB/s eta 0:00:01\r\u001b[K     |████████████████████████▏       | 1.2 MB 8.3 MB/s eta 0:00:01\r\u001b[K     |████████████████████████▍       | 1.3 MB 8.3 MB/s eta 0:00:01\r\u001b[K     |████████████████████████▋       | 1.3 MB 8.3 MB/s eta 0:00:01\r\u001b[K     |████████████████████████▊       | 1.3 MB 8.3 MB/s eta 0:00:01\r\u001b[K     |█████████████████████████       | 1.3 MB 8.3 MB/s eta 0:00:01\r\u001b[K     |█████████████████████████▏      | 1.3 MB 8.3 MB/s eta 0:00:01\r\u001b[K     |█████████████████████████▍      | 1.3 MB 8.3 MB/s eta 0:00:01\r\u001b[K     |█████████████████████████▌      | 1.3 MB 8.3 MB/s eta 0:00:01\r\u001b[K     |█████████████████████████▊      | 1.3 MB 8.3 MB/s eta 0:00:01\r\u001b[K     |██████████████████████████      | 1.3 MB 8.3 MB/s eta 0:00:01\r\u001b[K     |██████████████████████████▏     | 1.4 MB 8.3 MB/s eta 0:00:01\r\u001b[K     |██████████████████████████▍     | 1.4 MB 8.3 MB/s eta 0:00:01\r\u001b[K     |██████████████████████████▌     | 1.4 MB 8.3 MB/s eta 0:00:01\r\u001b[K     |██████████████████████████▊     | 1.4 MB 8.3 MB/s eta 0:00:01\r\u001b[K     |███████████████████████████     | 1.4 MB 8.3 MB/s eta 0:00:01\r\u001b[K     |███████████████████████████▏    | 1.4 MB 8.3 MB/s eta 0:00:01\r\u001b[K     |███████████████████████████▍    | 1.4 MB 8.3 MB/s eta 0:00:01\r\u001b[K     |███████████████████████████▌    | 1.4 MB 8.3 MB/s eta 0:00:01\r\u001b[K     |███████████████████████████▊    | 1.4 MB 8.3 MB/s eta 0:00:01\r\u001b[K     |████████████████████████████    | 1.4 MB 8.3 MB/s eta 0:00:01\r\u001b[K     |████████████████████████████▏   | 1.5 MB 8.3 MB/s eta 0:00:01\r\u001b[K     |████████████████████████████▎   | 1.5 MB 8.3 MB/s eta 0:00:01\r\u001b[K     |████████████████████████████▌   | 1.5 MB 8.3 MB/s eta 0:00:01\r\u001b[K     |████████████████████████████▊   | 1.5 MB 8.3 MB/s eta 0:00:01\r\u001b[K     |█████████████████████████████   | 1.5 MB 8.3 MB/s eta 0:00:01\r\u001b[K     |█████████████████████████████▏  | 1.5 MB 8.3 MB/s eta 0:00:01\r\u001b[K     |█████████████████████████████▎  | 1.5 MB 8.3 MB/s eta 0:00:01\r\u001b[K     |█████████████████████████████▌  | 1.5 MB 8.3 MB/s eta 0:00:01\r\u001b[K     |█████████████████████████████▊  | 1.5 MB 8.3 MB/s eta 0:00:01\r\u001b[K     |██████████████████████████████  | 1.5 MB 8.3 MB/s eta 0:00:01\r\u001b[K     |██████████████████████████████▏ | 1.6 MB 8.3 MB/s eta 0:00:01\r\u001b[K     |██████████████████████████████▎ | 1.6 MB 8.3 MB/s eta 0:00:01\r\u001b[K     |██████████████████████████████▌ | 1.6 MB 8.3 MB/s eta 0:00:01\r\u001b[K     |██████████████████████████████▊ | 1.6 MB 8.3 MB/s eta 0:00:01\r\u001b[K     |███████████████████████████████ | 1.6 MB 8.3 MB/s eta 0:00:01\r\u001b[K     |███████████████████████████████ | 1.6 MB 8.3 MB/s eta 0:00:01\r\u001b[K     |███████████████████████████████▎| 1.6 MB 8.3 MB/s eta 0:00:01\r\u001b[K     |███████████████████████████████▌| 1.6 MB 8.3 MB/s eta 0:00:01\r\u001b[K     |███████████████████████████████▊| 1.6 MB 8.3 MB/s eta 0:00:01\r\u001b[K     |████████████████████████████████| 1.6 MB 8.3 MB/s eta 0:00:01\r\u001b[K     |████████████████████████████████| 1.7 MB 8.3 MB/s \n",
            "\u001b[?25h  Installing build dependencies ... \u001b[?25l\u001b[?25hdone\n",
            "  Getting requirements to build wheel ... \u001b[?25l\u001b[?25hdone\n",
            "  Installing backend dependencies ... \u001b[?25l\u001b[?25hdone\n",
            "    Preparing wheel metadata ... \u001b[?25l\u001b[?25hdone\n",
            "Requirement already satisfied: setuptools in /usr/local/lib/python3.7/dist-packages (from pyLDAvis) (57.2.0)\n",
            "Requirement already satisfied: joblib in /usr/local/lib/python3.7/dist-packages (from pyLDAvis) (1.0.1)\n",
            "Requirement already satisfied: gensim in /usr/local/lib/python3.7/dist-packages (from pyLDAvis) (3.6.0)\n",
            "Requirement already satisfied: scipy in /usr/local/lib/python3.7/dist-packages (from pyLDAvis) (1.4.1)\n",
            "Requirement already satisfied: sklearn in /usr/local/lib/python3.7/dist-packages (from pyLDAvis) (0.0)\n",
            "Collecting numpy>=1.20.0\n",
            "  Downloading numpy-1.21.1-cp37-cp37m-manylinux_2_12_x86_64.manylinux2010_x86_64.whl (15.7 MB)\n",
            "\u001b[K     |████████████████████████████████| 15.7 MB 76 kB/s \n",
            "\u001b[?25hRequirement already satisfied: future in /usr/local/lib/python3.7/dist-packages (from pyLDAvis) (0.16.0)\n",
            "Requirement already satisfied: scikit-learn in /usr/local/lib/python3.7/dist-packages (from pyLDAvis) (0.22.2.post1)\n",
            "Collecting funcy\n",
            "  Downloading funcy-1.16-py2.py3-none-any.whl (32 kB)\n",
            "Requirement already satisfied: jinja2 in /usr/local/lib/python3.7/dist-packages (from pyLDAvis) (2.11.3)\n",
            "Collecting pandas>=1.2.0\n",
            "  Downloading pandas-1.3.1-cp37-cp37m-manylinux_2_17_x86_64.manylinux2014_x86_64.whl (11.5 MB)\n",
            "\u001b[K     |████████████████████████████████| 11.5 MB 236 kB/s \n",
            "\u001b[?25hRequirement already satisfied: numexpr in /usr/local/lib/python3.7/dist-packages (from pyLDAvis) (2.7.3)\n",
            "Requirement already satisfied: python-dateutil>=2.7.3 in /usr/local/lib/python3.7/dist-packages (from pandas>=1.2.0->pyLDAvis) (2.8.1)\n",
            "Requirement already satisfied: pytz>=2017.3 in /usr/local/lib/python3.7/dist-packages (from pandas>=1.2.0->pyLDAvis) (2018.9)\n",
            "Requirement already satisfied: six>=1.5 in /usr/local/lib/python3.7/dist-packages (from python-dateutil>=2.7.3->pandas>=1.2.0->pyLDAvis) (1.15.0)\n",
            "Requirement already satisfied: smart-open>=1.2.1 in /usr/local/lib/python3.7/dist-packages (from gensim->pyLDAvis) (5.1.0)\n",
            "Requirement already satisfied: MarkupSafe>=0.23 in /usr/local/lib/python3.7/dist-packages (from jinja2->pyLDAvis) (2.0.1)\n",
            "Building wheels for collected packages: pyLDAvis\n",
            "  Building wheel for pyLDAvis (PEP 517) ... \u001b[?25l\u001b[?25hdone\n",
            "  Created wheel for pyLDAvis: filename=pyLDAvis-3.3.1-py2.py3-none-any.whl size=136897 sha256=0ccb9dc24344d996ada7eecfec685732c5f2141415339e5d4f9ee5b5afff9521\n",
            "  Stored in directory: /root/.cache/pip/wheels/c9/21/f6/17bcf2667e8a68532ba2fbf6d5c72fdf4c7f7d9abfa4852d2f\n",
            "Successfully built pyLDAvis\n",
            "Installing collected packages: numpy, pandas, funcy, pyLDAvis\n",
            "  Attempting uninstall: numpy\n",
            "    Found existing installation: numpy 1.19.5\n",
            "    Uninstalling numpy-1.19.5:\n",
            "      Successfully uninstalled numpy-1.19.5\n",
            "  Attempting uninstall: pandas\n",
            "    Found existing installation: pandas 1.1.5\n",
            "    Uninstalling pandas-1.1.5:\n",
            "      Successfully uninstalled pandas-1.1.5\n",
            "\u001b[31mERROR: pip's dependency resolver does not currently take into account all the packages that are installed. This behaviour is the source of the following dependency conflicts.\n",
            "tensorflow 2.5.0 requires numpy~=1.19.2, but you have numpy 1.21.1 which is incompatible.\n",
            "google-colab 1.0.0 requires pandas~=1.1.0; python_version >= \"3.0\", but you have pandas 1.3.1 which is incompatible.\n",
            "datascience 0.10.6 requires folium==0.2.1, but you have folium 0.8.3 which is incompatible.\n",
            "albumentations 0.1.12 requires imgaug<0.2.7,>=0.2.5, but you have imgaug 0.2.9 which is incompatible.\u001b[0m\n",
            "Successfully installed funcy-1.16 numpy-1.21.1 pandas-1.3.1 pyLDAvis-3.3.1\n"
          ],
          "name": "stdout"
        },
        {
          "output_type": "display_data",
          "data": {
            "application/vnd.colab-display-data+json": {
              "pip_warning": {
                "packages": [
                  "numpy",
                  "pandas"
                ]
              }
            }
          },
          "metadata": {
            "tags": []
          }
        }
      ]
    },
    {
      "cell_type": "code",
      "metadata": {
        "colab": {
          "base_uri": "https://localhost:8080/"
        },
        "id": "nuMJlAprs9bW",
        "outputId": "bf747d79-3021-4c35-81d5-b43e40db01ef"
      },
      "source": [
        "from google.colab import drive\n",
        "drive.mount('/content/drive')"
      ],
      "execution_count": 2,
      "outputs": [
        {
          "output_type": "stream",
          "text": [
            "Mounted at /content/drive\n"
          ],
          "name": "stdout"
        }
      ]
    },
    {
      "cell_type": "code",
      "metadata": {
        "id": "4IMgfLxzs1UI"
      },
      "source": [
        "import re\n",
        "import numpy as np\n",
        "import pandas as pd\n",
        "from pprint import pprint\n",
        "import spacy\n",
        "\n",
        "# Gensim\n",
        "import gensim\n",
        "import gensim.corpora as corpora\n",
        "from gensim.utils import simple_preprocess\n",
        "from gensim.models import CoherenceModel"
      ],
      "execution_count": 3,
      "outputs": []
    },
    {
      "cell_type": "code",
      "metadata": {
        "id": "G4ujqWiOtCQS"
      },
      "source": [
        "\n",
        "def sent_to_words(sentences):\n",
        "    for sentence in sentences:\n",
        "        yield(gensim.utils.simple_preprocess(str(sentence), deacc=True))  # deacc=True removes punctuations"
      ],
      "execution_count": 4,
      "outputs": []
    },
    {
      "cell_type": "code",
      "metadata": {
        "id": "0xHbYNaBtqtL"
      },
      "source": [
        "\n",
        "from nltk.corpus import stopwords\n",
        "stop_words = stopwords.words('english')\n",
        "stop_words.extend(['from', 'subject', 're', 'edu', 'use','trump','donald','say','hillary','clinton','do','united','state','the','day','news','that','have','however','year'])"
      ],
      "execution_count": 5,
      "outputs": []
    },
    {
      "cell_type": "code",
      "metadata": {
        "id": "NGx8lZQQttfL"
      },
      "source": [
        "# Define functions for stopwords, bigrams, trigrams and lemmatization\n",
        "def remove_stopwords(texts):\n",
        "    return [[word for word in simple_preprocess(str(doc)) if word not in stop_words] for doc in texts]\n",
        "\n",
        "def make_bigrams(texts,bigram_mod):\n",
        "    return [bigram_mod[doc] for doc in texts]\n",
        "\n",
        "def make_trigrams(texts):\n",
        "    return [trigram_mod[bigram_mod[doc]] for doc in texts]\n",
        "\n",
        "def lemmatization(texts, allowed_postags=['NOUN', 'ADJ', 'VERB', 'ADV']):\n",
        "    nlp = spacy.load('en', disable=['parser', 'ner'])\n",
        "    texts_out = []\n",
        "    for sent in texts:\n",
        "        doc = nlp(\" \".join(sent)) \n",
        "        texts_out.append([token.lemma_ for token in doc if token.pos_ in allowed_postags])\n",
        "    return texts_out"
      ],
      "execution_count": 6,
      "outputs": []
    },
    {
      "cell_type": "code",
      "metadata": {
        "id": "EaMXdfnkuQgJ"
      },
      "source": [
        "article1 = pd.read_csv('drive/My Drive/Top-Ex/articles1.csv')\n",
        "article2 = pd.read_csv('drive/My Drive/Top-Ex/articles2.csv')\n",
        "article3 = pd.read_csv('drive/My Drive/Top-Ex/articles3.csv')"
      ],
      "execution_count": 7,
      "outputs": []
    },
    {
      "cell_type": "markdown",
      "metadata": {
        "id": "0TPmNuMQYSPf"
      },
      "source": [
        "#Concatenating and randomly selecting data"
      ]
    },
    {
      "cell_type": "code",
      "metadata": {
        "id": "eqE6DOl4wHxH",
        "colab": {
          "base_uri": "https://localhost:8080/",
          "height": 324
        },
        "outputId": "2b38b4fb-ff2f-4ee3-ad6b-85034d5f8ccc"
      },
      "source": [
        "articles = pd.concat([article1,article2,article3], axis=0)\n",
        "articles = articles.sample(n = 50000, random_state = 2)\n",
        "articles.head()"
      ],
      "execution_count": 9,
      "outputs": [
        {
          "output_type": "execute_result",
          "data": {
            "text/html": [
              "<div>\n",
              "<style scoped>\n",
              "    .dataframe tbody tr th:only-of-type {\n",
              "        vertical-align: middle;\n",
              "    }\n",
              "\n",
              "    .dataframe tbody tr th {\n",
              "        vertical-align: top;\n",
              "    }\n",
              "\n",
              "    .dataframe thead th {\n",
              "        text-align: right;\n",
              "    }\n",
              "</style>\n",
              "<table border=\"1\" class=\"dataframe\">\n",
              "  <thead>\n",
              "    <tr style=\"text-align: right;\">\n",
              "      <th></th>\n",
              "      <th>Unnamed: 0</th>\n",
              "      <th>id</th>\n",
              "      <th>title</th>\n",
              "      <th>publication</th>\n",
              "      <th>author</th>\n",
              "      <th>date</th>\n",
              "      <th>year</th>\n",
              "      <th>month</th>\n",
              "      <th>url</th>\n",
              "      <th>content</th>\n",
              "    </tr>\n",
              "  </thead>\n",
              "  <tbody>\n",
              "    <tr>\n",
              "      <th>44480</th>\n",
              "      <td>47352</td>\n",
              "      <td>66559</td>\n",
              "      <td>Trump says his ’massive’ tax plan is coming ne...</td>\n",
              "      <td>Business Insider</td>\n",
              "      <td>Bob Bryan</td>\n",
              "      <td>2017-04-22</td>\n",
              "      <td>2017.0</td>\n",
              "      <td>4.0</td>\n",
              "      <td>NaN</td>\n",
              "      <td>’  ’ ’   President Donald Trump said that he e...</td>\n",
              "    </tr>\n",
              "    <tr>\n",
              "      <th>8195</th>\n",
              "      <td>61514</td>\n",
              "      <td>83936</td>\n",
              "      <td>Chicago police have ’no regard’ for minority l...</td>\n",
              "      <td>Fox News</td>\n",
              "      <td>NaN</td>\n",
              "      <td>2016-04-13</td>\n",
              "      <td>2016.0</td>\n",
              "      <td>4.0</td>\n",
              "      <td>https://web.archive.org/web/20160414011639/htt...</td>\n",
              "      <td>Police in Chicago have ”no regard for the san...</td>\n",
              "    </tr>\n",
              "    <tr>\n",
              "      <th>10464</th>\n",
              "      <td>113926</td>\n",
              "      <td>168759</td>\n",
              "      <td>A Concussion Can Lead To Sleep Problems That L...</td>\n",
              "      <td>NPR</td>\n",
              "      <td>Jon Hamilton</td>\n",
              "      <td>2016-04-27</td>\n",
              "      <td>2016.0</td>\n",
              "      <td>4.0</td>\n",
              "      <td>http://www.npr.org/sections/health-shots/2016/...</td>\n",
              "      <td>People who sustain a concussion or a more seve...</td>\n",
              "    </tr>\n",
              "    <tr>\n",
              "      <th>19198</th>\n",
              "      <td>72606</td>\n",
              "      <td>106668</td>\n",
              "      <td>Trump: I Was Just Joking When I Made Crude Co...</td>\n",
              "      <td>Buzzfeed News</td>\n",
              "      <td>Andrew Kaczynski</td>\n",
              "      <td>2016-03-29</td>\n",
              "      <td>2016.0</td>\n",
              "      <td>3.0</td>\n",
              "      <td>https://web.archive.org/web/20160329002256/htt...</td>\n",
              "      <td>’You can watch the interview here:’] Trump’s c...</td>\n",
              "    </tr>\n",
              "    <tr>\n",
              "      <th>17793</th>\n",
              "      <td>71201</td>\n",
              "      <td>102160</td>\n",
              "      <td>Beyoncé Dropped Out Of Coachella, Because Duh</td>\n",
              "      <td>Buzzfeed News</td>\n",
              "      <td>Alanna Bennett</td>\n",
              "      <td>2017-02-24</td>\n",
              "      <td>2017.0</td>\n",
              "      <td>2.0</td>\n",
              "      <td>https://web.archive.org/web/20170224044447/htt...</td>\n",
              "      <td>’ It has happened, friends: Beyoncé has offici...</td>\n",
              "    </tr>\n",
              "  </tbody>\n",
              "</table>\n",
              "</div>"
            ],
            "text/plain": [
              "       Unnamed: 0  ...                                            content\n",
              "44480       47352  ...  ’  ’ ’   President Donald Trump said that he e...\n",
              "8195        61514  ...   Police in Chicago have ”no regard for the san...\n",
              "10464      113926  ...  People who sustain a concussion or a more seve...\n",
              "19198       72606  ...  ’You can watch the interview here:’] Trump’s c...\n",
              "17793       71201  ...  ’ It has happened, friends: Beyoncé has offici...\n",
              "\n",
              "[5 rows x 10 columns]"
            ]
          },
          "metadata": {
            "tags": []
          },
          "execution_count": 9
        }
      ]
    },
    {
      "cell_type": "code",
      "metadata": {
        "colab": {
          "base_uri": "https://localhost:8080/"
        },
        "id": "0PPTC73LYNZJ",
        "outputId": "c321b782-6bf4-4c2c-9b97-6a0f12217954"
      },
      "source": [
        "articles.shape"
      ],
      "execution_count": 10,
      "outputs": [
        {
          "output_type": "execute_result",
          "data": {
            "text/plain": [
              "(50000, 10)"
            ]
          },
          "metadata": {
            "tags": []
          },
          "execution_count": 10
        }
      ]
    },
    {
      "cell_type": "code",
      "metadata": {
        "id": "pFoAx0OrwJEE"
      },
      "source": [
        "del article1,article2,article3\n",
        "articles = articles[['id','title','content']]\n",
        "articles['text']= articles['title']+' '+articles['content']\n",
        "articles = articles[['id','text']]\n",
        "articles.columns = ['id','content']"
      ],
      "execution_count": 11,
      "outputs": []
    },
    {
      "cell_type": "code",
      "metadata": {
        "colab": {
          "base_uri": "https://localhost:8080/",
          "height": 204
        },
        "id": "0jXj8esgYfA9",
        "outputId": "dcc4f482-c653-4927-d21d-ad23e32543f6"
      },
      "source": [
        "articles.head()"
      ],
      "execution_count": 14,
      "outputs": [
        {
          "output_type": "execute_result",
          "data": {
            "text/html": [
              "<div>\n",
              "<style scoped>\n",
              "    .dataframe tbody tr th:only-of-type {\n",
              "        vertical-align: middle;\n",
              "    }\n",
              "\n",
              "    .dataframe tbody tr th {\n",
              "        vertical-align: top;\n",
              "    }\n",
              "\n",
              "    .dataframe thead th {\n",
              "        text-align: right;\n",
              "    }\n",
              "</style>\n",
              "<table border=\"1\" class=\"dataframe\">\n",
              "  <thead>\n",
              "    <tr style=\"text-align: right;\">\n",
              "      <th></th>\n",
              "      <th>id</th>\n",
              "      <th>content</th>\n",
              "    </tr>\n",
              "  </thead>\n",
              "  <tbody>\n",
              "    <tr>\n",
              "      <th>44480</th>\n",
              "      <td>66559</td>\n",
              "      <td>Trump says his ’massive’ tax plan is coming ne...</td>\n",
              "    </tr>\n",
              "    <tr>\n",
              "      <th>8195</th>\n",
              "      <td>83936</td>\n",
              "      <td>Chicago police have ’no regard’ for minority l...</td>\n",
              "    </tr>\n",
              "    <tr>\n",
              "      <th>10464</th>\n",
              "      <td>168759</td>\n",
              "      <td>A Concussion Can Lead To Sleep Problems That L...</td>\n",
              "    </tr>\n",
              "    <tr>\n",
              "      <th>19198</th>\n",
              "      <td>106668</td>\n",
              "      <td>Trump: I Was Just Joking When I Made Crude Co...</td>\n",
              "    </tr>\n",
              "    <tr>\n",
              "      <th>17793</th>\n",
              "      <td>102160</td>\n",
              "      <td>Beyoncé Dropped Out Of Coachella, Because Duh...</td>\n",
              "    </tr>\n",
              "  </tbody>\n",
              "</table>\n",
              "</div>"
            ],
            "text/plain": [
              "           id                                            content\n",
              "44480   66559  Trump says his ’massive’ tax plan is coming ne...\n",
              "8195    83936  Chicago police have ’no regard’ for minority l...\n",
              "10464  168759  A Concussion Can Lead To Sleep Problems That L...\n",
              "19198  106668   Trump: I Was Just Joking When I Made Crude Co...\n",
              "17793  102160   Beyoncé Dropped Out Of Coachella, Because Duh..."
            ]
          },
          "metadata": {
            "tags": []
          },
          "execution_count": 14
        }
      ]
    },
    {
      "cell_type": "code",
      "metadata": {
        "colab": {
          "base_uri": "https://localhost:8080/"
        },
        "id": "4f86HKTkZOV6",
        "outputId": "b286dad3-7a40-4be4-92ba-48e7aa625512"
      },
      "source": [
        "articles.dtypes"
      ],
      "execution_count": 15,
      "outputs": [
        {
          "output_type": "execute_result",
          "data": {
            "text/plain": [
              "id          int64\n",
              "content    object\n",
              "dtype: object"
            ]
          },
          "metadata": {
            "tags": []
          },
          "execution_count": 15
        }
      ]
    },
    {
      "cell_type": "code",
      "metadata": {
        "id": "va1EKj7mt170"
      },
      "source": [
        "\n",
        "def createCorpusDict(dataFrame):\n",
        "    #cleanse the text\n",
        "    dataFrame.content = dataFrame.content.astype(str)\n",
        "    data = dataFrame.content.values.tolist()\n",
        "    data = [re.sub('\\S*@\\S*\\s?', '', sent) for sent in data]\n",
        "    # Remove new line characters\n",
        "    data = [re.sub('\\s+', ' ', sent) for sent in data]\n",
        "    # Remove distracting single quotes\n",
        "    data = [re.sub(\"\\'\", \"\", sent) for sent in data]\n",
        "    data_words = list(sent_to_words(data))\n",
        "    \n",
        "    bigram = gensim.models.Phrases(data_words, min_count=5, threshold=100) # higher threshold fewer phrases.\n",
        "    trigram = gensim.models.Phrases(bigram[data_words], threshold=100)  \n",
        "\n",
        "    bigram_mod = gensim.models.phrases.Phraser(bigram)\n",
        "    trigram_mod = gensim.models.phrases.Phraser(trigram)\n",
        "\n",
        "    data_words_nostops = remove_stopwords(data_words)\n",
        "\n",
        "    # Form Bigrams\n",
        "    data_words_bigrams = make_bigrams(data_words_nostops,bigram_mod)\n",
        "\n",
        "    # Initialize spacy 'en' model, keeping only tagger component (for efficiency)\n",
        "    # python3 -m spacy download en\n",
        "\n",
        "\n",
        "    # Do lemmatization keeping only noun, adj, vb, adv\n",
        "    data_lemmatized = lemmatization(data_words_bigrams, allowed_postags=['NOUN', 'ADJ', 'VERB', 'ADV'])\n",
        "\n",
        "    #cleanse the dictionary\n",
        "    dictionary = corpora.Dictionary(data_lemmatized)\n",
        "    # Create Corpus\n",
        "    texts = data_lemmatized\n",
        "    # Term Document Frequency\n",
        "    corpus = [dictionary.doc2bow(text) for text in texts]\n",
        "    \n",
        "    return corpus,dictionary,data_lemmatized"
      ],
      "execution_count": 20,
      "outputs": []
    },
    {
      "cell_type": "code",
      "metadata": {
        "colab": {
          "base_uri": "https://localhost:8080/"
        },
        "id": "a0YGzl4ewfzk",
        "outputId": "cd8923b3-9f88-48f9-9ad7-e195788a03ef"
      },
      "source": [
        "corpus, dictionary, data_lemmatized = createCorpusDict(articles)"
      ],
      "execution_count": 21,
      "outputs": [
        {
          "output_type": "stream",
          "text": [
            "/usr/local/lib/python3.7/dist-packages/gensim/models/phrases.py:598: UserWarning: For a faster implementation, use the gensim.models.phrases.Phraser class\n",
            "  warnings.warn(\"For a faster implementation, use the gensim.models.phrases.Phraser class\")\n"
          ],
          "name": "stderr"
        }
      ]
    },
    {
      "cell_type": "code",
      "metadata": {
        "id": "6Ajf-sxPa1l4"
      },
      "source": [
        "import pickle\n",
        "\n",
        "filehandler = open(\"drive/My Drive/Top-Ex/corpus.pkl\",\"wb\")\n",
        "pickle.dump(corpus,filehandler)\n",
        "filehandler.close()\n",
        "\n",
        "filehandler = open(\"drive/My Drive/Top-Ex/dictionary.pkl\",\"wb\")\n",
        "pickle.dump(dictionary,filehandler)\n",
        "filehandler.close()\n",
        "\n",
        "filehandler = open(\"drive/My Drive/Top-Ex/data_lemmatized.pkl\",\"wb\")\n",
        "pickle.dump(data_lemmatized,filehandler)\n",
        "filehandler.close()"
      ],
      "execution_count": 27,
      "outputs": []
    },
    {
      "cell_type": "code",
      "metadata": {
        "id": "qiSzjrqH1Mhk"
      },
      "source": [
        "#Train the Topic Modelling\n",
        "lda_model = gensim.models.ldamodel.LdaModel(corpus=corpus,\n",
        "                                           id2word=dictionary,\n",
        "                                           num_topics=20, \n",
        "                                           random_state=100,\n",
        "                                           update_every=1,\n",
        "                                           chunksize=100,\n",
        "                                           passes=10,\n",
        "                                           alpha='auto',\n",
        "                                           per_word_topics=True)"
      ],
      "execution_count": 23,
      "outputs": []
    },
    {
      "cell_type": "code",
      "metadata": {
        "id": "BPsQ4yr1s9N4"
      },
      "source": [
        "filehandler = open(\"drive/My Drive/Top-Ex/lda_model_20.pkl\",\"wb\")\n",
        "pickle.dump(lda_model,filehandler)\n",
        "filehandler.close()"
      ],
      "execution_count": 28,
      "outputs": []
    },
    {
      "cell_type": "code",
      "metadata": {
        "id": "leV8fCI_3eqT",
        "colab": {
          "base_uri": "https://localhost:8080/"
        },
        "outputId": "567a5043-2cc9-4c06-ced4-c904f86b3e29"
      },
      "source": [
        "pprint(lda_model.print_topics())\n",
        "doc_lda = lda_model[corpus]\n",
        "doc_lda"
      ],
      "execution_count": 24,
      "outputs": [
        {
          "output_type": "stream",
          "text": [
            "[(0,\n",
            "  '0.021*\"may\" + 0.018*\"even\" + 0.012*\"many\" + 0.009*\"much\" + 0.009*\"make\" + '\n",
            "  '0.009*\"way\" + 0.008*\"become\" + 0.008*\"seem\" + 0.008*\"less\" + 0.007*\"often\"'),\n",
            " (1,\n",
            "  '0.035*\"game\" + 0.026*\"team\" + 0.023*\"play\" + 0.018*\"player\" + '\n",
            "  '0.017*\"season\" + 0.014*\"first\" + 0.012*\"win\" + 0.011*\"last\" + '\n",
            "  '0.011*\"second\" + 0.010*\"sport\"'),\n",
            " (2,\n",
            "  '0.030*\"say\" + 0.029*\"go\" + 0.022*\"people\" + 0.020*\"get\" + 0.019*\"make\" + '\n",
            "  '0.017*\"think\" + 0.016*\"would\" + 0.016*\"know\" + 0.014*\"want\" + 0.014*\"see\"'),\n",
            " (3,\n",
            "  '0.022*\"city\" + 0.016*\"car\" + 0.012*\"build\" + 0.012*\"home\" + 0.010*\"new\" + '\n",
            "  '0.009*\"building\" + 0.009*\"store\" + 0.009*\"local\" + 0.008*\"also\" + '\n",
            "  '0.008*\"driver\"'),\n",
            " (4,\n",
            "  '0.018*\"use\" + 0.018*\"email\" + 0.014*\"post\" + 0.013*\"medium\" + '\n",
            "  '0.013*\"twitter\" + 0.013*\"story\" + 0.012*\"write\" + 0.012*\"information\" + '\n",
            "  '0.011*\"account\" + 0.009*\"network\"'),\n",
            " (5,\n",
            "  '0.048*\"police\" + 0.027*\"officer\" + 0.026*\"say\" + 0.021*\"kill\" + '\n",
            "  '0.018*\"people\" + 0.015*\"man\" + 0.015*\"arrest\" + 0.015*\"shoot\" + '\n",
            "  '0.014*\"victim\" + 0.014*\"gun\"'),\n",
            " (6,\n",
            "  '0.032*\"company\" + 0.025*\"say\" + 0.018*\"percent\" + 0.015*\"market\" + '\n",
            "  '0.011*\"business\" + 0.009*\"last\" + 0.009*\"pay\" + 0.008*\"price\" + '\n",
            "  '0.008*\"industry\" + 0.008*\"tax\"'),\n",
            " (7,\n",
            "  '0.030*\"campaign\" + 0.024*\"election\" + 0.020*\"vote\" + 0.018*\"say\" + '\n",
            "  '0.016*\"candidate\" + 0.015*\"presidential\" + 0.015*\"voter\" + 0.013*\"party\" + '\n",
            "  '0.013*\"political\" + 0.013*\"republican\"'),\n",
            " (8,\n",
            "  '0.016*\"scientist\" + 0.014*\"study\" + 0.014*\"human\" + 0.012*\"science\" + '\n",
            "  '0.011*\"test\" + 0.010*\"new\" + 0.010*\"could\" + 0.009*\"find\" + 0.009*\"year\" + '\n",
            "  '0.009*\"researcher\"'),\n",
            " (9,\n",
            "  '0.048*\"say\" + 0.010*\"travel\" + 0.009*\"official\" + 0.008*\"area\" + '\n",
            "  '0.008*\"fly\" + 0.008*\"report\" + 0.008*\"flight\" + 0.008*\"hour\" + '\n",
            "  '0.008*\"missile\" + 0.007*\"plane\"'),\n",
            " (10,\n",
            "  '0.086*\"woman\" + 0.033*\"black\" + 0.032*\"man\" + 0.026*\"white\" + '\n",
            "  '0.017*\"people\" + 0.013*\"history\" + 0.011*\"movement\" + 0.011*\"female\" + '\n",
            "  '0.010*\"group\" + 0.010*\"sex\"'),\n",
            " (11,\n",
            "  '0.050*\"food\" + 0.031*\"water\" + 0.025*\"eat\" + 0.019*\"refugee\" + 0.011*\"egg\" '\n",
            "  '+ 0.009*\"farm\" + 0.009*\"product\" + 0.009*\"drink\" + 0.008*\"coffee\" + '\n",
            "  '0.008*\"equipment\"'),\n",
            " (12,\n",
            "  '0.029*\"health\" + 0.022*\"drug\" + 0.020*\"insurance\" + 0.017*\"people\" + '\n",
            "  '0.015*\"doctor\" + 0.013*\"patient\" + 0.013*\"medical\" + 0.012*\"say\" + '\n",
            "  '0.010*\"abortion\" + 0.010*\"coverage\"'),\n",
            " (13,\n",
            "  '0.036*\"school\" + 0.034*\"percent\" + 0.034*\"student\" + 0.014*\"high\" + '\n",
            "  '0.014*\"job\" + 0.014*\"worker\" + 0.013*\"work\" + 0.013*\"education\" + '\n",
            "  '0.013*\"college\" + 0.013*\"program\"'),\n",
            " (14,\n",
            "  '0.012*\"image\" + 0.008*\"wear\" + 0.007*\"light\" + 0.007*\"hand\" + 0.007*\"name\" '\n",
            "  '+ 0.007*\"turn\" + 0.006*\"look\" + 0.006*\"eye\" + 0.006*\"first\" + '\n",
            "  '0.005*\"little\"'),\n",
            " (15,\n",
            "  '0.031*\"say\" + 0.030*\"family\" + 0.024*\"child\" + 0.017*\"life\" + 0.016*\"live\" '\n",
            "  '+ 0.012*\"home\" + 0.012*\"year\" + 0.012*\"friend\" + 0.012*\"die\" + '\n",
            "  '0.011*\"tell\"'),\n",
            " (16,\n",
            "  '0.031*\"say\" + 0.019*\"attack\" + 0.017*\"military\" + 0.015*\"country\" + '\n",
            "  '0.015*\"government\" + 0.011*\"force\" + 0.011*\"group\" + 0.011*\"official\" + '\n",
            "  '0.010*\"war\" + 0.010*\"leader\"'),\n",
            " (17,\n",
            "  '0.029*\"would\" + 0.015*\"policy\" + 0.014*\"state\" + 0.014*\"government\" + '\n",
            "  '0.013*\"country\" + 0.011*\"law\" + 0.010*\"plan\" + 0.009*\"rule\" + 0.009*\"issue\" '\n",
            "  '+ 0.008*\"administration\"'),\n",
            " (18,\n",
            "  '0.055*\"say\" + 0.017*\"report\" + 0.013*\"tell\" + 0.013*\"official\" + '\n",
            "  '0.013*\"case\" + 0.011*\"statement\" + 0.010*\"former\" + 0.009*\"claim\" + '\n",
            "  '0.009*\"also\" + 0.008*\"court\"'),\n",
            " (19,\n",
            "  '0.030*\"show\" + 0.016*\"film\" + 0.013*\"character\" + 0.013*\"movie\" + '\n",
            "  '0.012*\"story\" + 0.011*\"book\" + 0.011*\"music\" + 0.011*\"play\" + 0.010*\"love\" '\n",
            "  '+ 0.010*\"star\"')]\n"
          ],
          "name": "stdout"
        },
        {
          "output_type": "execute_result",
          "data": {
            "text/plain": [
              "<gensim.interfaces.TransformedCorpus at 0x7fe0fcdb7250>"
            ]
          },
          "metadata": {
            "tags": []
          },
          "execution_count": 24
        }
      ]
    },
    {
      "cell_type": "code",
      "metadata": {
        "id": "T8908n193jYK",
        "colab": {
          "base_uri": "https://localhost:8080/"
        },
        "outputId": "23efa8e9-b494-436a-b620-1000ec5bcf5b"
      },
      "source": [
        "# Compute Perplexity\n",
        "print('\\nPerplexity: ', lda_model.log_perplexity(corpus))  # a measure of how good the model is. lower the better.\n",
        "\n",
        "# Compute Coherence Score\n",
        "coherence_model_lda = CoherenceModel(model=lda_model, texts=data_lemmatized, dictionary=dictionary, coherence='c_v')\n",
        "coherence_lda = coherence_model_lda.get_coherence()\n",
        "print('\\nCoherence Score: ', coherence_lda)"
      ],
      "execution_count": 25,
      "outputs": [
        {
          "output_type": "stream",
          "text": [
            "\n",
            "Perplexity:  -8.028126812418817\n",
            "\n",
            "Coherence Score:  0.49520995952161784\n"
          ],
          "name": "stdout"
        }
      ]
    },
    {
      "cell_type": "code",
      "metadata": {
        "id": "SPdRzctMF_Co"
      },
      "source": [
        "import pickle\n",
        "pkl_file = open('drive/My Drive/Top-Ex/data_lemmatized.pkl', 'rb')\n",
        "data_lemmatized = pickle.load(pkl_file)\n",
        "pkl_file.close()\n",
        "\n",
        "pkl_file = open('drive/My Drive/Top-Ex/dictionary.pkl', 'rb')\n",
        "dictionary = pickle.load(pkl_file)\n",
        "pkl_file.close()\n",
        "\n",
        "pkl_file = open('drive/My Drive/Top-Ex/corpus.pkl', 'rb')\n",
        "corpus = pickle.load(pkl_file)\n",
        "pkl_file.close()\n",
        "\n",
        "pkl_file = open('drive/My Drive/Top-Ex/lda_model_20.pkl', 'rb')\n",
        "lda_model = pickle.load(pkl_file)\n",
        "pkl_file.close()"
      ],
      "execution_count": 29,
      "outputs": []
    },
    {
      "cell_type": "code",
      "metadata": {
        "id": "JGPH9v0W3m90",
        "colab": {
          "base_uri": "https://localhost:8080/",
          "height": 436
        },
        "outputId": "e56353bb-78ca-4452-80be-0ce4f450f322"
      },
      "source": [
        "\n",
        "import pyLDAvis.gensim\n",
        "import pickle\n",
        "import pyLDAvis\n",
        "pyLDAvis.enable_notebook()\n",
        "vis = pyLDAvis.gensim.prepare(lda_model, corpus, id2word)\n",
        "vis"
      ],
      "execution_count": 34,
      "outputs": [
        {
          "output_type": "stream",
          "text": [
            "/usr/local/lib/python3.7/dist-packages/past/types/oldstr.py:5: DeprecationWarning: Using or importing the ABCs from 'collections' instead of from 'collections.abc' is deprecated since Python 3.3,and in 3.9 it will stop working\n",
            "  from collections import Iterable\n"
          ],
          "name": "stderr"
        },
        {
          "output_type": "error",
          "ename": "ModuleNotFoundError",
          "evalue": "ignored",
          "traceback": [
            "\u001b[0;31m---------------------------------------------------------------------------\u001b[0m",
            "\u001b[0;31mModuleNotFoundError\u001b[0m                       Traceback (most recent call last)",
            "\u001b[0;32m<ipython-input-34-d251034efd6b>\u001b[0m in \u001b[0;36m<module>\u001b[0;34m()\u001b[0m\n\u001b[1;32m      1\u001b[0m \u001b[0;34m\u001b[0m\u001b[0m\n\u001b[0;32m----> 2\u001b[0;31m \u001b[0;32mimport\u001b[0m \u001b[0mpyLDAvis\u001b[0m\u001b[0;34m.\u001b[0m\u001b[0mgensim\u001b[0m\u001b[0;34m\u001b[0m\u001b[0;34m\u001b[0m\u001b[0m\n\u001b[0m\u001b[1;32m      3\u001b[0m \u001b[0;32mimport\u001b[0m \u001b[0mpickle\u001b[0m\u001b[0;34m\u001b[0m\u001b[0;34m\u001b[0m\u001b[0m\n\u001b[1;32m      4\u001b[0m \u001b[0;32mimport\u001b[0m \u001b[0mpyLDAvis\u001b[0m\u001b[0;34m\u001b[0m\u001b[0;34m\u001b[0m\u001b[0m\n\u001b[1;32m      5\u001b[0m \u001b[0mpyLDAvis\u001b[0m\u001b[0;34m.\u001b[0m\u001b[0menable_notebook\u001b[0m\u001b[0;34m(\u001b[0m\u001b[0;34m)\u001b[0m\u001b[0;34m\u001b[0m\u001b[0;34m\u001b[0m\u001b[0m\n",
            "\u001b[0;31mModuleNotFoundError\u001b[0m: No module named 'pyLDAvis.gensim'",
            "",
            "\u001b[0;31m---------------------------------------------------------------------------\u001b[0;32m\nNOTE: If your import is failing due to a missing package, you can\nmanually install dependencies using either !pip or !apt.\n\nTo view examples of installing some common dependencies, click the\n\"Open Examples\" button below.\n\u001b[0;31m---------------------------------------------------------------------------\u001b[0m\n"
          ]
        }
      ]
    },
    {
      "cell_type": "code",
      "metadata": {
        "id": "gFCXBUg33u6R"
      },
      "source": [
        "gamma, _ = lda_model.inference(corpus)\n",
        "topics = gamma / gamma.sum(axis=1)[:,None]"
      ],
      "execution_count": null,
      "outputs": []
    },
    {
      "cell_type": "code",
      "metadata": {
        "id": "1E5aQ79Z3zWt"
      },
      "source": [
        "topics = pd.DataFrame(topics)\n",
        "topics.reset_index(drop=True)\n",
        "topics.rename(columns = lambda x: 'Topic_'+str(x+1).zfill(2), inplace=True)\n",
        "topics.head()"
      ],
      "execution_count": null,
      "outputs": []
    },
    {
      "cell_type": "code",
      "metadata": {
        "id": "mY8OeoQcPUAD"
      },
      "source": [
        "finalData = pd.concat([articles,topics], axis=1,sort=False)\n",
        "finalData.head()"
      ],
      "execution_count": null,
      "outputs": []
    },
    {
      "cell_type": "code",
      "metadata": {
        "id": "8a8CAFTWW2rg"
      },
      "source": [
        "finalData.head()"
      ],
      "execution_count": null,
      "outputs": []
    },
    {
      "cell_type": "code",
      "metadata": {
        "id": "nL7s4UW7Z7sz"
      },
      "source": [
        "output3 = open('drive/My Drive/Top-Ex/articles_topic_20.pkl', 'wb')\n",
        "pickle.dump(finalData, output3)\n",
        "output3.close()"
      ],
      "execution_count": null,
      "outputs": []
    },
    {
      "cell_type": "code",
      "metadata": {
        "id": "H1ywXBmdW8gZ"
      },
      "source": [
        "import pandas as pd\n",
        "from sklearn.feature_extraction.text import CountVectorizer, TfidfVectorizer\n",
        "\n",
        "CountVec = CountVectorizer(ngram_range=(1,1), # to use bigrams ngram_range=(2,2)\n",
        "                           stop_words='english')\n",
        "#transform\n",
        "Count_data = CountVec.fit_transform()\n",
        " \n",
        "#create dataframe\n",
        "cv_dataframe=pd.DataFrame(Count_data.toarray(),columns=CountVec.get_feature_names())\n",
        "print(cv_dataframe)"
      ],
      "execution_count": null,
      "outputs": []
    }
  ]
}