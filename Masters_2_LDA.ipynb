{
  "nbformat": 4,
  "nbformat_minor": 0,
  "metadata": {
    "colab": {
      "name": "Masters - 2 LDA.ipynb",
      "provenance": [],
      "collapsed_sections": [],
      "authorship_tag": "ABX9TyN+v7ExioSwX26Jmwy5EVmx",
      "include_colab_link": true
    },
    "kernelspec": {
      "display_name": "Python 3",
      "name": "python3"
    },
    "language_info": {
      "name": "python"
    }
  },
  "cells": [
    {
      "cell_type": "markdown",
      "metadata": {
        "id": "view-in-github",
        "colab_type": "text"
      },
      "source": [
        "<a href=\"https://colab.research.google.com/github/harikrishnareddymallavarapu/Masters/blob/main/Masters_2_LDA.ipynb\" target=\"_parent\"><img src=\"https://colab.research.google.com/assets/colab-badge.svg\" alt=\"Open In Colab\"/></a>"
      ]
    },
    {
      "cell_type": "code",
      "metadata": {
        "id": "9p8S__0us0nQ"
      },
      "source": [
        "%%capture\n",
        "# Run in python console\n",
        "import nltk; \n",
        "nltk.download('stopwords')\n",
        "\n",
        "# Run in terminal or command prompt\n",
        "!python3 -m spacy download en"
      ],
      "execution_count": 1,
      "outputs": []
    },
    {
      "cell_type": "code",
      "metadata": {
        "colab": {
          "base_uri": "https://localhost:8080/"
        },
        "id": "nuMJlAprs9bW",
        "outputId": "bf747d79-3021-4c35-81d5-b43e40db01ef"
      },
      "source": [
        "from google.colab import drive\n",
        "drive.mount('/content/drive')"
      ],
      "execution_count": 2,
      "outputs": [
        {
          "output_type": "stream",
          "text": [
            "Mounted at /content/drive\n"
          ],
          "name": "stdout"
        }
      ]
    },
    {
      "cell_type": "code",
      "metadata": {
        "id": "4IMgfLxzs1UI"
      },
      "source": [
        "import re\n",
        "import numpy as np\n",
        "import pandas as pd\n",
        "from pprint import pprint\n",
        "import spacy\n",
        "\n",
        "# Gensim\n",
        "import gensim\n",
        "import gensim.corpora as corpora\n",
        "from gensim.utils import simple_preprocess\n",
        "from gensim.models import CoherenceModel"
      ],
      "execution_count": 3,
      "outputs": []
    },
    {
      "cell_type": "code",
      "metadata": {
        "id": "G4ujqWiOtCQS"
      },
      "source": [
        "\n",
        "def sent_to_words(sentences):\n",
        "    for sentence in sentences:\n",
        "        yield(gensim.utils.simple_preprocess(str(sentence), deacc=True))  # deacc=True removes punctuations"
      ],
      "execution_count": 4,
      "outputs": []
    },
    {
      "cell_type": "code",
      "metadata": {
        "id": "0xHbYNaBtqtL"
      },
      "source": [
        "\n",
        "from nltk.corpus import stopwords\n",
        "stop_words = stopwords.words('english')\n",
        "stop_words.extend(['from', 'subject', 're', 'edu', 'use','trump','donald','say','hillary','clinton','do','united','state','the','day','news','that','have','however','year'])"
      ],
      "execution_count": 5,
      "outputs": []
    },
    {
      "cell_type": "code",
      "metadata": {
        "id": "NGx8lZQQttfL"
      },
      "source": [
        "# Define functions for stopwords, bigrams, trigrams and lemmatization\n",
        "def remove_stopwords(texts):\n",
        "    return [[word for word in simple_preprocess(str(doc)) if word not in stop_words] for doc in texts]\n",
        "\n",
        "def make_bigrams(texts,bigram_mod):\n",
        "    return [bigram_mod[doc] for doc in texts]\n",
        "\n",
        "def make_trigrams(texts):\n",
        "    return [trigram_mod[bigram_mod[doc]] for doc in texts]\n",
        "\n",
        "def lemmatization(texts, allowed_postags=['NOUN', 'ADJ', 'VERB', 'ADV']):\n",
        "    nlp = spacy.load('en', disable=['parser', 'ner'])\n",
        "    texts_out = []\n",
        "    for sent in texts:\n",
        "        doc = nlp(\" \".join(sent)) \n",
        "        texts_out.append([token.lemma_ for token in doc if token.pos_ in allowed_postags])\n",
        "    return texts_out"
      ],
      "execution_count": 6,
      "outputs": []
    },
    {
      "cell_type": "code",
      "metadata": {
        "id": "EaMXdfnkuQgJ"
      },
      "source": [
        "article1 = pd.read_csv('drive/My Drive/Top-Ex/articles1.csv')\n",
        "article2 = pd.read_csv('drive/My Drive/Top-Ex/articles2.csv')\n",
        "article3 = pd.read_csv('drive/My Drive/Top-Ex/articles3.csv')"
      ],
      "execution_count": 7,
      "outputs": []
    },
    {
      "cell_type": "markdown",
      "metadata": {
        "id": "0TPmNuMQYSPf"
      },
      "source": [
        "#Concatenating and randomly selecting data"
      ]
    },
    {
      "cell_type": "code",
      "metadata": {
        "id": "eqE6DOl4wHxH",
        "colab": {
          "base_uri": "https://localhost:8080/",
          "height": 324
        },
        "outputId": "2b38b4fb-ff2f-4ee3-ad6b-85034d5f8ccc"
      },
      "source": [
        "articles = pd.concat([article1,article2,article3], axis=0)\n",
        "articles = articles.sample(n = 50000, random_state = 2)\n",
        "articles.head()"
      ],
      "execution_count": 9,
      "outputs": [
        {
          "output_type": "execute_result",
          "data": {
            "text/html": [
              "<div>\n",
              "<style scoped>\n",
              "    .dataframe tbody tr th:only-of-type {\n",
              "        vertical-align: middle;\n",
              "    }\n",
              "\n",
              "    .dataframe tbody tr th {\n",
              "        vertical-align: top;\n",
              "    }\n",
              "\n",
              "    .dataframe thead th {\n",
              "        text-align: right;\n",
              "    }\n",
              "</style>\n",
              "<table border=\"1\" class=\"dataframe\">\n",
              "  <thead>\n",
              "    <tr style=\"text-align: right;\">\n",
              "      <th></th>\n",
              "      <th>Unnamed: 0</th>\n",
              "      <th>id</th>\n",
              "      <th>title</th>\n",
              "      <th>publication</th>\n",
              "      <th>author</th>\n",
              "      <th>date</th>\n",
              "      <th>year</th>\n",
              "      <th>month</th>\n",
              "      <th>url</th>\n",
              "      <th>content</th>\n",
              "    </tr>\n",
              "  </thead>\n",
              "  <tbody>\n",
              "    <tr>\n",
              "      <th>44480</th>\n",
              "      <td>47352</td>\n",
              "      <td>66559</td>\n",
              "      <td>Trump says his ’massive’ tax plan is coming ne...</td>\n",
              "      <td>Business Insider</td>\n",
              "      <td>Bob Bryan</td>\n",
              "      <td>2017-04-22</td>\n",
              "      <td>2017.0</td>\n",
              "      <td>4.0</td>\n",
              "      <td>NaN</td>\n",
              "      <td>’  ’ ’   President Donald Trump said that he e...</td>\n",
              "    </tr>\n",
              "    <tr>\n",
              "      <th>8195</th>\n",
              "      <td>61514</td>\n",
              "      <td>83936</td>\n",
              "      <td>Chicago police have ’no regard’ for minority l...</td>\n",
              "      <td>Fox News</td>\n",
              "      <td>NaN</td>\n",
              "      <td>2016-04-13</td>\n",
              "      <td>2016.0</td>\n",
              "      <td>4.0</td>\n",
              "      <td>https://web.archive.org/web/20160414011639/htt...</td>\n",
              "      <td>Police in Chicago have ”no regard for the san...</td>\n",
              "    </tr>\n",
              "    <tr>\n",
              "      <th>10464</th>\n",
              "      <td>113926</td>\n",
              "      <td>168759</td>\n",
              "      <td>A Concussion Can Lead To Sleep Problems That L...</td>\n",
              "      <td>NPR</td>\n",
              "      <td>Jon Hamilton</td>\n",
              "      <td>2016-04-27</td>\n",
              "      <td>2016.0</td>\n",
              "      <td>4.0</td>\n",
              "      <td>http://www.npr.org/sections/health-shots/2016/...</td>\n",
              "      <td>People who sustain a concussion or a more seve...</td>\n",
              "    </tr>\n",
              "    <tr>\n",
              "      <th>19198</th>\n",
              "      <td>72606</td>\n",
              "      <td>106668</td>\n",
              "      <td>Trump: I Was Just Joking When I Made Crude Co...</td>\n",
              "      <td>Buzzfeed News</td>\n",
              "      <td>Andrew Kaczynski</td>\n",
              "      <td>2016-03-29</td>\n",
              "      <td>2016.0</td>\n",
              "      <td>3.0</td>\n",
              "      <td>https://web.archive.org/web/20160329002256/htt...</td>\n",
              "      <td>’You can watch the interview here:’] Trump’s c...</td>\n",
              "    </tr>\n",
              "    <tr>\n",
              "      <th>17793</th>\n",
              "      <td>71201</td>\n",
              "      <td>102160</td>\n",
              "      <td>Beyoncé Dropped Out Of Coachella, Because Duh</td>\n",
              "      <td>Buzzfeed News</td>\n",
              "      <td>Alanna Bennett</td>\n",
              "      <td>2017-02-24</td>\n",
              "      <td>2017.0</td>\n",
              "      <td>2.0</td>\n",
              "      <td>https://web.archive.org/web/20170224044447/htt...</td>\n",
              "      <td>’ It has happened, friends: Beyoncé has offici...</td>\n",
              "    </tr>\n",
              "  </tbody>\n",
              "</table>\n",
              "</div>"
            ],
            "text/plain": [
              "       Unnamed: 0  ...                                            content\n",
              "44480       47352  ...  ’  ’ ’   President Donald Trump said that he e...\n",
              "8195        61514  ...   Police in Chicago have ”no regard for the san...\n",
              "10464      113926  ...  People who sustain a concussion or a more seve...\n",
              "19198       72606  ...  ’You can watch the interview here:’] Trump’s c...\n",
              "17793       71201  ...  ’ It has happened, friends: Beyoncé has offici...\n",
              "\n",
              "[5 rows x 10 columns]"
            ]
          },
          "metadata": {
            "tags": []
          },
          "execution_count": 9
        }
      ]
    },
    {
      "cell_type": "code",
      "metadata": {
        "colab": {
          "base_uri": "https://localhost:8080/"
        },
        "id": "0PPTC73LYNZJ",
        "outputId": "c321b782-6bf4-4c2c-9b97-6a0f12217954"
      },
      "source": [
        "articles.shape"
      ],
      "execution_count": 10,
      "outputs": [
        {
          "output_type": "execute_result",
          "data": {
            "text/plain": [
              "(50000, 10)"
            ]
          },
          "metadata": {
            "tags": []
          },
          "execution_count": 10
        }
      ]
    },
    {
      "cell_type": "code",
      "metadata": {
        "id": "pFoAx0OrwJEE"
      },
      "source": [
        "del article1,article2,article3\n",
        "articles = articles[['id','title','content']]\n",
        "articles['text']= articles['title']+' '+articles['content']\n",
        "articles = articles[['id','text']]\n",
        "articles.columns = ['id','content']"
      ],
      "execution_count": 11,
      "outputs": []
    },
    {
      "cell_type": "code",
      "metadata": {
        "colab": {
          "base_uri": "https://localhost:8080/",
          "height": 204
        },
        "id": "0jXj8esgYfA9",
        "outputId": "dcc4f482-c653-4927-d21d-ad23e32543f6"
      },
      "source": [
        "articles.head()"
      ],
      "execution_count": 14,
      "outputs": [
        {
          "output_type": "execute_result",
          "data": {
            "text/html": [
              "<div>\n",
              "<style scoped>\n",
              "    .dataframe tbody tr th:only-of-type {\n",
              "        vertical-align: middle;\n",
              "    }\n",
              "\n",
              "    .dataframe tbody tr th {\n",
              "        vertical-align: top;\n",
              "    }\n",
              "\n",
              "    .dataframe thead th {\n",
              "        text-align: right;\n",
              "    }\n",
              "</style>\n",
              "<table border=\"1\" class=\"dataframe\">\n",
              "  <thead>\n",
              "    <tr style=\"text-align: right;\">\n",
              "      <th></th>\n",
              "      <th>id</th>\n",
              "      <th>content</th>\n",
              "    </tr>\n",
              "  </thead>\n",
              "  <tbody>\n",
              "    <tr>\n",
              "      <th>44480</th>\n",
              "      <td>66559</td>\n",
              "      <td>Trump says his ’massive’ tax plan is coming ne...</td>\n",
              "    </tr>\n",
              "    <tr>\n",
              "      <th>8195</th>\n",
              "      <td>83936</td>\n",
              "      <td>Chicago police have ’no regard’ for minority l...</td>\n",
              "    </tr>\n",
              "    <tr>\n",
              "      <th>10464</th>\n",
              "      <td>168759</td>\n",
              "      <td>A Concussion Can Lead To Sleep Problems That L...</td>\n",
              "    </tr>\n",
              "    <tr>\n",
              "      <th>19198</th>\n",
              "      <td>106668</td>\n",
              "      <td>Trump: I Was Just Joking When I Made Crude Co...</td>\n",
              "    </tr>\n",
              "    <tr>\n",
              "      <th>17793</th>\n",
              "      <td>102160</td>\n",
              "      <td>Beyoncé Dropped Out Of Coachella, Because Duh...</td>\n",
              "    </tr>\n",
              "  </tbody>\n",
              "</table>\n",
              "</div>"
            ],
            "text/plain": [
              "           id                                            content\n",
              "44480   66559  Trump says his ’massive’ tax plan is coming ne...\n",
              "8195    83936  Chicago police have ’no regard’ for minority l...\n",
              "10464  168759  A Concussion Can Lead To Sleep Problems That L...\n",
              "19198  106668   Trump: I Was Just Joking When I Made Crude Co...\n",
              "17793  102160   Beyoncé Dropped Out Of Coachella, Because Duh..."
            ]
          },
          "metadata": {
            "tags": []
          },
          "execution_count": 14
        }
      ]
    },
    {
      "cell_type": "code",
      "metadata": {
        "colab": {
          "base_uri": "https://localhost:8080/"
        },
        "id": "4f86HKTkZOV6",
        "outputId": "b286dad3-7a40-4be4-92ba-48e7aa625512"
      },
      "source": [
        "articles.dtypes"
      ],
      "execution_count": 15,
      "outputs": [
        {
          "output_type": "execute_result",
          "data": {
            "text/plain": [
              "id          int64\n",
              "content    object\n",
              "dtype: object"
            ]
          },
          "metadata": {
            "tags": []
          },
          "execution_count": 15
        }
      ]
    },
    {
      "cell_type": "code",
      "metadata": {
        "id": "va1EKj7mt170"
      },
      "source": [
        "\n",
        "def createCorpusDict(dataFrame):\n",
        "    #cleanse the text\n",
        "    dataFrame.content = dataFrame.content.astype(str)\n",
        "    data = dataFrame.content.values.tolist()\n",
        "    data = [re.sub('\\S*@\\S*\\s?', '', sent) for sent in data]\n",
        "    # Remove new line characters\n",
        "    data = [re.sub('\\s+', ' ', sent) for sent in data]\n",
        "    # Remove distracting single quotes\n",
        "    data = [re.sub(\"\\'\", \"\", sent) for sent in data]\n",
        "    data_words = list(sent_to_words(data))\n",
        "    \n",
        "    bigram = gensim.models.Phrases(data_words, min_count=5, threshold=100) # higher threshold fewer phrases.\n",
        "    trigram = gensim.models.Phrases(bigram[data_words], threshold=100)  \n",
        "\n",
        "    bigram_mod = gensim.models.phrases.Phraser(bigram)\n",
        "    trigram_mod = gensim.models.phrases.Phraser(trigram)\n",
        "\n",
        "    data_words_nostops = remove_stopwords(data_words)\n",
        "\n",
        "    # Form Bigrams\n",
        "    data_words_bigrams = make_bigrams(data_words_nostops,bigram_mod)\n",
        "\n",
        "    # Initialize spacy 'en' model, keeping only tagger component (for efficiency)\n",
        "    # python3 -m spacy download en\n",
        "\n",
        "\n",
        "    # Do lemmatization keeping only noun, adj, vb, adv\n",
        "    data_lemmatized = lemmatization(data_words_bigrams, allowed_postags=['NOUN', 'ADJ', 'VERB', 'ADV'])\n",
        "\n",
        "    #cleanse the dictionary\n",
        "    dictionary = corpora.Dictionary(data_lemmatized)\n",
        "    # Create Corpus\n",
        "    texts = data_lemmatized\n",
        "    # Term Document Frequency\n",
        "    corpus = [dictionary.doc2bow(text) for text in texts]\n",
        "    \n",
        "    return corpus,dictionary,data_lemmatized"
      ],
      "execution_count": 20,
      "outputs": []
    },
    {
      "cell_type": "code",
      "metadata": {
        "colab": {
          "base_uri": "https://localhost:8080/"
        },
        "id": "a0YGzl4ewfzk",
        "outputId": "cd8923b3-9f88-48f9-9ad7-e195788a03ef"
      },
      "source": [
        "corpus, dictionary, data_lemmatized = createCorpusDict(articles)"
      ],
      "execution_count": null,
      "outputs": [
        {
          "output_type": "stream",
          "text": [
            "/usr/local/lib/python3.7/dist-packages/gensim/models/phrases.py:598: UserWarning: For a faster implementation, use the gensim.models.phrases.Phraser class\n",
            "  warnings.warn(\"For a faster implementation, use the gensim.models.phrases.Phraser class\")\n"
          ],
          "name": "stderr"
        }
      ]
    },
    {
      "cell_type": "code",
      "metadata": {
        "id": "6Ajf-sxPa1l4"
      },
      "source": [
        "import pickle\n",
        "\n",
        "filehandler = open(\"corpus.pkl\",\"wb\")\n",
        "pickle.dump(corpus,filehandler)\n",
        "filehandler.close()\n",
        "\n",
        "filehandler = open(\"dictionary.pkl\",\"wb\")\n",
        "pickle.dump(dictionary,filehandler)\n",
        "filehandler.close()\n",
        "\n",
        "filehandler = open(\"data_lemmatized.pkl\",\"wb\")\n",
        "pickle.dump(data_lemmatized,filehandler)\n",
        "filehandler.close()"
      ],
      "execution_count": null,
      "outputs": []
    },
    {
      "cell_type": "code",
      "metadata": {
        "colab": {
          "background_save": true
        },
        "id": "qiSzjrqH1Mhk"
      },
      "source": [
        "#Train the Topic Modelling\n",
        "lda_model = gensim.models.ldamodel.LdaModel(corpus=corpus,\n",
        "                                           id2word=dictionary,\n",
        "                                           num_topics=20, \n",
        "                                           random_state=100,\n",
        "                                           update_every=1,\n",
        "                                           chunksize=100,\n",
        "                                           passes=10,\n",
        "                                           alpha='auto',\n",
        "                                           per_word_topics=True)"
      ],
      "execution_count": null,
      "outputs": []
    },
    {
      "cell_type": "code",
      "metadata": {
        "id": "leV8fCI_3eqT"
      },
      "source": [
        "pprint(lda_model.print_topics())\n",
        "doc_lda = lda_model[corpus]\n",
        "doc_lda"
      ],
      "execution_count": null,
      "outputs": []
    },
    {
      "cell_type": "code",
      "metadata": {
        "id": "T8908n193jYK"
      },
      "source": [
        "# Compute Perplexity\n",
        "print('\\nPerplexity: ', lda_model.log_perplexity(corpus))  # a measure of how good the model is. lower the better.\n",
        "\n",
        "# Compute Coherence Score\n",
        "coherence_model_lda = CoherenceModel(model=lda_model, texts=data_lemmatized, dictionary=dictionary, coherence='c_v')\n",
        "coherence_lda = coherence_model_lda.get_coherence()\n",
        "print('\\nCoherence Score: ', coherence_lda)"
      ],
      "execution_count": null,
      "outputs": []
    },
    {
      "cell_type": "code",
      "metadata": {
        "id": "SPdRzctMF_Co"
      },
      "source": [
        "import pickle\n",
        "pkl_file = open('drive/My Drive/Top-Ex/data_lemmatized.pkl', 'rb')\n",
        "data_lemmatized = pickle.load(pkl_file)\n",
        "pkl_file.close()\n",
        "\n",
        "pkl_file = open('drive/My Drive/Top-Ex/dictionary.pkl', 'rb')\n",
        "dictionary = pickle.load(pkl_file)\n",
        "pkl_file.close()\n",
        "\n",
        "pkl_file = open('drive/My Drive/Top-Ex/corpus.pkl', 'rb')\n",
        "corpus = pickle.load(pkl_file)\n",
        "pkl_file.close()\n",
        "\n",
        "pkl_file = open('drive/My Drive/Top-Ex/lda_20_new.pkl', 'rb')\n",
        "lda_model = pickle.load(pkl_file)\n",
        "pkl_file.close()"
      ],
      "execution_count": null,
      "outputs": []
    },
    {
      "cell_type": "code",
      "metadata": {
        "id": "JGPH9v0W3m90"
      },
      "source": [
        "\n",
        "import pyLDAvis.gensim\n",
        "import pickle\n",
        "import pyLDAvis\n",
        "pyLDAvis.enable_notebook()\n",
        "vis = pyLDAvis.gensim.prepare(lda_model, corpus, id2word)\n",
        "vis"
      ],
      "execution_count": null,
      "outputs": []
    },
    {
      "cell_type": "code",
      "metadata": {
        "id": "gFCXBUg33u6R"
      },
      "source": [
        "gamma, _ = lda_model.inference(corpus)\n",
        "topics = gamma / gamma.sum(axis=1)[:,None]"
      ],
      "execution_count": null,
      "outputs": []
    },
    {
      "cell_type": "code",
      "metadata": {
        "id": "1E5aQ79Z3zWt",
        "colab": {
          "base_uri": "https://localhost:8080/",
          "height": 224
        },
        "outputId": "dd9aecca-2d75-4ae3-e65b-90be66e43e98"
      },
      "source": [
        "topics = pd.DataFrame(topics)\n",
        "topics.reset_index(drop=True)\n",
        "topics.rename(columns = lambda x: 'Topic_'+str(x+1).zfill(2), inplace=True)\n",
        "topics.head()"
      ],
      "execution_count": null,
      "outputs": [
        {
          "output_type": "execute_result",
          "data": {
            "text/html": [
              "<div>\n",
              "<style scoped>\n",
              "    .dataframe tbody tr th:only-of-type {\n",
              "        vertical-align: middle;\n",
              "    }\n",
              "\n",
              "    .dataframe tbody tr th {\n",
              "        vertical-align: top;\n",
              "    }\n",
              "\n",
              "    .dataframe thead th {\n",
              "        text-align: right;\n",
              "    }\n",
              "</style>\n",
              "<table border=\"1\" class=\"dataframe\">\n",
              "  <thead>\n",
              "    <tr style=\"text-align: right;\">\n",
              "      <th></th>\n",
              "      <th>Topic_01</th>\n",
              "      <th>Topic_02</th>\n",
              "      <th>Topic_03</th>\n",
              "      <th>Topic_04</th>\n",
              "      <th>Topic_05</th>\n",
              "      <th>Topic_06</th>\n",
              "      <th>Topic_07</th>\n",
              "      <th>Topic_08</th>\n",
              "      <th>Topic_09</th>\n",
              "      <th>Topic_10</th>\n",
              "      <th>Topic_11</th>\n",
              "      <th>Topic_12</th>\n",
              "      <th>Topic_13</th>\n",
              "      <th>Topic_14</th>\n",
              "      <th>Topic_15</th>\n",
              "      <th>Topic_16</th>\n",
              "      <th>Topic_17</th>\n",
              "      <th>Topic_18</th>\n",
              "      <th>Topic_19</th>\n",
              "      <th>Topic_20</th>\n",
              "    </tr>\n",
              "  </thead>\n",
              "  <tbody>\n",
              "    <tr>\n",
              "      <th>0</th>\n",
              "      <td>0.067322</td>\n",
              "      <td>0.007678</td>\n",
              "      <td>0.000438</td>\n",
              "      <td>0.243083</td>\n",
              "      <td>0.005309</td>\n",
              "      <td>0.000731</td>\n",
              "      <td>0.006883</td>\n",
              "      <td>0.086805</td>\n",
              "      <td>0.071966</td>\n",
              "      <td>0.001694</td>\n",
              "      <td>0.022597</td>\n",
              "      <td>0.010804</td>\n",
              "      <td>0.133596</td>\n",
              "      <td>0.000640</td>\n",
              "      <td>0.000602</td>\n",
              "      <td>0.005302</td>\n",
              "      <td>0.333108</td>\n",
              "      <td>0.000389</td>\n",
              "      <td>0.000407</td>\n",
              "      <td>0.000643</td>\n",
              "    </tr>\n",
              "    <tr>\n",
              "      <th>1</th>\n",
              "      <td>0.021442</td>\n",
              "      <td>0.087206</td>\n",
              "      <td>0.014915</td>\n",
              "      <td>0.002733</td>\n",
              "      <td>0.001883</td>\n",
              "      <td>0.030547</td>\n",
              "      <td>0.009134</td>\n",
              "      <td>0.033421</td>\n",
              "      <td>0.097003</td>\n",
              "      <td>0.045649</td>\n",
              "      <td>0.148593</td>\n",
              "      <td>0.004537</td>\n",
              "      <td>0.140650</td>\n",
              "      <td>0.020172</td>\n",
              "      <td>0.278967</td>\n",
              "      <td>0.007261</td>\n",
              "      <td>0.047378</td>\n",
              "      <td>0.001608</td>\n",
              "      <td>0.001532</td>\n",
              "      <td>0.005370</td>\n",
              "    </tr>\n",
              "    <tr>\n",
              "      <th>2</th>\n",
              "      <td>0.004298</td>\n",
              "      <td>0.082594</td>\n",
              "      <td>0.008812</td>\n",
              "      <td>0.003834</td>\n",
              "      <td>0.002370</td>\n",
              "      <td>0.086435</td>\n",
              "      <td>0.010681</td>\n",
              "      <td>0.064172</td>\n",
              "      <td>0.013705</td>\n",
              "      <td>0.022234</td>\n",
              "      <td>0.122880</td>\n",
              "      <td>0.019330</td>\n",
              "      <td>0.175133</td>\n",
              "      <td>0.018992</td>\n",
              "      <td>0.024341</td>\n",
              "      <td>0.189761</td>\n",
              "      <td>0.067170</td>\n",
              "      <td>0.046291</td>\n",
              "      <td>0.036694</td>\n",
              "      <td>0.000275</td>\n",
              "    </tr>\n",
              "    <tr>\n",
              "      <th>3</th>\n",
              "      <td>0.014538</td>\n",
              "      <td>0.075287</td>\n",
              "      <td>0.018987</td>\n",
              "      <td>0.000233</td>\n",
              "      <td>0.067784</td>\n",
              "      <td>0.039817</td>\n",
              "      <td>0.006462</td>\n",
              "      <td>0.131653</td>\n",
              "      <td>0.044122</td>\n",
              "      <td>0.004669</td>\n",
              "      <td>0.059677</td>\n",
              "      <td>0.005896</td>\n",
              "      <td>0.221646</td>\n",
              "      <td>0.014398</td>\n",
              "      <td>0.025254</td>\n",
              "      <td>0.213624</td>\n",
              "      <td>0.030434</td>\n",
              "      <td>0.005583</td>\n",
              "      <td>0.019625</td>\n",
              "      <td>0.000310</td>\n",
              "    </tr>\n",
              "    <tr>\n",
              "      <th>4</th>\n",
              "      <td>0.001945</td>\n",
              "      <td>0.035472</td>\n",
              "      <td>0.037059</td>\n",
              "      <td>0.000629</td>\n",
              "      <td>0.015938</td>\n",
              "      <td>0.000957</td>\n",
              "      <td>0.001271</td>\n",
              "      <td>0.054531</td>\n",
              "      <td>0.006660</td>\n",
              "      <td>0.001672</td>\n",
              "      <td>0.015477</td>\n",
              "      <td>0.002575</td>\n",
              "      <td>0.177025</td>\n",
              "      <td>0.273508</td>\n",
              "      <td>0.012672</td>\n",
              "      <td>0.002322</td>\n",
              "      <td>0.260723</td>\n",
              "      <td>0.071673</td>\n",
              "      <td>0.002247</td>\n",
              "      <td>0.025643</td>\n",
              "    </tr>\n",
              "  </tbody>\n",
              "</table>\n",
              "</div>"
            ],
            "text/plain": [
              "   Topic_01  Topic_02  Topic_03  ...  Topic_18  Topic_19  Topic_20\n",
              "0  0.067322  0.007678  0.000438  ...  0.000389  0.000407  0.000643\n",
              "1  0.021442  0.087206  0.014915  ...  0.001608  0.001532  0.005370\n",
              "2  0.004298  0.082594  0.008812  ...  0.046291  0.036694  0.000275\n",
              "3  0.014538  0.075287  0.018987  ...  0.005583  0.019625  0.000310\n",
              "4  0.001945  0.035472  0.037059  ...  0.071673  0.002247  0.025643\n",
              "\n",
              "[5 rows x 20 columns]"
            ]
          },
          "metadata": {
            "tags": []
          },
          "execution_count": 6
        }
      ]
    },
    {
      "cell_type": "code",
      "metadata": {
        "colab": {
          "base_uri": "https://localhost:8080/",
          "height": 599
        },
        "id": "mY8OeoQcPUAD",
        "outputId": "6d35bf27-d273-4daa-a57a-00ef38ced27a"
      },
      "source": [
        "finalData = pd.concat([articles,topics], axis=1,sort=False)\n",
        "finalData.head()"
      ],
      "execution_count": null,
      "outputs": [
        {
          "output_type": "execute_result",
          "data": {
            "text/html": [
              "<div>\n",
              "<style scoped>\n",
              "    .dataframe tbody tr th:only-of-type {\n",
              "        vertical-align: middle;\n",
              "    }\n",
              "\n",
              "    .dataframe tbody tr th {\n",
              "        vertical-align: top;\n",
              "    }\n",
              "\n",
              "    .dataframe thead th {\n",
              "        text-align: right;\n",
              "    }\n",
              "</style>\n",
              "<table border=\"1\" class=\"dataframe\">\n",
              "  <thead>\n",
              "    <tr style=\"text-align: right;\">\n",
              "      <th></th>\n",
              "      <th>id</th>\n",
              "      <th>content</th>\n",
              "      <th>Topic_01</th>\n",
              "      <th>Topic_02</th>\n",
              "      <th>Topic_03</th>\n",
              "      <th>Topic_04</th>\n",
              "      <th>Topic_05</th>\n",
              "      <th>Topic_06</th>\n",
              "      <th>Topic_07</th>\n",
              "      <th>Topic_08</th>\n",
              "      <th>Topic_09</th>\n",
              "      <th>Topic_10</th>\n",
              "      <th>Topic_11</th>\n",
              "      <th>Topic_12</th>\n",
              "      <th>Topic_13</th>\n",
              "      <th>Topic_14</th>\n",
              "      <th>Topic_15</th>\n",
              "      <th>Topic_16</th>\n",
              "      <th>Topic_17</th>\n",
              "      <th>Topic_18</th>\n",
              "      <th>Topic_19</th>\n",
              "      <th>Topic_20</th>\n",
              "    </tr>\n",
              "  </thead>\n",
              "  <tbody>\n",
              "    <tr>\n",
              "      <th>0</th>\n",
              "      <td>17283</td>\n",
              "      <td>House Republicans Fret About Winning Their Hea...</td>\n",
              "      <td>0.067322</td>\n",
              "      <td>0.007678</td>\n",
              "      <td>0.000438</td>\n",
              "      <td>0.243083</td>\n",
              "      <td>0.005309</td>\n",
              "      <td>0.000731</td>\n",
              "      <td>0.006883</td>\n",
              "      <td>0.086805</td>\n",
              "      <td>0.071966</td>\n",
              "      <td>0.001694</td>\n",
              "      <td>0.022597</td>\n",
              "      <td>0.010804</td>\n",
              "      <td>0.133596</td>\n",
              "      <td>0.000640</td>\n",
              "      <td>0.000602</td>\n",
              "      <td>0.005302</td>\n",
              "      <td>0.333108</td>\n",
              "      <td>0.000389</td>\n",
              "      <td>0.000407</td>\n",
              "      <td>0.000643</td>\n",
              "    </tr>\n",
              "    <tr>\n",
              "      <th>1</th>\n",
              "      <td>17284</td>\n",
              "      <td>Rift Between Officers and Residents as Killing...</td>\n",
              "      <td>0.021442</td>\n",
              "      <td>0.087206</td>\n",
              "      <td>0.014915</td>\n",
              "      <td>0.002733</td>\n",
              "      <td>0.001883</td>\n",
              "      <td>0.030547</td>\n",
              "      <td>0.009134</td>\n",
              "      <td>0.033421</td>\n",
              "      <td>0.097003</td>\n",
              "      <td>0.045649</td>\n",
              "      <td>0.148593</td>\n",
              "      <td>0.004537</td>\n",
              "      <td>0.140650</td>\n",
              "      <td>0.020172</td>\n",
              "      <td>0.278967</td>\n",
              "      <td>0.007261</td>\n",
              "      <td>0.047378</td>\n",
              "      <td>0.001608</td>\n",
              "      <td>0.001532</td>\n",
              "      <td>0.005370</td>\n",
              "    </tr>\n",
              "    <tr>\n",
              "      <th>2</th>\n",
              "      <td>17285</td>\n",
              "      <td>Tyrus Wong, ‘Bambi’ Artist Thwarted by Racial ...</td>\n",
              "      <td>0.004298</td>\n",
              "      <td>0.082594</td>\n",
              "      <td>0.008812</td>\n",
              "      <td>0.003834</td>\n",
              "      <td>0.002370</td>\n",
              "      <td>0.086435</td>\n",
              "      <td>0.010681</td>\n",
              "      <td>0.064172</td>\n",
              "      <td>0.013705</td>\n",
              "      <td>0.022234</td>\n",
              "      <td>0.122880</td>\n",
              "      <td>0.019330</td>\n",
              "      <td>0.175133</td>\n",
              "      <td>0.018992</td>\n",
              "      <td>0.024341</td>\n",
              "      <td>0.189761</td>\n",
              "      <td>0.067170</td>\n",
              "      <td>0.046291</td>\n",
              "      <td>0.036694</td>\n",
              "      <td>0.000275</td>\n",
              "    </tr>\n",
              "    <tr>\n",
              "      <th>3</th>\n",
              "      <td>17286</td>\n",
              "      <td>Among Deaths in 2016, a Heavy Toll in Pop Musi...</td>\n",
              "      <td>0.014538</td>\n",
              "      <td>0.075287</td>\n",
              "      <td>0.018987</td>\n",
              "      <td>0.000233</td>\n",
              "      <td>0.067784</td>\n",
              "      <td>0.039817</td>\n",
              "      <td>0.006462</td>\n",
              "      <td>0.131653</td>\n",
              "      <td>0.044122</td>\n",
              "      <td>0.004669</td>\n",
              "      <td>0.059677</td>\n",
              "      <td>0.005896</td>\n",
              "      <td>0.221646</td>\n",
              "      <td>0.014398</td>\n",
              "      <td>0.025254</td>\n",
              "      <td>0.213624</td>\n",
              "      <td>0.030434</td>\n",
              "      <td>0.005583</td>\n",
              "      <td>0.019625</td>\n",
              "      <td>0.000310</td>\n",
              "    </tr>\n",
              "    <tr>\n",
              "      <th>4</th>\n",
              "      <td>17287</td>\n",
              "      <td>Kim Jong-un Says North Korea Is Preparing to T...</td>\n",
              "      <td>0.001945</td>\n",
              "      <td>0.035472</td>\n",
              "      <td>0.037059</td>\n",
              "      <td>0.000629</td>\n",
              "      <td>0.015938</td>\n",
              "      <td>0.000957</td>\n",
              "      <td>0.001271</td>\n",
              "      <td>0.054531</td>\n",
              "      <td>0.006660</td>\n",
              "      <td>0.001672</td>\n",
              "      <td>0.015477</td>\n",
              "      <td>0.002575</td>\n",
              "      <td>0.177025</td>\n",
              "      <td>0.273508</td>\n",
              "      <td>0.012672</td>\n",
              "      <td>0.002322</td>\n",
              "      <td>0.260723</td>\n",
              "      <td>0.071673</td>\n",
              "      <td>0.002247</td>\n",
              "      <td>0.025643</td>\n",
              "    </tr>\n",
              "  </tbody>\n",
              "</table>\n",
              "</div>"
            ],
            "text/plain": [
              "      id                                            content  ...  Topic_19  Topic_20\n",
              "0  17283  House Republicans Fret About Winning Their Hea...  ...  0.000407  0.000643\n",
              "1  17284  Rift Between Officers and Residents as Killing...  ...  0.001532  0.005370\n",
              "2  17285  Tyrus Wong, ‘Bambi’ Artist Thwarted by Racial ...  ...  0.036694  0.000275\n",
              "3  17286  Among Deaths in 2016, a Heavy Toll in Pop Musi...  ...  0.019625  0.000310\n",
              "4  17287  Kim Jong-un Says North Korea Is Preparing to T...  ...  0.002247  0.025643\n",
              "\n",
              "[5 rows x 22 columns]"
            ]
          },
          "metadata": {
            "tags": []
          },
          "execution_count": 11
        }
      ]
    },
    {
      "cell_type": "code",
      "metadata": {
        "colab": {
          "base_uri": "https://localhost:8080/",
          "height": 599
        },
        "id": "8a8CAFTWW2rg",
        "outputId": "a9954d0d-fdc1-4843-fe05-1601cfe95a2f"
      },
      "source": [
        "finalData.head()"
      ],
      "execution_count": null,
      "outputs": [
        {
          "output_type": "execute_result",
          "data": {
            "text/html": [
              "<div>\n",
              "<style scoped>\n",
              "    .dataframe tbody tr th:only-of-type {\n",
              "        vertical-align: middle;\n",
              "    }\n",
              "\n",
              "    .dataframe tbody tr th {\n",
              "        vertical-align: top;\n",
              "    }\n",
              "\n",
              "    .dataframe thead th {\n",
              "        text-align: right;\n",
              "    }\n",
              "</style>\n",
              "<table border=\"1\" class=\"dataframe\">\n",
              "  <thead>\n",
              "    <tr style=\"text-align: right;\">\n",
              "      <th></th>\n",
              "      <th>id</th>\n",
              "      <th>content</th>\n",
              "      <th>Topic_01</th>\n",
              "      <th>Topic_02</th>\n",
              "      <th>Topic_03</th>\n",
              "      <th>Topic_04</th>\n",
              "      <th>Topic_05</th>\n",
              "      <th>Topic_06</th>\n",
              "      <th>Topic_07</th>\n",
              "      <th>Topic_08</th>\n",
              "      <th>Topic_09</th>\n",
              "      <th>Topic_10</th>\n",
              "      <th>Topic_11</th>\n",
              "      <th>Topic_12</th>\n",
              "      <th>Topic_13</th>\n",
              "      <th>Topic_14</th>\n",
              "      <th>Topic_15</th>\n",
              "      <th>Topic_16</th>\n",
              "      <th>Topic_17</th>\n",
              "      <th>Topic_18</th>\n",
              "      <th>Topic_19</th>\n",
              "      <th>Topic_20</th>\n",
              "    </tr>\n",
              "  </thead>\n",
              "  <tbody>\n",
              "    <tr>\n",
              "      <th>0</th>\n",
              "      <td>17283</td>\n",
              "      <td>House Republicans Fret About Winning Their Hea...</td>\n",
              "      <td>0.067322</td>\n",
              "      <td>0.007678</td>\n",
              "      <td>0.000438</td>\n",
              "      <td>0.243083</td>\n",
              "      <td>0.005309</td>\n",
              "      <td>0.000731</td>\n",
              "      <td>0.006883</td>\n",
              "      <td>0.086805</td>\n",
              "      <td>0.071966</td>\n",
              "      <td>0.001694</td>\n",
              "      <td>0.022597</td>\n",
              "      <td>0.010804</td>\n",
              "      <td>0.133596</td>\n",
              "      <td>0.000640</td>\n",
              "      <td>0.000602</td>\n",
              "      <td>0.005302</td>\n",
              "      <td>0.333108</td>\n",
              "      <td>0.000389</td>\n",
              "      <td>0.000407</td>\n",
              "      <td>0.000643</td>\n",
              "    </tr>\n",
              "    <tr>\n",
              "      <th>1</th>\n",
              "      <td>17284</td>\n",
              "      <td>Rift Between Officers and Residents as Killing...</td>\n",
              "      <td>0.021442</td>\n",
              "      <td>0.087206</td>\n",
              "      <td>0.014915</td>\n",
              "      <td>0.002733</td>\n",
              "      <td>0.001883</td>\n",
              "      <td>0.030547</td>\n",
              "      <td>0.009134</td>\n",
              "      <td>0.033421</td>\n",
              "      <td>0.097003</td>\n",
              "      <td>0.045649</td>\n",
              "      <td>0.148593</td>\n",
              "      <td>0.004537</td>\n",
              "      <td>0.140650</td>\n",
              "      <td>0.020172</td>\n",
              "      <td>0.278967</td>\n",
              "      <td>0.007261</td>\n",
              "      <td>0.047378</td>\n",
              "      <td>0.001608</td>\n",
              "      <td>0.001532</td>\n",
              "      <td>0.005370</td>\n",
              "    </tr>\n",
              "    <tr>\n",
              "      <th>2</th>\n",
              "      <td>17285</td>\n",
              "      <td>Tyrus Wong, ‘Bambi’ Artist Thwarted by Racial ...</td>\n",
              "      <td>0.004298</td>\n",
              "      <td>0.082594</td>\n",
              "      <td>0.008812</td>\n",
              "      <td>0.003834</td>\n",
              "      <td>0.002370</td>\n",
              "      <td>0.086435</td>\n",
              "      <td>0.010681</td>\n",
              "      <td>0.064172</td>\n",
              "      <td>0.013705</td>\n",
              "      <td>0.022234</td>\n",
              "      <td>0.122880</td>\n",
              "      <td>0.019330</td>\n",
              "      <td>0.175133</td>\n",
              "      <td>0.018992</td>\n",
              "      <td>0.024341</td>\n",
              "      <td>0.189761</td>\n",
              "      <td>0.067170</td>\n",
              "      <td>0.046291</td>\n",
              "      <td>0.036694</td>\n",
              "      <td>0.000275</td>\n",
              "    </tr>\n",
              "    <tr>\n",
              "      <th>3</th>\n",
              "      <td>17286</td>\n",
              "      <td>Among Deaths in 2016, a Heavy Toll in Pop Musi...</td>\n",
              "      <td>0.014538</td>\n",
              "      <td>0.075287</td>\n",
              "      <td>0.018987</td>\n",
              "      <td>0.000233</td>\n",
              "      <td>0.067784</td>\n",
              "      <td>0.039817</td>\n",
              "      <td>0.006462</td>\n",
              "      <td>0.131653</td>\n",
              "      <td>0.044122</td>\n",
              "      <td>0.004669</td>\n",
              "      <td>0.059677</td>\n",
              "      <td>0.005896</td>\n",
              "      <td>0.221646</td>\n",
              "      <td>0.014398</td>\n",
              "      <td>0.025254</td>\n",
              "      <td>0.213624</td>\n",
              "      <td>0.030434</td>\n",
              "      <td>0.005583</td>\n",
              "      <td>0.019625</td>\n",
              "      <td>0.000310</td>\n",
              "    </tr>\n",
              "    <tr>\n",
              "      <th>4</th>\n",
              "      <td>17287</td>\n",
              "      <td>Kim Jong-un Says North Korea Is Preparing to T...</td>\n",
              "      <td>0.001945</td>\n",
              "      <td>0.035472</td>\n",
              "      <td>0.037059</td>\n",
              "      <td>0.000629</td>\n",
              "      <td>0.015938</td>\n",
              "      <td>0.000957</td>\n",
              "      <td>0.001271</td>\n",
              "      <td>0.054531</td>\n",
              "      <td>0.006660</td>\n",
              "      <td>0.001672</td>\n",
              "      <td>0.015477</td>\n",
              "      <td>0.002575</td>\n",
              "      <td>0.177025</td>\n",
              "      <td>0.273508</td>\n",
              "      <td>0.012672</td>\n",
              "      <td>0.002322</td>\n",
              "      <td>0.260723</td>\n",
              "      <td>0.071673</td>\n",
              "      <td>0.002247</td>\n",
              "      <td>0.025643</td>\n",
              "    </tr>\n",
              "  </tbody>\n",
              "</table>\n",
              "</div>"
            ],
            "text/plain": [
              "      id                                            content  ...  Topic_19  Topic_20\n",
              "0  17283  House Republicans Fret About Winning Their Hea...  ...  0.000407  0.000643\n",
              "1  17284  Rift Between Officers and Residents as Killing...  ...  0.001532  0.005370\n",
              "2  17285  Tyrus Wong, ‘Bambi’ Artist Thwarted by Racial ...  ...  0.036694  0.000275\n",
              "3  17286  Among Deaths in 2016, a Heavy Toll in Pop Musi...  ...  0.019625  0.000310\n",
              "4  17287  Kim Jong-un Says North Korea Is Preparing to T...  ...  0.002247  0.025643\n",
              "\n",
              "[5 rows x 22 columns]"
            ]
          },
          "metadata": {
            "tags": []
          },
          "execution_count": 12
        }
      ]
    },
    {
      "cell_type": "code",
      "metadata": {
        "id": "nL7s4UW7Z7sz"
      },
      "source": [
        "output3 = open('drive/My Drive/Top-Ex/articles_topic_20.pkl', 'wb')\n",
        "pickle.dump(finalData, output3)\n",
        "output3.close()"
      ],
      "execution_count": null,
      "outputs": []
    },
    {
      "cell_type": "code",
      "metadata": {
        "id": "H1ywXBmdW8gZ"
      },
      "source": [
        "import pandas as pd\n",
        "from sklearn.feature_extraction.text import CountVectorizer, TfidfVectorizer\n",
        "\n",
        "CountVec = CountVectorizer(ngram_range=(1,1), # to use bigrams ngram_range=(2,2)\n",
        "                           stop_words='english')\n",
        "#transform\n",
        "Count_data = CountVec.fit_transform()\n",
        " \n",
        "#create dataframe\n",
        "cv_dataframe=pd.DataFrame(Count_data.toarray(),columns=CountVec.get_feature_names())\n",
        "print(cv_dataframe)"
      ],
      "execution_count": null,
      "outputs": []
    }
  ]
}